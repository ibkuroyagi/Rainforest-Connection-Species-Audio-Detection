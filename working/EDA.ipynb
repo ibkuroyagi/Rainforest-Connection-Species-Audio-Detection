{
 "cells": [
  {
   "cell_type": "code",
   "execution_count": 1,
   "metadata": {
    "tags": []
   },
   "outputs": [],
   "source": [
    "import random\n",
    "import colorednoise as cn\n",
    "import pandas as pd\n",
    "import librosa\n",
    "import numpy as np\n",
    "import pandas as pd\n",
    "import matplotlib.pyplot as plt\n",
    "import os\n",
    "import sys\n",
    "import torch\n",
    "import torch.nn as nn\n",
    "import torchvision\n",
    "import torchvision.models as models\n",
    "import yaml\n",
    "import torch.nn.functional as F\n",
    "from torchlibrosa.augmentation import SpecAugmentation\n",
    "from torch.utils.data import DataLoader\n",
    "from tqdm import tqdm_notebook as tqdm\n",
    "from IPython.display import Audio\n",
    "from efficientnet_pytorch import EfficientNet\n",
    "sys.path.append(\"../input/modules\")\n",
    "import datasets\n",
    "from datasets import RainForestDataset\n",
    "from datasets.augmentation import *\n",
    "from utils import logmelfilterbank\n",
    "from utils import read_hdf5\n",
    "from utils import down_sampler\n",
    "from utils import get_concat_down_frame\n",
    "from utils import get_down_sample_matrix\n",
    "from models.conformer import *\n",
    "from models import *\n",
    "from losses import FrameClipLoss\n",
    "from datasets import FeatTrainCollater\n",
    "from datasets import FeatEvalCollater\n",
    "from utils import lwlrap\n",
    "sys.path.append(\"../input/iterative-stratification-master\")\n",
    "from iterstrat.ml_stratifiers import MultilabelStratifiedKFold\n",
    "%load_ext autoreload\n",
    "%autoreload 2"
   ]
  },
  {
   "cell_type": "code",
   "execution_count": 2,
   "metadata": {},
   "outputs": [],
   "source": [
    "train_tp = pd.read_csv('../input/rfcx-species-audio-detection/train_tp.csv')\n",
    "train_fp = pd.read_csv('../input/rfcx-species-audio-detection/train_fp.csv')\n",
    "submission = pd.read_csv('../input/rfcx-species-audio-detection/sample_submission.csv')\n",
    "tmp = pd.DataFrame(train_tp[\"recording_id\"].value_counts()).reset_index().rename(columns={'index': 'recording_id', \"recording_id\": \"count\"})\n",
    "train_tp[\"t_diff\"] = train_tp[\"t_max\"] - train_tp[\"t_min\"]\n",
    "train_tp[\"f_diff\"] = train_tp[\"f_max\"] - train_tp[\"f_min\"]\n",
    "train_fp[\"t_diff\"] = train_fp[\"t_max\"] - train_fp[\"t_min\"]\n",
    "train_fp[\"f_diff\"] = train_fp[\"f_max\"] - train_fp[\"f_min\"]\n",
    "train_tp = pd.merge(train_tp, tmp, on=\"recording_id\", how='inner')\n",
    "train_tp[\"count\"].value_counts()\n",
    "tp_list = train_tp[\"recording_id\"].unique()\n",
    "fp_list = train_fp[\"recording_id\"].unique()"
   ]
  },
  {
   "cell_type": "code",
   "execution_count": null,
   "metadata": {},
   "outputs": [],
   "source": [
    "tmp = pd.DataFrame(train_fp[\"recording_id\"].value_counts()).reset_index().rename(columns={'index': 'recording_id', \"recording_id\": \"count\"})\n",
    "train_fp = pd.merge(train_fp, tmp, on=\"recording_id\", how='inner')\n",
    "train_fp[\"count\"].value_counts()"
   ]
  },
  {
   "cell_type": "code",
   "execution_count": null,
   "metadata": {
    "tags": []
   },
   "outputs": [],
   "source": [
    "train_path_list = os.listdir(\"../input/rfcx-species-audio-detection/train\")\n",
    "test_path_list = os.listdir(\"../input/rfcx-species-audio-detection/test\")\n",
    "print(f\"train:{len(train_path_list)}, test:{len(test_path_list)}\")\n",
    "# print(\"train\")\n",
    "# for path in tqdm(train_path_list):\n",
    "#     path = os.path.join(\"../input/rfcx-species-audio-detection/train\", path)\n",
    "#     y, sr = librosa.load(path=path, sr=None)\n",
    "#     if (sr != 48000) or (len(y) != 2880000):\n",
    "#         print(path, y.shape, sr)\n",
    "# print(\"test\")\n",
    "# for path in tqdm(test_path_list):\n",
    "#     path = os.path.join(\"../input/rfcx-species-audio-detection/test\", path)\n",
    "#     y, sr = librosa.load(path=path, sr=None)\n",
    "#     if (sr != 48000) or (len(y) != 2880000):\n",
    "#         print(path, y.shape, sr)"
   ]
  },
  {
   "cell_type": "code",
   "execution_count": null,
   "metadata": {},
   "outputs": [],
   "source": [
    "path = \"dump/wave/train/551385b05.h5\" # \"dump/wave/train/c12e0a62b.h5\"\n",
    "wave = read_hdf5(hdf5_name=path, hdf5_path=\"wave\")\n",
    "mel = read_hdf5(hdf5_name=path, hdf5_path=\"feats\")\n",
    "matrix_tp = read_hdf5(hdf5_name=path, hdf5_path=\"matrix_tp\")\n",
    "matrix_fp = read_hdf5(hdf5_name=path, hdf5_path=\"matrix_fp\")\n",
    "\n",
    "# plt.figure(figsize=(16, 8))\n",
    "# plt.subplot(2, 2, 1)\n",
    "# plt.plot(wave)\n",
    "# plt.subplot(2, 2, 2)\n",
    "# plt.imshow(mel.T, aspect=\"auto\")\n",
    "# plt.colorbar()\n",
    "# plt.subplot(2, 2, 3)\n",
    "# plt.imshow(matrix_tp.T, aspect=\"auto\")\n",
    "# plt.subplot(2, 2, 4)\n",
    "# plt.imshow(matrix_fp.T, aspect=\"auto\")\n",
    "# plt.colorbar()"
   ]
  },
  {
   "cell_type": "code",
   "execution_count": null,
   "metadata": {
    "tags": []
   },
   "outputs": [],
   "source": [
    "y_frame = torch.stack([torch.tensor(down_sampler(matrix_tp[3000:3512])), torch.tensor(down_sampler(matrix_tp[4500:5012]))], dim=0)\n",
    "y_clip = torch.tensor((y_frame>0).any(axis=1), dtype=torch.float)\n",
    "x_batch = torch.stack([torch.tensor(mel[3000:3512]), torch.tensor(mel[4500:5012])], dim=0).transpose(2,1)\n",
    "print(y_frame.shape, y_clip.shape)\n",
    "model = Cnn14_DecisionLevelAtt(sample_rate=16000,\n",
    "        window_size=1024,\n",
    "        hop_size=256,\n",
    "        mel_bins=64,\n",
    "        fmin=50,\n",
    "        fmax=8000,\n",
    "        classes_num=24,\n",
    "        training=False,\n",
    "        require_prep=False,\n",
    "        is_spec_augmenter=False,\n",
    "        mixup_lambda=None,)\n",
    "model.bn0 = nn.BatchNorm2d(128)\n",
    "y = model(x_batch)\n",
    "bce = nn.BCEWithLogitsLoss(reduction=\"mean\")\n",
    "print(y[\"y_frame\"].shape, y[\"y_clip\"].shape)"
   ]
  },
  {
   "cell_type": "code",
   "execution_count": null,
   "metadata": {},
   "outputs": [],
   "source": [
    "criterion = FrameClipLoss()\n",
    "loss = criterion(y[\"y_frame\"], y_frame, y[\"y_clip\"], y_clip)\n",
    "print(loss.item())\n",
    "loss.backward(retain_graph=True)\n",
    "# clip_loss = bce(y[\"y_clip\"], y_clip)\n",
    "# frame_loss = bce(y[\"y_frame\"], y_frame)\n",
    "# print(clip_loss.item())\n",
    "# print(frame_loss.item())\n",
    "# clip_loss.backward(retain_graph=True)\n",
    "# frame_loss.backward(retain_graph=True)\n"
   ]
  },
  {
   "cell_type": "code",
   "execution_count": 10,
   "metadata": {
    "tags": []
   },
   "outputs": [
    {
     "output_type": "stream",
     "name": "stdout",
     "text": [
      "torch.Size([64, 128, 512])\ntorch.Size([64, 16, 25])\ntorch.Size([64, 25])\n"
     ]
    }
   ],
   "source": [
    "columns = [\"recording_id\"] + [f\"s{i}\" for i in range(24)]\n",
    "ground_truth = pd.DataFrame(np.zeros((len(tp_list), 25)), columns=columns)\n",
    "ground_truth[\"recording_id\"] = train_tp[\"recording_id\"].unique()\n",
    "for i, recording_id in enumerate(train_tp[\"recording_id\"].values):\n",
    "    ground_truth.iloc[ground_truth[\"recording_id\"]==recording_id, train_tp.loc[i, \"species_id\"]+1] = 1.0\n",
    "\n",
    "kfold = MultilabelStratifiedKFold(n_splits=5, shuffle=True, random_state=1)\n",
    "y = ground_truth.iloc[:, 1:].values\n",
    "for i, (train_idx, valid_idx) in enumerate(kfold.split(y, y)):\n",
    "    train_y = ground_truth.iloc[train_idx]\n",
    "    valid_y = ground_truth.iloc[valid_idx]\n",
    "    if i == 0:\n",
    "        break\n",
    "train_dataset = RainForestDataset(\n",
    "    root_dirs=[\"dump/wave/train\"],\n",
    "    train_tp=train_tp,\n",
    "    train_fp=None,\n",
    "    keys=[\"feats\"],\n",
    "    mode=\"tp\",\n",
    "    is_normalize=False,\n",
    "    allow_cache=False,\n",
    "    seed=None,\n",
    ")\n",
    "eval_dataset = RainForestDataset(\n",
    "    files=[\n",
    "        os.path.join(\"dump/wave/train\", f\"{recording_id}.h5\")\n",
    "        for recording_id in tp_list[valid_idx]\n",
    "    ],\n",
    "    keys=[\"feats\", \"matrix_tp\"],\n",
    "    mode=\"test\",\n",
    "    is_normalize=False,\n",
    "    allow_cache=False,\n",
    "    seed=None,\n",
    "        )\n",
    "\n",
    "train_collater = FeatTrainCollater(\n",
    "    max_frames=512,\n",
    "    l_target=16,\n",
    "    mode=\"binary\",\n",
    "    random=False\n",
    ")\n",
    "eval_collater = FeatEvalCollater(\n",
    "    max_frames=512,\n",
    "    n_split=3,\n",
    "    is_label=True,\n",
    ")\n",
    "data_loader = {\n",
    "\"train\": DataLoader(\n",
    "        dataset=train_dataset,\n",
    "        batch_size=64,\n",
    "        collate_fn=train_collater,\n",
    "        shuffle=False,\n",
    "        num_workers=1,\n",
    "        pin_memory=False,\n",
    "    ),\n",
    "\"eval\": DataLoader(\n",
    "        eval_dataset,\n",
    "        batch_size=64,\n",
    "        shuffle=False,\n",
    "        collate_fn=eval_collater,\n",
    "        num_workers=1,\n",
    "        pin_memory=False,\n",
    "    ),\n",
    "}\n",
    "clip_list = []\n",
    "for i, batch in enumerate(data_loader[\"train\"]):\n",
    "    x = batch[\"X\"]\n",
    "    y_frame = batch[\"y_frame\"]\n",
    "    y_clip = batch[\"y_clip\"]\n",
    "    clip_list.append(y_clip)\n",
    "    print(x.shape)\n",
    "    print(y_frame.shape)\n",
    "    print(y_clip.shape)\n",
    "    if i == 0:\n",
    "        break"
   ]
  },
  {
   "cell_type": "code",
   "execution_count": null,
   "metadata": {},
   "outputs": [],
   "source": [
    "x1 = []\n",
    "y1_clip = []\n",
    "beginnings1 = []\n",
    "for i, batch in enumerate(data_loader[\"train\"]):\n",
    "    x1.append(batch[\"X\"])\n",
    "    y1_clip.append(batch[\"y_clip\"])\n",
    "    beginnings1.append(batch[\"beginnings\"])\n",
    "    if i == 0:\n",
    "        break\n",
    "x2 = []\n",
    "y2_clip = []\n",
    "beginnings2 = []\n",
    "for i, batch in enumerate(data_loader[\"train\"]):\n",
    "    x2.append(batch[\"X\"])\n",
    "    y2_clip.append(batch[\"y_clip\"])\n",
    "    beginnings2.append(batch[\"beginnings\"])\n",
    "    if i == 0:\n",
    "        break\n",
    "xx1 = torch.cat(x1, dim=0)\n",
    "xx2 = torch.cat(x2, dim=0)\n",
    "yy1_clip = torch.cat(y1_clip, dim=0)\n",
    "yy2_clip = torch.cat(y2_clip, dim=0)\n",
    "ans = xx1 - xx2\n",
    "print(ans.sum())"
   ]
  },
  {
   "cell_type": "code",
   "execution_count": null,
   "metadata": {},
   "outputs": [],
   "source": [
    "x1 = []\n",
    "y1_clip = []\n",
    "for i, batch in enumerate(data_loader[\"train\"]):\n",
    "    x1.append(batch[\"X\"])\n",
    "    y1_clip.append(batch[\"y_clip\"])\n",
    "x2 = []\n",
    "y2_clip = []\n",
    "for i, batch in enumerate(data_loader[\"train\"]):\n",
    "    x2.append(batch[\"X\"])\n",
    "    y2_clip.append(batch[\"y_clip\"])\n"
   ]
  },
  {
   "cell_type": "code",
   "execution_count": null,
   "metadata": {},
   "outputs": [],
   "source": [
    "xx1 = torch.cat(x1, dim=0)\n",
    "xx2 = torch.cat(x2, dim=0)\n",
    "yy1_clip = torch.cat(y1_clip, dim=0)\n",
    "yy2_clip = torch.cat(y2_clip, dim=0)\n",
    "ans = xx1 - xx2\n",
    "print(ans.sum())"
   ]
  },
  {
   "cell_type": "code",
   "execution_count": null,
   "metadata": {},
   "outputs": [],
   "source": [
    "xx1.shape"
   ]
  },
  {
   "cell_type": "code",
   "execution_count": null,
   "metadata": {},
   "outputs": [],
   "source": [
    "mode = \"valid\"\n",
    "n_eval_split = 3\n",
    "device = \"cpu\"\n",
    "n_class = 24\n",
    "l_spec = 16\n",
    "keys_list = [f\"X{i}\" for i in range(n_eval_split)]\n",
    "y_clip = [\n",
    "    torch.empty((0, n_class)).to(device)\n",
    "    for _ in range(n_eval_split)\n",
    "]\n",
    "y_frame = [\n",
    "    torch.empty((0, l_spec, n_class)).to(device)\n",
    "    for _ in range(n_eval_split)\n",
    "]\n",
    "y_clip_true = torch.empty((0, n_class))\n",
    "model.eval()\n",
    "with torch.no_grad():\n",
    "    for batch in data_loader[\"eval\"]:\n",
    "        if mode == \"valid\":\n",
    "            y_clip_true = torch.cat([y_clip_true, batch[\"y_clip\"]], dim=0)\n",
    "        x_batchs = [batch[key].to(device) for key in keys_list]\n",
    "        for i in range(n_eval_split):\n",
    "            y_batch_ = model(x_batchs[i])\n",
    "            y_clip[i] = torch.cat([y_clip[i], y_batch_[\"y_clip\"]], dim=0)\n",
    "            y_frame[i] = torch.cat([y_frame[i], y_batch_[\"y_frame\"]], dim=0)\n",
    "# (B, n_eval_split, n_class)\n",
    "y_clip = torch.stack(y_clip, dim=0).detach().cpu().numpy()\n",
    "# (B, n_eval_split, T, n_class)\n",
    "y_frame = torch.stack(y_frame, dim=0).detach().cpu().numpy()\n",
    "if mode == \"valid\":\n",
    "    y_clip_true = y_clip_true.numpy()\n",
    "    score = lwlrap(y_clip_true, y_clip.max(axis=0))\n",
    "    print(f\"score:{score:.6f}\")\n"
   ]
  },
  {
   "cell_type": "code",
   "execution_count": 5,
   "metadata": {},
   "outputs": [
    {
     "output_type": "stream",
     "name": "stdout",
     "text": [
      "(1132, 12, 24) (1132, 12, 32, 24)\n"
     ]
    }
   ],
   "source": [
    "ground_truth = pd.read_csv(\"../input/rfcx-species-audio-detection/ground_truth.csv\")\n",
    "tag = \"v004\"\n",
    "type = \"wave\"\n",
    "model_name = \"EfficientNet\"\n",
    "with open(f\"conf/tuning/{model_name}.{tag}.yaml\") as f:\n",
    "    config = yaml.load(f, Loader=yaml.Loader)\n",
    "oof_path = f\"exp/{type}/{model_name}/{tag}/best_score/oof.h5\"\n",
    "y_clip = read_hdf5(oof_path, \"y_clip\")\n",
    "y_frame = read_hdf5(oof_path, \"y_frame\")\n",
    "print(y_clip.shape, y_frame.shape)"
   ]
  },
  {
   "cell_type": "code",
   "execution_count": 6,
   "metadata": {},
   "outputs": [
    {
     "output_type": "stream",
     "name": "stdout",
     "text": [
      "00d442df7\nclip:0.33333, frame: 0.33333, ensemble: 0.33333\n"
     ]
    }
   ],
   "source": [
    "idx = 6\n",
    "recording_id = ground_truth.loc[idx, \"recording_id\"]\n",
    "print(recording_id)\n",
    "dump_path = f\"dump/{type}/train/{recording_id}.h5\"\n",
    "idx_matrix = read_hdf5(dump_path, \"matrix_tp\")\n",
    "l_original = len(idx_matrix)\n",
    "ground_truth_frame = get_down_sample_matrix(idx_matrix, l_target=config[\"l_target\"], max_frames=config[\"max_frames\"], n_eval_split=config[\"n_eval_split\"], mode=\"binary\")\n",
    "concat_y_frame = get_concat_down_frame(y_frame[idx], l_original=l_original, max_frames=config[\"max_frames\"])\n",
    "concat_ground_truth = get_concat_down_frame(ground_truth_frame, l_original=l_original, max_frames=config[\"max_frames\"])\n",
    "\n",
    "true_clip = idx_matrix.any(axis=0).astype(np.int64)[:24].reshape(1, -1)\n",
    "pred_clip = y_clip[idx].max(axis=0)[:24].reshape(1, -1)\n",
    "pred_frame_clip = concat_y_frame.max(axis=0)[:24].reshape(1, -1)\n",
    "score1 = lwlrap(true_clip, pred_clip)\n",
    "score2 = lwlrap(true_clip, pred_frame_clip)\n",
    "score3 = lwlrap(true_clip, pred_clip+pred_frame_clip)\n",
    "\n",
    "print(f\"clip:{score1:.5f}, frame: {score2:.5f}, ensemble: {score3:.5f}\")"
   ]
  },
  {
   "cell_type": "code",
   "execution_count": 7,
   "metadata": {},
   "outputs": [
    {
     "output_type": "display_data",
     "data": {
      "text/plain": "<Figure size 1152x576 with 4 Axes>",
      "image/svg+xml": "<?xml version=\"1.0\" encoding=\"utf-8\" standalone=\"no\"?>\n<!DOCTYPE svg PUBLIC \"-//W3C//DTD SVG 1.1//EN\"\n  \"http://www.w3.org/Graphics/SVG/1.1/DTD/svg11.dtd\">\n<!-- Created with matplotlib (https://matplotlib.org/) -->\n<svg height=\"567.59625pt\" version=\"1.1\" viewBox=\"0 0 1144.9 567.59625\" width=\"1144.9pt\" xmlns=\"http://www.w3.org/2000/svg\" xmlns:xlink=\"http://www.w3.org/1999/xlink\">\n <metadata>\n  <rdf:RDF xmlns:cc=\"http://creativecommons.org/ns#\" xmlns:dc=\"http://purl.org/dc/elements/1.1/\" xmlns:rdf=\"http://www.w3.org/1999/02/22-rdf-syntax-ns#\">\n   <cc:Work>\n    <dc:type rdf:resource=\"http://purl.org/dc/dcmitype/StillImage\"/>\n    <dc:date>2021-01-07T16:13:29.615763</dc:date>\n    <dc:format>image/svg+xml</dc:format>\n    <dc:creator>\n     <cc:Agent>\n      <dc:title>Matplotlib v3.3.3, https://matplotlib.org/</dc:title>\n     </cc:Agent>\n    </dc:creator>\n   </cc:Work>\n  </rdf:RDF>\n </metadata>\n <defs>\n  <style type=\"text/css\">*{stroke-linecap:butt;stroke-linejoin:round;}</style>\n </defs>\n <g id=\"figure_1\">\n  <g id=\"patch_1\">\n   <path d=\"M 0 567.59625 \nL 1144.9 567.59625 \nL 1144.9 0 \nL 0 0 \nz\n\" style=\"fill:none;\"/>\n  </g>\n  <g id=\"axes_1\">\n   <g id=\"patch_2\">\n    <path d=\"M 26.925 119.818125 \nL 1137.7 119.818125 \nL 1137.7 22.318125 \nL 26.925 22.318125 \nz\n\" style=\"fill:#ffffff;\"/>\n   </g>\n   <g clip-path=\"url(#pae148c8e4e)\">\n    <image height=\"98\" id=\"image52652dd506\" transform=\"scale(1 -1)translate(0 -98)\" width=\"1111\" x=\"26.925\" xlink:href=\"data:image/png;base64,\niVBORw0KGgoAAAANSUhEUgAABFcAAABiCAYAAACVpjzwAAADvklEQVR4nO3dP2oUARjG4W+SMVGMf5pgIUYUC7UQL2AleIDUgp2FlYfwDHYKXsJeCWInItaSKiimUZHNbnbGNhYJ7L7J7orP03/wVlP8lp1pxjs3+gJgYdx+/qSuPHs38V3TtnV563S92Ng6gVUAAMBhluY9AAAAAOBf1u7s/5r3BgAOWNqf/nZ372x5rgMAwGy1m58fzXsDAAec2+6muuu7vj59uFabvz3XAQBgltrm1fq8NwBwwMWPuzWe5rAb19XX+zV477kOAACz1Dw489ALbQEWSDccVXVT5ZVqTq1Us+x1WgAAMEttNxjMewMAx6QfDasfzXsFAAD8X/y8CQAAABAQVwAAAAAC4goAAABAQFwBAAAACIgrAAAAAAFxBQAAACAgrgAAAAAExBUAAACAgLgCAAAAEBBXAAAAAALiCgAAAEBAXAEAAAAIiCsAAAAAAXEFAAAAICCuAAAAAATEFQAAAICAuAIAAAAQEFcAAAAAAuIKAAAAQEBcAQAAAAiIKwAAAAABcQUAAAAgIK4AAAAABMQVAAAAgIC4AgAAABAQVwAAAAAC4goAAABAQFwBAAAACIgrAAAAAAFxBQAAACAgrgAAAAAExBUAAACAgLgCAAAAEBBXAAAAAALiCgAAAEBAXAEAAAAIiCsAAAAAAXEFAAAAICCuAAAAAATEFQAAAICAuAIAAAAQEFcAAAAAAuIKAAAAQEBcAQAAAAiIKwAAAAABcQUAAAAgIK4AAAAABMQVAAAAgIC4AgAAABAQVwAAAAAC4goAAABAQFwBAAAACIgrAAAAAAFxBQAAACAgrgAAAAAExBUAAACAgLgCAAAAEBBXAAAAAALiCgAAAEBAXAEAAAAIiCsAAAAAAXEFAAAAICCuAAAAAATEFQAAAICAuAIAAAAQEFcAAAAAAuIKAAAAQEBcAQAAAAiIKwAAAAABcQUAAAAgIK4AAAAABMQVAAAAgIC4AgAAABAQVwAAAAAC4goAAABAQFwBAAAACIgrAAAAAAFxBQAAACAgrgAAAAAExBUAAACAgLgCAAAAEBBXAAAAAALiCgAAAEBAXAEAAAAIiCsAAAAAgXbeAwD4W9O2VcvLU932w2FV3x/zIgAA4CjiCsCiuXuzfl5fm/yu7+vC2y81/vrt+DcBAACHElcAFszOvfO1cv/7xHfjrqm17UtV4goAAMyUuAKwYH7cGtWbOy8nvhv0TT1ef1qrJ7AJAAA4nLgCsGCa1XFttJP/LWivH1XXNiewCAAAOIqvBQEAAAAE/gAj+lLhUWpHDAAAAABJRU5ErkJggg==\" y=\"-21.818125\"/>\n   </g>\n   <g id=\"matplotlib.axis_1\">\n    <g id=\"xtick_1\">\n     <g id=\"line2d_1\">\n      <defs>\n       <path d=\"M 0 0 \nL 0 3.5 \n\" id=\"m4f42ce6b5e\" style=\"stroke:#000000;stroke-width:0.8;\"/>\n      </defs>\n      <g>\n       <use style=\"stroke:#000000;stroke-width:0.8;\" x=\"27.023718\" xlink:href=\"#m4f42ce6b5e\" y=\"119.818125\"/>\n      </g>\n     </g>\n     <g id=\"text_1\">\n      <!-- 0 -->\n      <g transform=\"translate(23.842468 134.416562)scale(0.1 -0.1)\">\n       <defs>\n        <path d=\"M 31.78125 66.40625 \nQ 24.171875 66.40625 20.328125 58.90625 \nQ 16.5 51.421875 16.5 36.375 \nQ 16.5 21.390625 20.328125 13.890625 \nQ 24.171875 6.390625 31.78125 6.390625 \nQ 39.453125 6.390625 43.28125 13.890625 \nQ 47.125 21.390625 47.125 36.375 \nQ 47.125 51.421875 43.28125 58.90625 \nQ 39.453125 66.40625 31.78125 66.40625 \nz\nM 31.78125 74.21875 \nQ 44.046875 74.21875 50.515625 64.515625 \nQ 56.984375 54.828125 56.984375 36.375 \nQ 56.984375 17.96875 50.515625 8.265625 \nQ 44.046875 -1.421875 31.78125 -1.421875 \nQ 19.53125 -1.421875 13.0625 8.265625 \nQ 6.59375 17.96875 6.59375 36.375 \nQ 6.59375 54.828125 13.0625 64.515625 \nQ 19.53125 74.21875 31.78125 74.21875 \nz\n\" id=\"DejaVuSans-48\"/>\n       </defs>\n       <use xlink:href=\"#DejaVuSans-48\"/>\n      </g>\n     </g>\n    </g>\n    <g id=\"xtick_2\">\n     <g id=\"line2d_2\">\n      <g>\n       <use style=\"stroke:#000000;stroke-width:0.8;\" x=\"224.459729\" xlink:href=\"#m4f42ce6b5e\" y=\"119.818125\"/>\n      </g>\n     </g>\n     <g id=\"text_2\">\n      <!-- 1000 -->\n      <g transform=\"translate(211.734729 134.416562)scale(0.1 -0.1)\">\n       <defs>\n        <path d=\"M 12.40625 8.296875 \nL 28.515625 8.296875 \nL 28.515625 63.921875 \nL 10.984375 60.40625 \nL 10.984375 69.390625 \nL 28.421875 72.90625 \nL 38.28125 72.90625 \nL 38.28125 8.296875 \nL 54.390625 8.296875 \nL 54.390625 0 \nL 12.40625 0 \nz\n\" id=\"DejaVuSans-49\"/>\n       </defs>\n       <use xlink:href=\"#DejaVuSans-49\"/>\n       <use x=\"63.623047\" xlink:href=\"#DejaVuSans-48\"/>\n       <use x=\"127.246094\" xlink:href=\"#DejaVuSans-48\"/>\n       <use x=\"190.869141\" xlink:href=\"#DejaVuSans-48\"/>\n      </g>\n     </g>\n    </g>\n    <g id=\"xtick_3\">\n     <g id=\"line2d_3\">\n      <g>\n       <use style=\"stroke:#000000;stroke-width:0.8;\" x=\"421.895741\" xlink:href=\"#m4f42ce6b5e\" y=\"119.818125\"/>\n      </g>\n     </g>\n     <g id=\"text_3\">\n      <!-- 2000 -->\n      <g transform=\"translate(409.170741 134.416562)scale(0.1 -0.1)\">\n       <defs>\n        <path d=\"M 19.1875 8.296875 \nL 53.609375 8.296875 \nL 53.609375 0 \nL 7.328125 0 \nL 7.328125 8.296875 \nQ 12.9375 14.109375 22.625 23.890625 \nQ 32.328125 33.6875 34.8125 36.53125 \nQ 39.546875 41.84375 41.421875 45.53125 \nQ 43.3125 49.21875 43.3125 52.78125 \nQ 43.3125 58.59375 39.234375 62.25 \nQ 35.15625 65.921875 28.609375 65.921875 \nQ 23.96875 65.921875 18.8125 64.3125 \nQ 13.671875 62.703125 7.8125 59.421875 \nL 7.8125 69.390625 \nQ 13.765625 71.78125 18.9375 73 \nQ 24.125 74.21875 28.421875 74.21875 \nQ 39.75 74.21875 46.484375 68.546875 \nQ 53.21875 62.890625 53.21875 53.421875 \nQ 53.21875 48.921875 51.53125 44.890625 \nQ 49.859375 40.875 45.40625 35.40625 \nQ 44.1875 33.984375 37.640625 27.21875 \nQ 31.109375 20.453125 19.1875 8.296875 \nz\n\" id=\"DejaVuSans-50\"/>\n       </defs>\n       <use xlink:href=\"#DejaVuSans-50\"/>\n       <use x=\"63.623047\" xlink:href=\"#DejaVuSans-48\"/>\n       <use x=\"127.246094\" xlink:href=\"#DejaVuSans-48\"/>\n       <use x=\"190.869141\" xlink:href=\"#DejaVuSans-48\"/>\n      </g>\n     </g>\n    </g>\n    <g id=\"xtick_4\">\n     <g id=\"line2d_4\">\n      <g>\n       <use style=\"stroke:#000000;stroke-width:0.8;\" x=\"619.331752\" xlink:href=\"#m4f42ce6b5e\" y=\"119.818125\"/>\n      </g>\n     </g>\n     <g id=\"text_4\">\n      <!-- 3000 -->\n      <g transform=\"translate(606.606752 134.416562)scale(0.1 -0.1)\">\n       <defs>\n        <path d=\"M 40.578125 39.3125 \nQ 47.65625 37.796875 51.625 33 \nQ 55.609375 28.21875 55.609375 21.1875 \nQ 55.609375 10.40625 48.1875 4.484375 \nQ 40.765625 -1.421875 27.09375 -1.421875 \nQ 22.515625 -1.421875 17.65625 -0.515625 \nQ 12.796875 0.390625 7.625 2.203125 \nL 7.625 11.71875 \nQ 11.71875 9.328125 16.59375 8.109375 \nQ 21.484375 6.890625 26.8125 6.890625 \nQ 36.078125 6.890625 40.9375 10.546875 \nQ 45.796875 14.203125 45.796875 21.1875 \nQ 45.796875 27.640625 41.28125 31.265625 \nQ 36.765625 34.90625 28.71875 34.90625 \nL 20.21875 34.90625 \nL 20.21875 43.015625 \nL 29.109375 43.015625 \nQ 36.375 43.015625 40.234375 45.921875 \nQ 44.09375 48.828125 44.09375 54.296875 \nQ 44.09375 59.90625 40.109375 62.90625 \nQ 36.140625 65.921875 28.71875 65.921875 \nQ 24.65625 65.921875 20.015625 65.03125 \nQ 15.375 64.15625 9.8125 62.3125 \nL 9.8125 71.09375 \nQ 15.4375 72.65625 20.34375 73.4375 \nQ 25.25 74.21875 29.59375 74.21875 \nQ 40.828125 74.21875 47.359375 69.109375 \nQ 53.90625 64.015625 53.90625 55.328125 \nQ 53.90625 49.265625 50.4375 45.09375 \nQ 46.96875 40.921875 40.578125 39.3125 \nz\n\" id=\"DejaVuSans-51\"/>\n       </defs>\n       <use xlink:href=\"#DejaVuSans-51\"/>\n       <use x=\"63.623047\" xlink:href=\"#DejaVuSans-48\"/>\n       <use x=\"127.246094\" xlink:href=\"#DejaVuSans-48\"/>\n       <use x=\"190.869141\" xlink:href=\"#DejaVuSans-48\"/>\n      </g>\n     </g>\n    </g>\n    <g id=\"xtick_5\">\n     <g id=\"line2d_5\">\n      <g>\n       <use style=\"stroke:#000000;stroke-width:0.8;\" x=\"816.767764\" xlink:href=\"#m4f42ce6b5e\" y=\"119.818125\"/>\n      </g>\n     </g>\n     <g id=\"text_5\">\n      <!-- 4000 -->\n      <g transform=\"translate(804.042764 134.416562)scale(0.1 -0.1)\">\n       <defs>\n        <path d=\"M 37.796875 64.3125 \nL 12.890625 25.390625 \nL 37.796875 25.390625 \nz\nM 35.203125 72.90625 \nL 47.609375 72.90625 \nL 47.609375 25.390625 \nL 58.015625 25.390625 \nL 58.015625 17.1875 \nL 47.609375 17.1875 \nL 47.609375 0 \nL 37.796875 0 \nL 37.796875 17.1875 \nL 4.890625 17.1875 \nL 4.890625 26.703125 \nz\n\" id=\"DejaVuSans-52\"/>\n       </defs>\n       <use xlink:href=\"#DejaVuSans-52\"/>\n       <use x=\"63.623047\" xlink:href=\"#DejaVuSans-48\"/>\n       <use x=\"127.246094\" xlink:href=\"#DejaVuSans-48\"/>\n       <use x=\"190.869141\" xlink:href=\"#DejaVuSans-48\"/>\n      </g>\n     </g>\n    </g>\n    <g id=\"xtick_6\">\n     <g id=\"line2d_6\">\n      <g>\n       <use style=\"stroke:#000000;stroke-width:0.8;\" x=\"1014.203775\" xlink:href=\"#m4f42ce6b5e\" y=\"119.818125\"/>\n      </g>\n     </g>\n     <g id=\"text_6\">\n      <!-- 5000 -->\n      <g transform=\"translate(1001.478775 134.416562)scale(0.1 -0.1)\">\n       <defs>\n        <path d=\"M 10.796875 72.90625 \nL 49.515625 72.90625 \nL 49.515625 64.59375 \nL 19.828125 64.59375 \nL 19.828125 46.734375 \nQ 21.96875 47.46875 24.109375 47.828125 \nQ 26.265625 48.1875 28.421875 48.1875 \nQ 40.625 48.1875 47.75 41.5 \nQ 54.890625 34.8125 54.890625 23.390625 \nQ 54.890625 11.625 47.5625 5.09375 \nQ 40.234375 -1.421875 26.90625 -1.421875 \nQ 22.3125 -1.421875 17.546875 -0.640625 \nQ 12.796875 0.140625 7.71875 1.703125 \nL 7.71875 11.625 \nQ 12.109375 9.234375 16.796875 8.0625 \nQ 21.484375 6.890625 26.703125 6.890625 \nQ 35.15625 6.890625 40.078125 11.328125 \nQ 45.015625 15.765625 45.015625 23.390625 \nQ 45.015625 31 40.078125 35.4375 \nQ 35.15625 39.890625 26.703125 39.890625 \nQ 22.75 39.890625 18.8125 39.015625 \nQ 14.890625 38.140625 10.796875 36.28125 \nz\n\" id=\"DejaVuSans-53\"/>\n       </defs>\n       <use xlink:href=\"#DejaVuSans-53\"/>\n       <use x=\"63.623047\" xlink:href=\"#DejaVuSans-48\"/>\n       <use x=\"127.246094\" xlink:href=\"#DejaVuSans-48\"/>\n       <use x=\"190.869141\" xlink:href=\"#DejaVuSans-48\"/>\n      </g>\n     </g>\n    </g>\n   </g>\n   <g id=\"matplotlib.axis_2\">\n    <g id=\"ytick_1\">\n     <g id=\"line2d_7\">\n      <defs>\n       <path d=\"M 0 0 \nL -3.5 0 \n\" id=\"mcbe5ff1864\" style=\"stroke:#000000;stroke-width:0.8;\"/>\n      </defs>\n      <g>\n       <use style=\"stroke:#000000;stroke-width:0.8;\" x=\"26.925\" xlink:href=\"#mcbe5ff1864\" y=\"24.268125\"/>\n      </g>\n     </g>\n     <g id=\"text_7\">\n      <!-- 0 -->\n      <g transform=\"translate(13.5625 28.067344)scale(0.1 -0.1)\">\n       <use xlink:href=\"#DejaVuSans-48\"/>\n      </g>\n     </g>\n    </g>\n    <g id=\"ytick_2\">\n     <g id=\"line2d_8\">\n      <g>\n       <use style=\"stroke:#000000;stroke-width:0.8;\" x=\"26.925\" xlink:href=\"#mcbe5ff1864\" y=\"63.268125\"/>\n      </g>\n     </g>\n     <g id=\"text_8\">\n      <!-- 10 -->\n      <g transform=\"translate(7.2 67.067344)scale(0.1 -0.1)\">\n       <use xlink:href=\"#DejaVuSans-49\"/>\n       <use x=\"63.623047\" xlink:href=\"#DejaVuSans-48\"/>\n      </g>\n     </g>\n    </g>\n    <g id=\"ytick_3\">\n     <g id=\"line2d_9\">\n      <g>\n       <use style=\"stroke:#000000;stroke-width:0.8;\" x=\"26.925\" xlink:href=\"#mcbe5ff1864\" y=\"102.268125\"/>\n      </g>\n     </g>\n     <g id=\"text_9\">\n      <!-- 20 -->\n      <g transform=\"translate(7.2 106.067344)scale(0.1 -0.1)\">\n       <use xlink:href=\"#DejaVuSans-50\"/>\n       <use x=\"63.623047\" xlink:href=\"#DejaVuSans-48\"/>\n      </g>\n     </g>\n    </g>\n   </g>\n   <g id=\"patch_3\">\n    <path d=\"M 26.925 119.818125 \nL 26.925 22.318125 \n\" style=\"fill:none;stroke:#000000;stroke-linecap:square;stroke-linejoin:miter;stroke-width:0.8;\"/>\n   </g>\n   <g id=\"patch_4\">\n    <path d=\"M 1137.7 119.818125 \nL 1137.7 22.318125 \n\" style=\"fill:none;stroke:#000000;stroke-linecap:square;stroke-linejoin:miter;stroke-width:0.8;\"/>\n   </g>\n   <g id=\"patch_5\">\n    <path d=\"M 26.925 119.818125 \nL 1137.7 119.818125 \n\" style=\"fill:none;stroke:#000000;stroke-linecap:square;stroke-linejoin:miter;stroke-width:0.8;\"/>\n   </g>\n   <g id=\"patch_6\">\n    <path d=\"M 26.925 22.318125 \nL 1137.7 22.318125 \n\" style=\"fill:none;stroke:#000000;stroke-linecap:square;stroke-linejoin:miter;stroke-width:0.8;\"/>\n   </g>\n   <g id=\"text_10\">\n    <!-- EfficientNet clip:0.33333, frame: 0.33333, ensemble: 0.33333 -->\n    <g transform=\"translate(395.879375 16.318125)scale(0.12 -0.12)\">\n     <defs>\n      <path d=\"M 9.8125 72.90625 \nL 55.90625 72.90625 \nL 55.90625 64.59375 \nL 19.671875 64.59375 \nL 19.671875 43.015625 \nL 54.390625 43.015625 \nL 54.390625 34.71875 \nL 19.671875 34.71875 \nL 19.671875 8.296875 \nL 56.78125 8.296875 \nL 56.78125 0 \nL 9.8125 0 \nz\n\" id=\"DejaVuSans-69\"/>\n      <path d=\"M 37.109375 75.984375 \nL 37.109375 68.5 \nL 28.515625 68.5 \nQ 23.6875 68.5 21.796875 66.546875 \nQ 19.921875 64.59375 19.921875 59.515625 \nL 19.921875 54.6875 \nL 34.71875 54.6875 \nL 34.71875 47.703125 \nL 19.921875 47.703125 \nL 19.921875 0 \nL 10.890625 0 \nL 10.890625 47.703125 \nL 2.296875 47.703125 \nL 2.296875 54.6875 \nL 10.890625 54.6875 \nL 10.890625 58.5 \nQ 10.890625 67.625 15.140625 71.796875 \nQ 19.390625 75.984375 28.609375 75.984375 \nz\n\" id=\"DejaVuSans-102\"/>\n      <path d=\"M 9.421875 54.6875 \nL 18.40625 54.6875 \nL 18.40625 0 \nL 9.421875 0 \nz\nM 9.421875 75.984375 \nL 18.40625 75.984375 \nL 18.40625 64.59375 \nL 9.421875 64.59375 \nz\n\" id=\"DejaVuSans-105\"/>\n      <path d=\"M 48.78125 52.59375 \nL 48.78125 44.1875 \nQ 44.96875 46.296875 41.140625 47.34375 \nQ 37.3125 48.390625 33.40625 48.390625 \nQ 24.65625 48.390625 19.8125 42.84375 \nQ 14.984375 37.3125 14.984375 27.296875 \nQ 14.984375 17.28125 19.8125 11.734375 \nQ 24.65625 6.203125 33.40625 6.203125 \nQ 37.3125 6.203125 41.140625 7.25 \nQ 44.96875 8.296875 48.78125 10.40625 \nL 48.78125 2.09375 \nQ 45.015625 0.34375 40.984375 -0.53125 \nQ 36.96875 -1.421875 32.421875 -1.421875 \nQ 20.0625 -1.421875 12.78125 6.34375 \nQ 5.515625 14.109375 5.515625 27.296875 \nQ 5.515625 40.671875 12.859375 48.328125 \nQ 20.21875 56 33.015625 56 \nQ 37.15625 56 41.109375 55.140625 \nQ 45.0625 54.296875 48.78125 52.59375 \nz\n\" id=\"DejaVuSans-99\"/>\n      <path d=\"M 56.203125 29.59375 \nL 56.203125 25.203125 \nL 14.890625 25.203125 \nQ 15.484375 15.921875 20.484375 11.0625 \nQ 25.484375 6.203125 34.421875 6.203125 \nQ 39.59375 6.203125 44.453125 7.46875 \nQ 49.3125 8.734375 54.109375 11.28125 \nL 54.109375 2.78125 \nQ 49.265625 0.734375 44.1875 -0.34375 \nQ 39.109375 -1.421875 33.890625 -1.421875 \nQ 20.796875 -1.421875 13.15625 6.1875 \nQ 5.515625 13.8125 5.515625 26.8125 \nQ 5.515625 40.234375 12.765625 48.109375 \nQ 20.015625 56 32.328125 56 \nQ 43.359375 56 49.78125 48.890625 \nQ 56.203125 41.796875 56.203125 29.59375 \nz\nM 47.21875 32.234375 \nQ 47.125 39.59375 43.09375 43.984375 \nQ 39.0625 48.390625 32.421875 48.390625 \nQ 24.90625 48.390625 20.390625 44.140625 \nQ 15.875 39.890625 15.1875 32.171875 \nz\n\" id=\"DejaVuSans-101\"/>\n      <path d=\"M 54.890625 33.015625 \nL 54.890625 0 \nL 45.90625 0 \nL 45.90625 32.71875 \nQ 45.90625 40.484375 42.875 44.328125 \nQ 39.84375 48.1875 33.796875 48.1875 \nQ 26.515625 48.1875 22.3125 43.546875 \nQ 18.109375 38.921875 18.109375 30.90625 \nL 18.109375 0 \nL 9.078125 0 \nL 9.078125 54.6875 \nL 18.109375 54.6875 \nL 18.109375 46.1875 \nQ 21.34375 51.125 25.703125 53.5625 \nQ 30.078125 56 35.796875 56 \nQ 45.21875 56 50.046875 50.171875 \nQ 54.890625 44.34375 54.890625 33.015625 \nz\n\" id=\"DejaVuSans-110\"/>\n      <path d=\"M 18.3125 70.21875 \nL 18.3125 54.6875 \nL 36.8125 54.6875 \nL 36.8125 47.703125 \nL 18.3125 47.703125 \nL 18.3125 18.015625 \nQ 18.3125 11.328125 20.140625 9.421875 \nQ 21.96875 7.515625 27.59375 7.515625 \nL 36.8125 7.515625 \nL 36.8125 0 \nL 27.59375 0 \nQ 17.1875 0 13.234375 3.875 \nQ 9.28125 7.765625 9.28125 18.015625 \nL 9.28125 47.703125 \nL 2.6875 47.703125 \nL 2.6875 54.6875 \nL 9.28125 54.6875 \nL 9.28125 70.21875 \nz\n\" id=\"DejaVuSans-116\"/>\n      <path d=\"M 9.8125 72.90625 \nL 23.09375 72.90625 \nL 55.421875 11.921875 \nL 55.421875 72.90625 \nL 64.984375 72.90625 \nL 64.984375 0 \nL 51.703125 0 \nL 19.390625 60.984375 \nL 19.390625 0 \nL 9.8125 0 \nz\n\" id=\"DejaVuSans-78\"/>\n      <path id=\"DejaVuSans-32\"/>\n      <path d=\"M 9.421875 75.984375 \nL 18.40625 75.984375 \nL 18.40625 0 \nL 9.421875 0 \nz\n\" id=\"DejaVuSans-108\"/>\n      <path d=\"M 18.109375 8.203125 \nL 18.109375 -20.796875 \nL 9.078125 -20.796875 \nL 9.078125 54.6875 \nL 18.109375 54.6875 \nL 18.109375 46.390625 \nQ 20.953125 51.265625 25.265625 53.625 \nQ 29.59375 56 35.59375 56 \nQ 45.5625 56 51.78125 48.09375 \nQ 58.015625 40.1875 58.015625 27.296875 \nQ 58.015625 14.40625 51.78125 6.484375 \nQ 45.5625 -1.421875 35.59375 -1.421875 \nQ 29.59375 -1.421875 25.265625 0.953125 \nQ 20.953125 3.328125 18.109375 8.203125 \nz\nM 48.6875 27.296875 \nQ 48.6875 37.203125 44.609375 42.84375 \nQ 40.53125 48.484375 33.40625 48.484375 \nQ 26.265625 48.484375 22.1875 42.84375 \nQ 18.109375 37.203125 18.109375 27.296875 \nQ 18.109375 17.390625 22.1875 11.75 \nQ 26.265625 6.109375 33.40625 6.109375 \nQ 40.53125 6.109375 44.609375 11.75 \nQ 48.6875 17.390625 48.6875 27.296875 \nz\n\" id=\"DejaVuSans-112\"/>\n      <path d=\"M 11.71875 12.40625 \nL 22.015625 12.40625 \nL 22.015625 0 \nL 11.71875 0 \nz\nM 11.71875 51.703125 \nL 22.015625 51.703125 \nL 22.015625 39.3125 \nL 11.71875 39.3125 \nz\n\" id=\"DejaVuSans-58\"/>\n      <path d=\"M 10.6875 12.40625 \nL 21 12.40625 \nL 21 0 \nL 10.6875 0 \nz\n\" id=\"DejaVuSans-46\"/>\n      <path d=\"M 11.71875 12.40625 \nL 22.015625 12.40625 \nL 22.015625 4 \nL 14.015625 -11.625 \nL 7.71875 -11.625 \nL 11.71875 4 \nz\n\" id=\"DejaVuSans-44\"/>\n      <path d=\"M 41.109375 46.296875 \nQ 39.59375 47.171875 37.8125 47.578125 \nQ 36.03125 48 33.890625 48 \nQ 26.265625 48 22.1875 43.046875 \nQ 18.109375 38.09375 18.109375 28.8125 \nL 18.109375 0 \nL 9.078125 0 \nL 9.078125 54.6875 \nL 18.109375 54.6875 \nL 18.109375 46.1875 \nQ 20.953125 51.171875 25.484375 53.578125 \nQ 30.03125 56 36.53125 56 \nQ 37.453125 56 38.578125 55.875 \nQ 39.703125 55.765625 41.0625 55.515625 \nz\n\" id=\"DejaVuSans-114\"/>\n      <path d=\"M 34.28125 27.484375 \nQ 23.390625 27.484375 19.1875 25 \nQ 14.984375 22.515625 14.984375 16.5 \nQ 14.984375 11.71875 18.140625 8.90625 \nQ 21.296875 6.109375 26.703125 6.109375 \nQ 34.1875 6.109375 38.703125 11.40625 \nQ 43.21875 16.703125 43.21875 25.484375 \nL 43.21875 27.484375 \nz\nM 52.203125 31.203125 \nL 52.203125 0 \nL 43.21875 0 \nL 43.21875 8.296875 \nQ 40.140625 3.328125 35.546875 0.953125 \nQ 30.953125 -1.421875 24.3125 -1.421875 \nQ 15.921875 -1.421875 10.953125 3.296875 \nQ 6 8.015625 6 15.921875 \nQ 6 25.140625 12.171875 29.828125 \nQ 18.359375 34.515625 30.609375 34.515625 \nL 43.21875 34.515625 \nL 43.21875 35.40625 \nQ 43.21875 41.609375 39.140625 45 \nQ 35.0625 48.390625 27.6875 48.390625 \nQ 23 48.390625 18.546875 47.265625 \nQ 14.109375 46.140625 10.015625 43.890625 \nL 10.015625 52.203125 \nQ 14.9375 54.109375 19.578125 55.046875 \nQ 24.21875 56 28.609375 56 \nQ 40.484375 56 46.34375 49.84375 \nQ 52.203125 43.703125 52.203125 31.203125 \nz\n\" id=\"DejaVuSans-97\"/>\n      <path d=\"M 52 44.1875 \nQ 55.375 50.25 60.0625 53.125 \nQ 64.75 56 71.09375 56 \nQ 79.640625 56 84.28125 50.015625 \nQ 88.921875 44.046875 88.921875 33.015625 \nL 88.921875 0 \nL 79.890625 0 \nL 79.890625 32.71875 \nQ 79.890625 40.578125 77.09375 44.375 \nQ 74.3125 48.1875 68.609375 48.1875 \nQ 61.625 48.1875 57.5625 43.546875 \nQ 53.515625 38.921875 53.515625 30.90625 \nL 53.515625 0 \nL 44.484375 0 \nL 44.484375 32.71875 \nQ 44.484375 40.625 41.703125 44.40625 \nQ 38.921875 48.1875 33.109375 48.1875 \nQ 26.21875 48.1875 22.15625 43.53125 \nQ 18.109375 38.875 18.109375 30.90625 \nL 18.109375 0 \nL 9.078125 0 \nL 9.078125 54.6875 \nL 18.109375 54.6875 \nL 18.109375 46.1875 \nQ 21.1875 51.21875 25.484375 53.609375 \nQ 29.78125 56 35.6875 56 \nQ 41.65625 56 45.828125 52.96875 \nQ 50 49.953125 52 44.1875 \nz\n\" id=\"DejaVuSans-109\"/>\n      <path d=\"M 44.28125 53.078125 \nL 44.28125 44.578125 \nQ 40.484375 46.53125 36.375 47.5 \nQ 32.28125 48.484375 27.875 48.484375 \nQ 21.1875 48.484375 17.84375 46.4375 \nQ 14.5 44.390625 14.5 40.28125 \nQ 14.5 37.15625 16.890625 35.375 \nQ 19.28125 33.59375 26.515625 31.984375 \nL 29.59375 31.296875 \nQ 39.15625 29.25 43.1875 25.515625 \nQ 47.21875 21.78125 47.21875 15.09375 \nQ 47.21875 7.46875 41.1875 3.015625 \nQ 35.15625 -1.421875 24.609375 -1.421875 \nQ 20.21875 -1.421875 15.453125 -0.5625 \nQ 10.6875 0.296875 5.421875 2 \nL 5.421875 11.28125 \nQ 10.40625 8.6875 15.234375 7.390625 \nQ 20.0625 6.109375 24.8125 6.109375 \nQ 31.15625 6.109375 34.5625 8.28125 \nQ 37.984375 10.453125 37.984375 14.40625 \nQ 37.984375 18.0625 35.515625 20.015625 \nQ 33.0625 21.96875 24.703125 23.78125 \nL 21.578125 24.515625 \nQ 13.234375 26.265625 9.515625 29.90625 \nQ 5.8125 33.546875 5.8125 39.890625 \nQ 5.8125 47.609375 11.28125 51.796875 \nQ 16.75 56 26.8125 56 \nQ 31.78125 56 36.171875 55.265625 \nQ 40.578125 54.546875 44.28125 53.078125 \nz\n\" id=\"DejaVuSans-115\"/>\n      <path d=\"M 48.6875 27.296875 \nQ 48.6875 37.203125 44.609375 42.84375 \nQ 40.53125 48.484375 33.40625 48.484375 \nQ 26.265625 48.484375 22.1875 42.84375 \nQ 18.109375 37.203125 18.109375 27.296875 \nQ 18.109375 17.390625 22.1875 11.75 \nQ 26.265625 6.109375 33.40625 6.109375 \nQ 40.53125 6.109375 44.609375 11.75 \nQ 48.6875 17.390625 48.6875 27.296875 \nz\nM 18.109375 46.390625 \nQ 20.953125 51.265625 25.265625 53.625 \nQ 29.59375 56 35.59375 56 \nQ 45.5625 56 51.78125 48.09375 \nQ 58.015625 40.1875 58.015625 27.296875 \nQ 58.015625 14.40625 51.78125 6.484375 \nQ 45.5625 -1.421875 35.59375 -1.421875 \nQ 29.59375 -1.421875 25.265625 0.953125 \nQ 20.953125 3.328125 18.109375 8.203125 \nL 18.109375 0 \nL 9.078125 0 \nL 9.078125 75.984375 \nL 18.109375 75.984375 \nz\n\" id=\"DejaVuSans-98\"/>\n     </defs>\n     <use xlink:href=\"#DejaVuSans-69\"/>\n     <use x=\"63.183594\" xlink:href=\"#DejaVuSans-102\"/>\n     <use x=\"98.388672\" xlink:href=\"#DejaVuSans-102\"/>\n     <use x=\"133.59375\" xlink:href=\"#DejaVuSans-105\"/>\n     <use x=\"161.376953\" xlink:href=\"#DejaVuSans-99\"/>\n     <use x=\"216.357422\" xlink:href=\"#DejaVuSans-105\"/>\n     <use x=\"244.140625\" xlink:href=\"#DejaVuSans-101\"/>\n     <use x=\"305.664062\" xlink:href=\"#DejaVuSans-110\"/>\n     <use x=\"369.042969\" xlink:href=\"#DejaVuSans-116\"/>\n     <use x=\"408.251953\" xlink:href=\"#DejaVuSans-78\"/>\n     <use x=\"483.056641\" xlink:href=\"#DejaVuSans-101\"/>\n     <use x=\"544.580078\" xlink:href=\"#DejaVuSans-116\"/>\n     <use x=\"583.789062\" xlink:href=\"#DejaVuSans-32\"/>\n     <use x=\"615.576172\" xlink:href=\"#DejaVuSans-99\"/>\n     <use x=\"670.556641\" xlink:href=\"#DejaVuSans-108\"/>\n     <use x=\"698.339844\" xlink:href=\"#DejaVuSans-105\"/>\n     <use x=\"726.123047\" xlink:href=\"#DejaVuSans-112\"/>\n     <use x=\"789.599609\" xlink:href=\"#DejaVuSans-58\"/>\n     <use x=\"823.291016\" xlink:href=\"#DejaVuSans-48\"/>\n     <use x=\"886.914062\" xlink:href=\"#DejaVuSans-46\"/>\n     <use x=\"918.701172\" xlink:href=\"#DejaVuSans-51\"/>\n     <use x=\"982.324219\" xlink:href=\"#DejaVuSans-51\"/>\n     <use x=\"1045.947266\" xlink:href=\"#DejaVuSans-51\"/>\n     <use x=\"1109.570312\" xlink:href=\"#DejaVuSans-51\"/>\n     <use x=\"1173.193359\" xlink:href=\"#DejaVuSans-51\"/>\n     <use x=\"1236.816406\" xlink:href=\"#DejaVuSans-44\"/>\n     <use x=\"1268.603516\" xlink:href=\"#DejaVuSans-32\"/>\n     <use x=\"1300.390625\" xlink:href=\"#DejaVuSans-102\"/>\n     <use x=\"1335.595703\" xlink:href=\"#DejaVuSans-114\"/>\n     <use x=\"1376.708984\" xlink:href=\"#DejaVuSans-97\"/>\n     <use x=\"1437.988281\" xlink:href=\"#DejaVuSans-109\"/>\n     <use x=\"1535.400391\" xlink:href=\"#DejaVuSans-101\"/>\n     <use x=\"1596.923828\" xlink:href=\"#DejaVuSans-58\"/>\n     <use x=\"1630.615234\" xlink:href=\"#DejaVuSans-32\"/>\n     <use x=\"1662.402344\" xlink:href=\"#DejaVuSans-48\"/>\n     <use x=\"1726.025391\" xlink:href=\"#DejaVuSans-46\"/>\n     <use x=\"1757.8125\" xlink:href=\"#DejaVuSans-51\"/>\n     <use x=\"1821.435547\" xlink:href=\"#DejaVuSans-51\"/>\n     <use x=\"1885.058594\" xlink:href=\"#DejaVuSans-51\"/>\n     <use x=\"1948.681641\" xlink:href=\"#DejaVuSans-51\"/>\n     <use x=\"2012.304688\" xlink:href=\"#DejaVuSans-51\"/>\n     <use x=\"2075.927734\" xlink:href=\"#DejaVuSans-44\"/>\n     <use x=\"2107.714844\" xlink:href=\"#DejaVuSans-32\"/>\n     <use x=\"2139.501953\" xlink:href=\"#DejaVuSans-101\"/>\n     <use x=\"2201.025391\" xlink:href=\"#DejaVuSans-110\"/>\n     <use x=\"2264.404297\" xlink:href=\"#DejaVuSans-115\"/>\n     <use x=\"2316.503906\" xlink:href=\"#DejaVuSans-101\"/>\n     <use x=\"2378.027344\" xlink:href=\"#DejaVuSans-109\"/>\n     <use x=\"2475.439453\" xlink:href=\"#DejaVuSans-98\"/>\n     <use x=\"2538.916016\" xlink:href=\"#DejaVuSans-108\"/>\n     <use x=\"2566.699219\" xlink:href=\"#DejaVuSans-101\"/>\n     <use x=\"2628.222656\" xlink:href=\"#DejaVuSans-58\"/>\n     <use x=\"2661.914062\" xlink:href=\"#DejaVuSans-32\"/>\n     <use x=\"2693.701172\" xlink:href=\"#DejaVuSans-48\"/>\n     <use x=\"2757.324219\" xlink:href=\"#DejaVuSans-46\"/>\n     <use x=\"2789.111328\" xlink:href=\"#DejaVuSans-51\"/>\n     <use x=\"2852.734375\" xlink:href=\"#DejaVuSans-51\"/>\n     <use x=\"2916.357422\" xlink:href=\"#DejaVuSans-51\"/>\n     <use x=\"2979.980469\" xlink:href=\"#DejaVuSans-51\"/>\n     <use x=\"3043.603516\" xlink:href=\"#DejaVuSans-51\"/>\n    </g>\n   </g>\n  </g>\n  <g id=\"axes_2\">\n   <g id=\"patch_7\">\n    <path d=\"M 26.925 261.118125 \nL 1137.7 261.118125 \nL 1137.7 163.618125 \nL 26.925 163.618125 \nz\n\" style=\"fill:#ffffff;\"/>\n   </g>\n   <g clip-path=\"url(#p1a2bbfdc9f)\">\n    <image height=\"98\" id=\"imagef903f01abc\" transform=\"scale(1 -1)translate(0 -98)\" width=\"1111\" x=\"26.925\" xlink:href=\"data:image/png;base64,\niVBORw0KGgoAAAANSUhEUgAABFcAAABiCAYAAACVpjzwAAADDklEQVR4nO3cMUpDURRFUX8QAtpZKyJY2jkE09hYBUfpWGwFwcrCKkOIcQ5uyCO8tUZw6s3lLptlezgDAAAA4F9WowcAAAAAnDJxBQAAACAQVwAAAAACcQUAAAAgEFcAAAAAAnEFAAAAIBBXAAAAAAJxBQAAACAQVwAAAAACcQUAAAAgEFcAAAAAAnEFAAAAIBBXAAAAAAJxBQAAACAQVwAAAAACcQUAAAAgEFcAAAAAAnEFAAAAIBBXAAAAAIJl/3N/GD0CAABmtj/8jp4wlZfH59ETprN7uhs9YSpX77vRE6bjcgUAAAAgEFcAAAAAAnEFAAAAIBBXAAAAAIJls2w9tAUAAAD4J5crAAAAAIG4AgAAABCIKwAAAACBuAIAAAAQiCsAAAAAgbgCAAAAEIgrAAAAAIG4AgAAABCIKwAAAACBuAIAAAAQiCsAAAAAgbgCAAAAEIgrAAAAAIG4AgAAABCIKwAAAACBuAIAAAAQiCsAAAAAgbgCAAAAEIgrAAAAAIG4AgAAABCIKwAAAACBuAIAAAAQiCsAAAAAgbgCAAAAEIgrAAAAAIG4AgAAABCIKwAAAACBuAIAAAAQiCsAAAAAgbgCAAAAEIgrAAAAAIG4AgAAABCIKwAAAACBuAIAAAAQiCsAAAAAwfnoAQAAAMf0/fYwesJ0bl4/Rk+YyuryYvSE6bhcAQAAAAjEFQAAAIBAXAEAAAAIls2yPYweAQAAAHCqXK4AAAAABOIKAAAAQCCuAAAAAATiCgAAAEAgrgAAAAAE4goAAABAIK4AAAAABOIKAAAAQCCuAAAAAATiCgAAAEAgrgAAAAAE4goAAABAIK4AAAAABOIKAAAAQCCuAAAAAATiCgAAAEAgrgAAAAAE4goAAABAIK4AAAAABOIKAAAAQCCuAAAAAATiCgAAAEAgrgAAAAAE4goAAABAIK4AAAAABOIKAAAAQCCuAAAAAATiCgAAAEBwPnoAAADAMS3r9egJ01ndXo+eMJX959foCdNxuQIAAAAQiCsAAAAAgbgCAAAAEPwBixkVkjYgkogAAAAASUVORK5CYII=\" y=\"-163.118125\"/>\n   </g>\n   <g id=\"matplotlib.axis_3\">\n    <g id=\"xtick_7\">\n     <g id=\"line2d_10\">\n      <g>\n       <use style=\"stroke:#000000;stroke-width:0.8;\" x=\"73.207292\" xlink:href=\"#m4f42ce6b5e\" y=\"261.118125\"/>\n      </g>\n     </g>\n     <g id=\"text_11\">\n      <!-- 0 -->\n      <g transform=\"translate(70.026042 275.716562)scale(0.1 -0.1)\">\n       <use xlink:href=\"#DejaVuSans-48\"/>\n      </g>\n     </g>\n    </g>\n    <g id=\"xtick_8\">\n     <g id=\"line2d_11\">\n      <g>\n       <use style=\"stroke:#000000;stroke-width:0.8;\" x=\"258.336458\" xlink:href=\"#m4f42ce6b5e\" y=\"261.118125\"/>\n      </g>\n     </g>\n     <g id=\"text_12\">\n      <!-- 2 -->\n      <g transform=\"translate(255.155208 275.716562)scale(0.1 -0.1)\">\n       <use xlink:href=\"#DejaVuSans-50\"/>\n      </g>\n     </g>\n    </g>\n    <g id=\"xtick_9\">\n     <g id=\"line2d_12\">\n      <g>\n       <use style=\"stroke:#000000;stroke-width:0.8;\" x=\"443.465625\" xlink:href=\"#m4f42ce6b5e\" y=\"261.118125\"/>\n      </g>\n     </g>\n     <g id=\"text_13\">\n      <!-- 4 -->\n      <g transform=\"translate(440.284375 275.716562)scale(0.1 -0.1)\">\n       <use xlink:href=\"#DejaVuSans-52\"/>\n      </g>\n     </g>\n    </g>\n    <g id=\"xtick_10\">\n     <g id=\"line2d_13\">\n      <g>\n       <use style=\"stroke:#000000;stroke-width:0.8;\" x=\"628.594792\" xlink:href=\"#m4f42ce6b5e\" y=\"261.118125\"/>\n      </g>\n     </g>\n     <g id=\"text_14\">\n      <!-- 6 -->\n      <g transform=\"translate(625.413542 275.716562)scale(0.1 -0.1)\">\n       <defs>\n        <path d=\"M 33.015625 40.375 \nQ 26.375 40.375 22.484375 35.828125 \nQ 18.609375 31.296875 18.609375 23.390625 \nQ 18.609375 15.53125 22.484375 10.953125 \nQ 26.375 6.390625 33.015625 6.390625 \nQ 39.65625 6.390625 43.53125 10.953125 \nQ 47.40625 15.53125 47.40625 23.390625 \nQ 47.40625 31.296875 43.53125 35.828125 \nQ 39.65625 40.375 33.015625 40.375 \nz\nM 52.59375 71.296875 \nL 52.59375 62.3125 \nQ 48.875 64.0625 45.09375 64.984375 \nQ 41.3125 65.921875 37.59375 65.921875 \nQ 27.828125 65.921875 22.671875 59.328125 \nQ 17.53125 52.734375 16.796875 39.40625 \nQ 19.671875 43.65625 24.015625 45.921875 \nQ 28.375 48.1875 33.59375 48.1875 \nQ 44.578125 48.1875 50.953125 41.515625 \nQ 57.328125 34.859375 57.328125 23.390625 \nQ 57.328125 12.15625 50.6875 5.359375 \nQ 44.046875 -1.421875 33.015625 -1.421875 \nQ 20.359375 -1.421875 13.671875 8.265625 \nQ 6.984375 17.96875 6.984375 36.375 \nQ 6.984375 53.65625 15.1875 63.9375 \nQ 23.390625 74.21875 37.203125 74.21875 \nQ 40.921875 74.21875 44.703125 73.484375 \nQ 48.484375 72.75 52.59375 71.296875 \nz\n\" id=\"DejaVuSans-54\"/>\n       </defs>\n       <use xlink:href=\"#DejaVuSans-54\"/>\n      </g>\n     </g>\n    </g>\n    <g id=\"xtick_11\">\n     <g id=\"line2d_14\">\n      <g>\n       <use style=\"stroke:#000000;stroke-width:0.8;\" x=\"813.723958\" xlink:href=\"#m4f42ce6b5e\" y=\"261.118125\"/>\n      </g>\n     </g>\n     <g id=\"text_15\">\n      <!-- 8 -->\n      <g transform=\"translate(810.542708 275.716562)scale(0.1 -0.1)\">\n       <defs>\n        <path d=\"M 31.78125 34.625 \nQ 24.75 34.625 20.71875 30.859375 \nQ 16.703125 27.09375 16.703125 20.515625 \nQ 16.703125 13.921875 20.71875 10.15625 \nQ 24.75 6.390625 31.78125 6.390625 \nQ 38.8125 6.390625 42.859375 10.171875 \nQ 46.921875 13.96875 46.921875 20.515625 \nQ 46.921875 27.09375 42.890625 30.859375 \nQ 38.875 34.625 31.78125 34.625 \nz\nM 21.921875 38.8125 \nQ 15.578125 40.375 12.03125 44.71875 \nQ 8.5 49.078125 8.5 55.328125 \nQ 8.5 64.0625 14.71875 69.140625 \nQ 20.953125 74.21875 31.78125 74.21875 \nQ 42.671875 74.21875 48.875 69.140625 \nQ 55.078125 64.0625 55.078125 55.328125 \nQ 55.078125 49.078125 51.53125 44.71875 \nQ 48 40.375 41.703125 38.8125 \nQ 48.828125 37.15625 52.796875 32.3125 \nQ 56.78125 27.484375 56.78125 20.515625 \nQ 56.78125 9.90625 50.3125 4.234375 \nQ 43.84375 -1.421875 31.78125 -1.421875 \nQ 19.734375 -1.421875 13.25 4.234375 \nQ 6.78125 9.90625 6.78125 20.515625 \nQ 6.78125 27.484375 10.78125 32.3125 \nQ 14.796875 37.15625 21.921875 38.8125 \nz\nM 18.3125 54.390625 \nQ 18.3125 48.734375 21.84375 45.5625 \nQ 25.390625 42.390625 31.78125 42.390625 \nQ 38.140625 42.390625 41.71875 45.5625 \nQ 45.3125 48.734375 45.3125 54.390625 \nQ 45.3125 60.0625 41.71875 63.234375 \nQ 38.140625 66.40625 31.78125 66.40625 \nQ 25.390625 66.40625 21.84375 63.234375 \nQ 18.3125 60.0625 18.3125 54.390625 \nz\n\" id=\"DejaVuSans-56\"/>\n       </defs>\n       <use xlink:href=\"#DejaVuSans-56\"/>\n      </g>\n     </g>\n    </g>\n    <g id=\"xtick_12\">\n     <g id=\"line2d_15\">\n      <g>\n       <use style=\"stroke:#000000;stroke-width:0.8;\" x=\"998.853125\" xlink:href=\"#m4f42ce6b5e\" y=\"261.118125\"/>\n      </g>\n     </g>\n     <g id=\"text_16\">\n      <!-- 10 -->\n      <g transform=\"translate(992.490625 275.716562)scale(0.1 -0.1)\">\n       <use xlink:href=\"#DejaVuSans-49\"/>\n       <use x=\"63.623047\" xlink:href=\"#DejaVuSans-48\"/>\n      </g>\n     </g>\n    </g>\n   </g>\n   <g id=\"matplotlib.axis_4\">\n    <g id=\"ytick_4\">\n     <g id=\"line2d_16\">\n      <g>\n       <use style=\"stroke:#000000;stroke-width:0.8;\" x=\"26.925\" xlink:href=\"#mcbe5ff1864\" y=\"165.649375\"/>\n      </g>\n     </g>\n     <g id=\"text_17\">\n      <!-- 0 -->\n      <g transform=\"translate(13.5625 169.448594)scale(0.1 -0.1)\">\n       <use xlink:href=\"#DejaVuSans-48\"/>\n      </g>\n     </g>\n    </g>\n    <g id=\"ytick_5\">\n     <g id=\"line2d_17\">\n      <g>\n       <use style=\"stroke:#000000;stroke-width:0.8;\" x=\"26.925\" xlink:href=\"#mcbe5ff1864\" y=\"206.274375\"/>\n      </g>\n     </g>\n     <g id=\"text_18\">\n      <!-- 10 -->\n      <g transform=\"translate(7.2 210.073594)scale(0.1 -0.1)\">\n       <use xlink:href=\"#DejaVuSans-49\"/>\n       <use x=\"63.623047\" xlink:href=\"#DejaVuSans-48\"/>\n      </g>\n     </g>\n    </g>\n    <g id=\"ytick_6\">\n     <g id=\"line2d_18\">\n      <g>\n       <use style=\"stroke:#000000;stroke-width:0.8;\" x=\"26.925\" xlink:href=\"#mcbe5ff1864\" y=\"246.899375\"/>\n      </g>\n     </g>\n     <g id=\"text_19\">\n      <!-- 20 -->\n      <g transform=\"translate(7.2 250.698594)scale(0.1 -0.1)\">\n       <use xlink:href=\"#DejaVuSans-50\"/>\n       <use x=\"63.623047\" xlink:href=\"#DejaVuSans-48\"/>\n      </g>\n     </g>\n    </g>\n   </g>\n   <g id=\"patch_8\">\n    <path d=\"M 26.925 261.118125 \nL 26.925 163.618125 \n\" style=\"fill:none;stroke:#000000;stroke-linecap:square;stroke-linejoin:miter;stroke-width:0.8;\"/>\n   </g>\n   <g id=\"patch_9\">\n    <path d=\"M 1137.7 261.118125 \nL 1137.7 163.618125 \n\" style=\"fill:none;stroke:#000000;stroke-linecap:square;stroke-linejoin:miter;stroke-width:0.8;\"/>\n   </g>\n   <g id=\"patch_10\">\n    <path d=\"M 26.925 261.118125 \nL 1137.7 261.118125 \n\" style=\"fill:none;stroke:#000000;stroke-linecap:square;stroke-linejoin:miter;stroke-width:0.8;\"/>\n   </g>\n   <g id=\"patch_11\">\n    <path d=\"M 26.925 163.618125 \nL 1137.7 163.618125 \n\" style=\"fill:none;stroke:#000000;stroke-linecap:square;stroke-linejoin:miter;stroke-width:0.8;\"/>\n   </g>\n   <g id=\"text_20\">\n    <!-- Clip -->\n    <g transform=\"translate(570.98 157.618125)scale(0.12 -0.12)\">\n     <defs>\n      <path d=\"M 64.40625 67.28125 \nL 64.40625 56.890625 \nQ 59.421875 61.53125 53.78125 63.8125 \nQ 48.140625 66.109375 41.796875 66.109375 \nQ 29.296875 66.109375 22.65625 58.46875 \nQ 16.015625 50.828125 16.015625 36.375 \nQ 16.015625 21.96875 22.65625 14.328125 \nQ 29.296875 6.6875 41.796875 6.6875 \nQ 48.140625 6.6875 53.78125 8.984375 \nQ 59.421875 11.28125 64.40625 15.921875 \nL 64.40625 5.609375 \nQ 59.234375 2.09375 53.4375 0.328125 \nQ 47.65625 -1.421875 41.21875 -1.421875 \nQ 24.65625 -1.421875 15.125 8.703125 \nQ 5.609375 18.84375 5.609375 36.375 \nQ 5.609375 53.953125 15.125 64.078125 \nQ 24.65625 74.21875 41.21875 74.21875 \nQ 47.75 74.21875 53.53125 72.484375 \nQ 59.328125 70.75 64.40625 67.28125 \nz\n\" id=\"DejaVuSans-67\"/>\n     </defs>\n     <use xlink:href=\"#DejaVuSans-67\"/>\n     <use x=\"69.824219\" xlink:href=\"#DejaVuSans-108\"/>\n     <use x=\"97.607422\" xlink:href=\"#DejaVuSans-105\"/>\n     <use x=\"125.390625\" xlink:href=\"#DejaVuSans-112\"/>\n    </g>\n   </g>\n  </g>\n  <g id=\"axes_3\">\n   <g id=\"patch_12\">\n    <path d=\"M 26.925 402.418125 \nL 1137.7 402.418125 \nL 1137.7 304.918125 \nL 26.925 304.918125 \nz\n\" style=\"fill:#ffffff;\"/>\n   </g>\n   <g clip-path=\"url(#p9bb16c4b5e)\">\n    <image height=\"98\" id=\"image5ec5257bce\" transform=\"scale(1 -1)translate(0 -98)\" width=\"1111\" x=\"26.925\" xlink:href=\"data:image/png;base64,\niVBORw0KGgoAAAANSUhEUgAABFcAAABiCAYAAACVpjzwAAAEE0lEQVR4nO3cP2tTURzH4Zw2Cq2SRXEQFKnFf4urxbUvoauLgy9AQZwdHXwZ7r4JK3QQBzd3RUSrtFRK0usq3HM16Tcakz7P+OP09nB6A+knl5TNstX0AAAAADiWpVlvAAAAAGCeiSsAAAAAAXEFAAAAICCuAAAAAATEFQAAAICAuAIAAAAQEFcAAAAAAuIKAAAAQEBcAQAAAAiIKwAAAAABcQUAAAAgIK4AAAAABMQVAAAAgIC4AgAAABAQVwAAAAAC4goAAABAQFwBAAAACIgrAAAAAAFxBQAAACBQRh/Wm/Qin0b71fm9S3fTS8+l98/vtIdlggt0/EWWDusXWXuyPcHF58/nBxtjr/2+Xp+vPV7sM5rUJGf67Xr9hrz66PW0tjP3JjnPXq/X273RPtPS8bo/qec8yZnu3uw4vI7x6sf25woXn70a+/fNq/RML+zU1w5euEf/pPaa/531hyfzTL/cb59p0/Ex4Ndb9TM9vdv+gctPF//1XVU63nw2HfdjZf3S6mp16dF+/b3/ols+f646bw5+tGfXrtTXvnk3zS3NveXBoDVrDg+ra5vhcKwZzIonVwAAAAAC4goAAABAQFwBAAAACIgrAAAAAIGyWbbiL7QFAAAAOKk8uQIAAAAQEFcAAAAAAuIKAAAAQEBcAQAAAAiIKwAAAAABcQUAAAAgIK4AAAAABMQVAAAAgIC4AgAAABAQVwAAAAAC4goAAABAQFwBAAAACIgrAAAAAAFxBQAAACAgrgAAAAAExBUAAACAgLgCAAAAEBBXAAAAAALiCgAAAEBAXAEAAAAIiCsAAAAAAXEFAAAAICCuAAAAAATEFQAAAICAuAIAAAAQEFcAAAAAAuIKAAAAQEBcAQAAAAiIKwAAAAABcQUAAAAgIK4AAAAABMQVAAAAgIC4AgAAABAQVwAAAAAC4goAAABAoD/rDQAAANPVbNyuzodn6m//h2eXW7OVlzsdF2+OvS/4Vem378dmNKovdt/xn/PkCgAAAEBAXAEAAAAIiCsAAAAAAd+5AgAAC6Zsv63OT3Ws75rD39QMh7PeAkyNJ1cAAAAAAuIKAAAAQEBcAQAAAAiIKwAAAAABcQUAAAAgIK4AAAAABMQVAAAAgIC4AgAAABAQVwAAAAAC4goAAABAQFwBAAAACIgrAAAAAAFxBQAAACAgrgAAAAAExBUAAACAgLgCAAAAEBBXAAAAAALiCgAAAEBAXAEAAAAIiCsAAAAAAXEFAAAAICCuAAAAAATEFQAAAICAuAIAAAAQEFcAAAAAAuIKAAAAQEBcAQAAAAiIKwAAAACB/qw3AAAATFkp9XnT/Nt9LJDSr//rVFZWWrOjvb36RZw/LCxPrgAAAAAExBUAAACAgLgCAAAAEPgJyjxkKr30jmAAAAAASUVORK5CYII=\" y=\"-304.418125\"/>\n   </g>\n   <g id=\"matplotlib.axis_5\">\n    <g id=\"xtick_13\">\n     <g id=\"line2d_19\">\n      <g>\n       <use style=\"stroke:#000000;stroke-width:0.8;\" x=\"29.744226\" xlink:href=\"#m4f42ce6b5e\" y=\"402.418125\"/>\n      </g>\n     </g>\n     <g id=\"text_21\">\n      <!-- 0 -->\n      <g transform=\"translate(26.562976 417.016562)scale(0.1 -0.1)\">\n       <use xlink:href=\"#DejaVuSans-48\"/>\n      </g>\n     </g>\n    </g>\n    <g id=\"xtick_14\">\n     <g id=\"line2d_20\">\n      <g>\n       <use style=\"stroke:#000000;stroke-width:0.8;\" x=\"170.70552\" xlink:href=\"#m4f42ce6b5e\" y=\"402.418125\"/>\n      </g>\n     </g>\n     <g id=\"text_22\">\n      <!-- 25 -->\n      <g transform=\"translate(164.34302 417.016562)scale(0.1 -0.1)\">\n       <use xlink:href=\"#DejaVuSans-50\"/>\n       <use x=\"63.623047\" xlink:href=\"#DejaVuSans-53\"/>\n      </g>\n     </g>\n    </g>\n    <g id=\"xtick_15\">\n     <g id=\"line2d_21\">\n      <g>\n       <use style=\"stroke:#000000;stroke-width:0.8;\" x=\"311.666815\" xlink:href=\"#m4f42ce6b5e\" y=\"402.418125\"/>\n      </g>\n     </g>\n     <g id=\"text_23\">\n      <!-- 50 -->\n      <g transform=\"translate(305.304315 417.016562)scale(0.1 -0.1)\">\n       <use xlink:href=\"#DejaVuSans-53\"/>\n       <use x=\"63.623047\" xlink:href=\"#DejaVuSans-48\"/>\n      </g>\n     </g>\n    </g>\n    <g id=\"xtick_16\">\n     <g id=\"line2d_22\">\n      <g>\n       <use style=\"stroke:#000000;stroke-width:0.8;\" x=\"452.628109\" xlink:href=\"#m4f42ce6b5e\" y=\"402.418125\"/>\n      </g>\n     </g>\n     <g id=\"text_24\">\n      <!-- 75 -->\n      <g transform=\"translate(446.265609 417.016562)scale(0.1 -0.1)\">\n       <defs>\n        <path d=\"M 8.203125 72.90625 \nL 55.078125 72.90625 \nL 55.078125 68.703125 \nL 28.609375 0 \nL 18.3125 0 \nL 43.21875 64.59375 \nL 8.203125 64.59375 \nz\n\" id=\"DejaVuSans-55\"/>\n       </defs>\n       <use xlink:href=\"#DejaVuSans-55\"/>\n       <use x=\"63.623047\" xlink:href=\"#DejaVuSans-53\"/>\n      </g>\n     </g>\n    </g>\n    <g id=\"xtick_17\">\n     <g id=\"line2d_23\">\n      <g>\n       <use style=\"stroke:#000000;stroke-width:0.8;\" x=\"593.589404\" xlink:href=\"#m4f42ce6b5e\" y=\"402.418125\"/>\n      </g>\n     </g>\n     <g id=\"text_25\">\n      <!-- 100 -->\n      <g transform=\"translate(584.045654 417.016562)scale(0.1 -0.1)\">\n       <use xlink:href=\"#DejaVuSans-49\"/>\n       <use x=\"63.623047\" xlink:href=\"#DejaVuSans-48\"/>\n       <use x=\"127.246094\" xlink:href=\"#DejaVuSans-48\"/>\n      </g>\n     </g>\n    </g>\n    <g id=\"xtick_18\">\n     <g id=\"line2d_24\">\n      <g>\n       <use style=\"stroke:#000000;stroke-width:0.8;\" x=\"734.550698\" xlink:href=\"#m4f42ce6b5e\" y=\"402.418125\"/>\n      </g>\n     </g>\n     <g id=\"text_26\">\n      <!-- 125 -->\n      <g transform=\"translate(725.006948 417.016562)scale(0.1 -0.1)\">\n       <use xlink:href=\"#DejaVuSans-49\"/>\n       <use x=\"63.623047\" xlink:href=\"#DejaVuSans-50\"/>\n       <use x=\"127.246094\" xlink:href=\"#DejaVuSans-53\"/>\n      </g>\n     </g>\n    </g>\n    <g id=\"xtick_19\">\n     <g id=\"line2d_25\">\n      <g>\n       <use style=\"stroke:#000000;stroke-width:0.8;\" x=\"875.511992\" xlink:href=\"#m4f42ce6b5e\" y=\"402.418125\"/>\n      </g>\n     </g>\n     <g id=\"text_27\">\n      <!-- 150 -->\n      <g transform=\"translate(865.968242 417.016562)scale(0.1 -0.1)\">\n       <use xlink:href=\"#DejaVuSans-49\"/>\n       <use x=\"63.623047\" xlink:href=\"#DejaVuSans-53\"/>\n       <use x=\"127.246094\" xlink:href=\"#DejaVuSans-48\"/>\n      </g>\n     </g>\n    </g>\n    <g id=\"xtick_20\">\n     <g id=\"line2d_26\">\n      <g>\n       <use style=\"stroke:#000000;stroke-width:0.8;\" x=\"1016.473287\" xlink:href=\"#m4f42ce6b5e\" y=\"402.418125\"/>\n      </g>\n     </g>\n     <g id=\"text_28\">\n      <!-- 175 -->\n      <g transform=\"translate(1006.929537 417.016562)scale(0.1 -0.1)\">\n       <use xlink:href=\"#DejaVuSans-49\"/>\n       <use x=\"63.623047\" xlink:href=\"#DejaVuSans-55\"/>\n       <use x=\"127.246094\" xlink:href=\"#DejaVuSans-53\"/>\n      </g>\n     </g>\n    </g>\n   </g>\n   <g id=\"matplotlib.axis_6\">\n    <g id=\"ytick_7\">\n     <g id=\"line2d_27\">\n      <g>\n       <use style=\"stroke:#000000;stroke-width:0.8;\" x=\"26.925\" xlink:href=\"#mcbe5ff1864\" y=\"306.949375\"/>\n      </g>\n     </g>\n     <g id=\"text_29\">\n      <!-- 0 -->\n      <g transform=\"translate(13.5625 310.748594)scale(0.1 -0.1)\">\n       <use xlink:href=\"#DejaVuSans-48\"/>\n      </g>\n     </g>\n    </g>\n    <g id=\"ytick_8\">\n     <g id=\"line2d_28\">\n      <g>\n       <use style=\"stroke:#000000;stroke-width:0.8;\" x=\"26.925\" xlink:href=\"#mcbe5ff1864\" y=\"347.574375\"/>\n      </g>\n     </g>\n     <g id=\"text_30\">\n      <!-- 10 -->\n      <g transform=\"translate(7.2 351.373594)scale(0.1 -0.1)\">\n       <use xlink:href=\"#DejaVuSans-49\"/>\n       <use x=\"63.623047\" xlink:href=\"#DejaVuSans-48\"/>\n      </g>\n     </g>\n    </g>\n    <g id=\"ytick_9\">\n     <g id=\"line2d_29\">\n      <g>\n       <use style=\"stroke:#000000;stroke-width:0.8;\" x=\"26.925\" xlink:href=\"#mcbe5ff1864\" y=\"388.199375\"/>\n      </g>\n     </g>\n     <g id=\"text_31\">\n      <!-- 20 -->\n      <g transform=\"translate(7.2 391.998594)scale(0.1 -0.1)\">\n       <use xlink:href=\"#DejaVuSans-50\"/>\n       <use x=\"63.623047\" xlink:href=\"#DejaVuSans-48\"/>\n      </g>\n     </g>\n    </g>\n   </g>\n   <g id=\"patch_13\">\n    <path d=\"M 26.925 402.418125 \nL 26.925 304.918125 \n\" style=\"fill:none;stroke:#000000;stroke-linecap:square;stroke-linejoin:miter;stroke-width:0.8;\"/>\n   </g>\n   <g id=\"patch_14\">\n    <path d=\"M 1137.7 402.418125 \nL 1137.7 304.918125 \n\" style=\"fill:none;stroke:#000000;stroke-linecap:square;stroke-linejoin:miter;stroke-width:0.8;\"/>\n   </g>\n   <g id=\"patch_15\">\n    <path d=\"M 26.925 402.418125 \nL 1137.7 402.418125 \n\" style=\"fill:none;stroke:#000000;stroke-linecap:square;stroke-linejoin:miter;stroke-width:0.8;\"/>\n   </g>\n   <g id=\"patch_16\">\n    <path d=\"M 26.925 304.918125 \nL 1137.7 304.918125 \n\" style=\"fill:none;stroke:#000000;stroke-linecap:square;stroke-linejoin:miter;stroke-width:0.8;\"/>\n   </g>\n   <g id=\"text_32\">\n    <!-- Frame -->\n    <g transform=\"translate(563.616875 298.918125)scale(0.12 -0.12)\">\n     <defs>\n      <path d=\"M 9.8125 72.90625 \nL 51.703125 72.90625 \nL 51.703125 64.59375 \nL 19.671875 64.59375 \nL 19.671875 43.109375 \nL 48.578125 43.109375 \nL 48.578125 34.8125 \nL 19.671875 34.8125 \nL 19.671875 0 \nL 9.8125 0 \nz\n\" id=\"DejaVuSans-70\"/>\n     </defs>\n     <use xlink:href=\"#DejaVuSans-70\"/>\n     <use x=\"50.269531\" xlink:href=\"#DejaVuSans-114\"/>\n     <use x=\"91.382812\" xlink:href=\"#DejaVuSans-97\"/>\n     <use x=\"152.662109\" xlink:href=\"#DejaVuSans-109\"/>\n     <use x=\"250.074219\" xlink:href=\"#DejaVuSans-101\"/>\n    </g>\n   </g>\n  </g>\n  <g id=\"axes_4\">\n   <g id=\"patch_17\">\n    <path d=\"M 26.925 543.718125 \nL 1137.7 543.718125 \nL 1137.7 446.218125 \nL 26.925 446.218125 \nz\n\" style=\"fill:#ffffff;\"/>\n   </g>\n   <g clip-path=\"url(#pc0cc8e899f)\">\n    <image height=\"98\" id=\"image3e91d64590\" transform=\"scale(1 -1)translate(0 -98)\" width=\"1111\" x=\"26.925\" xlink:href=\"data:image/png;base64,\niVBORw0KGgoAAAANSUhEUgAABFcAAABiCAYAAACVpjzwAAAC+klEQVR4nO3csUmDQRiAYX9xk6Sxs9TeEQLZQNK6TVYIOEhKF0htY+ECEgfwhD++Sgg8T/nxcVz9ctz0+bY8XgHw5+5fV8P5/u7l22yx2wx3D+vtcD7a/2kXAAD4X9fnvgAAAADAJRNXAAAAAAJxBQAAACCYHqeVP1cAAAAAfsnLFQAAAIBAXAEAAAAIxBUAAACAQFwBAAAACMQVAAAAgEBcAQAAAAjEFQAAAIBAXAEAAAAIxBUAAACAQFwBAAAACMQVAAAAgEBcAQAAAAjEFQAAAIBAXAEAAAAIxBUAAACAQFwBAAAACMQVAAAAgEBcAQAAAAjEFQAAAIBAXAEAAAAIxBUAAACAQFwBAAAACMQVAAAAgEBcAQAAAAjEFQAAAIBAXAEAAAAIxBUAAACAQFwBAAAACMQVAAAAgEBcAQAAAAjEFQAAAIBAXAEAAAAIxBUAAACAQFwBAAAACMQVAAAAgEBcAQAAAAjEFQAAAIBAXAEAAAAIxBUAAACAQFwBAAAACMQVAAAAgEBcAQAAAAjEFQAAAIBAXAEAAAAIxBUAAACAQFwBAAAACMQVAAAAgEBcAQAAAAjEFQAAAIBAXAEAAAAIxBUAAACAQFwBAAAACMQVAAAAgEBcAQAAAAjEFQAAAIBAXAEAAAAIxBUAAACAQFwBAAAACMQVAAAAgEBcAQAAAAjEFQAAAIBAXAEAAAAIxBUAAACAQFwBAAAACMQVAAAAgEBcAQAAAAjEFQAAAIBAXAEAAAAIxBUAAACAQFwBAAAACMQVAAAAgEBcAQAAAAjEFQAAAIBAXAEAAAAIxBUAAACAQFwBAAAACMQVAAAAgEBcAQAAAAjEFQAAAIBAXAEAAAAIxBUAAACAQFwBAAAACMQVAAAAgEBcAQAAAAjEFQAAAIBAXAEAAAAIxBUAAACAQFwBAAAACMQVAAAAgODm3BcAuHTvTw8n7X/cHmfvHtbb4Xyx28w+Y/m8n70LAACczssVAAAAgEBcAQAAAAjEFQAAAIDgCw3MFmRw9CWyAAAAAElFTkSuQmCC\" y=\"-445.718125\"/>\n   </g>\n   <g id=\"matplotlib.axis_7\">\n    <g id=\"xtick_21\">\n     <g id=\"line2d_30\">\n      <g>\n       <use style=\"stroke:#000000;stroke-width:0.8;\" x=\"29.744226\" xlink:href=\"#m4f42ce6b5e\" y=\"543.718125\"/>\n      </g>\n     </g>\n     <g id=\"text_33\">\n      <!-- 0 -->\n      <g transform=\"translate(26.562976 558.316562)scale(0.1 -0.1)\">\n       <use xlink:href=\"#DejaVuSans-48\"/>\n      </g>\n     </g>\n    </g>\n    <g id=\"xtick_22\">\n     <g id=\"line2d_31\">\n      <g>\n       <use style=\"stroke:#000000;stroke-width:0.8;\" x=\"170.70552\" xlink:href=\"#m4f42ce6b5e\" y=\"543.718125\"/>\n      </g>\n     </g>\n     <g id=\"text_34\">\n      <!-- 25 -->\n      <g transform=\"translate(164.34302 558.316562)scale(0.1 -0.1)\">\n       <use xlink:href=\"#DejaVuSans-50\"/>\n       <use x=\"63.623047\" xlink:href=\"#DejaVuSans-53\"/>\n      </g>\n     </g>\n    </g>\n    <g id=\"xtick_23\">\n     <g id=\"line2d_32\">\n      <g>\n       <use style=\"stroke:#000000;stroke-width:0.8;\" x=\"311.666815\" xlink:href=\"#m4f42ce6b5e\" y=\"543.718125\"/>\n      </g>\n     </g>\n     <g id=\"text_35\">\n      <!-- 50 -->\n      <g transform=\"translate(305.304315 558.316562)scale(0.1 -0.1)\">\n       <use xlink:href=\"#DejaVuSans-53\"/>\n       <use x=\"63.623047\" xlink:href=\"#DejaVuSans-48\"/>\n      </g>\n     </g>\n    </g>\n    <g id=\"xtick_24\">\n     <g id=\"line2d_33\">\n      <g>\n       <use style=\"stroke:#000000;stroke-width:0.8;\" x=\"452.628109\" xlink:href=\"#m4f42ce6b5e\" y=\"543.718125\"/>\n      </g>\n     </g>\n     <g id=\"text_36\">\n      <!-- 75 -->\n      <g transform=\"translate(446.265609 558.316562)scale(0.1 -0.1)\">\n       <use xlink:href=\"#DejaVuSans-55\"/>\n       <use x=\"63.623047\" xlink:href=\"#DejaVuSans-53\"/>\n      </g>\n     </g>\n    </g>\n    <g id=\"xtick_25\">\n     <g id=\"line2d_34\">\n      <g>\n       <use style=\"stroke:#000000;stroke-width:0.8;\" x=\"593.589404\" xlink:href=\"#m4f42ce6b5e\" y=\"543.718125\"/>\n      </g>\n     </g>\n     <g id=\"text_37\">\n      <!-- 100 -->\n      <g transform=\"translate(584.045654 558.316562)scale(0.1 -0.1)\">\n       <use xlink:href=\"#DejaVuSans-49\"/>\n       <use x=\"63.623047\" xlink:href=\"#DejaVuSans-48\"/>\n       <use x=\"127.246094\" xlink:href=\"#DejaVuSans-48\"/>\n      </g>\n     </g>\n    </g>\n    <g id=\"xtick_26\">\n     <g id=\"line2d_35\">\n      <g>\n       <use style=\"stroke:#000000;stroke-width:0.8;\" x=\"734.550698\" xlink:href=\"#m4f42ce6b5e\" y=\"543.718125\"/>\n      </g>\n     </g>\n     <g id=\"text_38\">\n      <!-- 125 -->\n      <g transform=\"translate(725.006948 558.316562)scale(0.1 -0.1)\">\n       <use xlink:href=\"#DejaVuSans-49\"/>\n       <use x=\"63.623047\" xlink:href=\"#DejaVuSans-50\"/>\n       <use x=\"127.246094\" xlink:href=\"#DejaVuSans-53\"/>\n      </g>\n     </g>\n    </g>\n    <g id=\"xtick_27\">\n     <g id=\"line2d_36\">\n      <g>\n       <use style=\"stroke:#000000;stroke-width:0.8;\" x=\"875.511992\" xlink:href=\"#m4f42ce6b5e\" y=\"543.718125\"/>\n      </g>\n     </g>\n     <g id=\"text_39\">\n      <!-- 150 -->\n      <g transform=\"translate(865.968242 558.316562)scale(0.1 -0.1)\">\n       <use xlink:href=\"#DejaVuSans-49\"/>\n       <use x=\"63.623047\" xlink:href=\"#DejaVuSans-53\"/>\n       <use x=\"127.246094\" xlink:href=\"#DejaVuSans-48\"/>\n      </g>\n     </g>\n    </g>\n    <g id=\"xtick_28\">\n     <g id=\"line2d_37\">\n      <g>\n       <use style=\"stroke:#000000;stroke-width:0.8;\" x=\"1016.473287\" xlink:href=\"#m4f42ce6b5e\" y=\"543.718125\"/>\n      </g>\n     </g>\n     <g id=\"text_40\">\n      <!-- 175 -->\n      <g transform=\"translate(1006.929537 558.316562)scale(0.1 -0.1)\">\n       <use xlink:href=\"#DejaVuSans-49\"/>\n       <use x=\"63.623047\" xlink:href=\"#DejaVuSans-55\"/>\n       <use x=\"127.246094\" xlink:href=\"#DejaVuSans-53\"/>\n      </g>\n     </g>\n    </g>\n   </g>\n   <g id=\"matplotlib.axis_8\">\n    <g id=\"ytick_10\">\n     <g id=\"line2d_38\">\n      <g>\n       <use style=\"stroke:#000000;stroke-width:0.8;\" x=\"26.925\" xlink:href=\"#mcbe5ff1864\" y=\"448.168125\"/>\n      </g>\n     </g>\n     <g id=\"text_41\">\n      <!-- 0 -->\n      <g transform=\"translate(13.5625 451.967344)scale(0.1 -0.1)\">\n       <use xlink:href=\"#DejaVuSans-48\"/>\n      </g>\n     </g>\n    </g>\n    <g id=\"ytick_11\">\n     <g id=\"line2d_39\">\n      <g>\n       <use style=\"stroke:#000000;stroke-width:0.8;\" x=\"26.925\" xlink:href=\"#mcbe5ff1864\" y=\"487.168125\"/>\n      </g>\n     </g>\n     <g id=\"text_42\">\n      <!-- 10 -->\n      <g transform=\"translate(7.2 490.967344)scale(0.1 -0.1)\">\n       <use xlink:href=\"#DejaVuSans-49\"/>\n       <use x=\"63.623047\" xlink:href=\"#DejaVuSans-48\"/>\n      </g>\n     </g>\n    </g>\n    <g id=\"ytick_12\">\n     <g id=\"line2d_40\">\n      <g>\n       <use style=\"stroke:#000000;stroke-width:0.8;\" x=\"26.925\" xlink:href=\"#mcbe5ff1864\" y=\"526.168125\"/>\n      </g>\n     </g>\n     <g id=\"text_43\">\n      <!-- 20 -->\n      <g transform=\"translate(7.2 529.967344)scale(0.1 -0.1)\">\n       <use xlink:href=\"#DejaVuSans-50\"/>\n       <use x=\"63.623047\" xlink:href=\"#DejaVuSans-48\"/>\n      </g>\n     </g>\n    </g>\n   </g>\n   <g id=\"patch_18\">\n    <path d=\"M 26.925 543.718125 \nL 26.925 446.218125 \n\" style=\"fill:none;stroke:#000000;stroke-linecap:square;stroke-linejoin:miter;stroke-width:0.8;\"/>\n   </g>\n   <g id=\"patch_19\">\n    <path d=\"M 1137.7 543.718125 \nL 1137.7 446.218125 \n\" style=\"fill:none;stroke:#000000;stroke-linecap:square;stroke-linejoin:miter;stroke-width:0.8;\"/>\n   </g>\n   <g id=\"patch_20\">\n    <path d=\"M 26.925 543.718125 \nL 1137.7 543.718125 \n\" style=\"fill:none;stroke:#000000;stroke-linecap:square;stroke-linejoin:miter;stroke-width:0.8;\"/>\n   </g>\n   <g id=\"patch_21\">\n    <path d=\"M 26.925 446.218125 \nL 1137.7 446.218125 \n\" style=\"fill:none;stroke:#000000;stroke-linecap:square;stroke-linejoin:miter;stroke-width:0.8;\"/>\n   </g>\n   <g id=\"text_44\">\n    <!-- Frame-true -->\n    <g transform=\"translate(549.139063 440.218125)scale(0.12 -0.12)\">\n     <defs>\n      <path d=\"M 4.890625 31.390625 \nL 31.203125 31.390625 \nL 31.203125 23.390625 \nL 4.890625 23.390625 \nz\n\" id=\"DejaVuSans-45\"/>\n      <path d=\"M 8.5 21.578125 \nL 8.5 54.6875 \nL 17.484375 54.6875 \nL 17.484375 21.921875 \nQ 17.484375 14.15625 20.5 10.265625 \nQ 23.53125 6.390625 29.59375 6.390625 \nQ 36.859375 6.390625 41.078125 11.03125 \nQ 45.3125 15.671875 45.3125 23.6875 \nL 45.3125 54.6875 \nL 54.296875 54.6875 \nL 54.296875 0 \nL 45.3125 0 \nL 45.3125 8.40625 \nQ 42.046875 3.421875 37.71875 1 \nQ 33.40625 -1.421875 27.6875 -1.421875 \nQ 18.265625 -1.421875 13.375 4.4375 \nQ 8.5 10.296875 8.5 21.578125 \nz\nM 31.109375 56 \nz\n\" id=\"DejaVuSans-117\"/>\n     </defs>\n     <use xlink:href=\"#DejaVuSans-70\"/>\n     <use x=\"50.269531\" xlink:href=\"#DejaVuSans-114\"/>\n     <use x=\"91.382812\" xlink:href=\"#DejaVuSans-97\"/>\n     <use x=\"152.662109\" xlink:href=\"#DejaVuSans-109\"/>\n     <use x=\"250.074219\" xlink:href=\"#DejaVuSans-101\"/>\n     <use x=\"311.597656\" xlink:href=\"#DejaVuSans-45\"/>\n     <use x=\"347.681641\" xlink:href=\"#DejaVuSans-116\"/>\n     <use x=\"386.890625\" xlink:href=\"#DejaVuSans-114\"/>\n     <use x=\"428.003906\" xlink:href=\"#DejaVuSans-117\"/>\n     <use x=\"491.382812\" xlink:href=\"#DejaVuSans-101\"/>\n    </g>\n   </g>\n  </g>\n </g>\n <defs>\n  <clipPath id=\"pae148c8e4e\">\n   <rect height=\"97.5\" width=\"1110.775\" x=\"26.925\" y=\"22.318125\"/>\n  </clipPath>\n  <clipPath id=\"p1a2bbfdc9f\">\n   <rect height=\"97.5\" width=\"1110.775\" x=\"26.925\" y=\"163.618125\"/>\n  </clipPath>\n  <clipPath id=\"p9bb16c4b5e\">\n   <rect height=\"97.5\" width=\"1110.775\" x=\"26.925\" y=\"304.918125\"/>\n  </clipPath>\n  <clipPath id=\"pc0cc8e899f\">\n   <rect height=\"97.5\" width=\"1110.775\" x=\"26.925\" y=\"446.218125\"/>\n  </clipPath>\n </defs>\n</svg>\n",
      "image/png": "[encoded data removed]"
     },
     "metadata": {
      "needs_background": "light"
     }
    }
   ],
   "source": [
    "plt.figure(figsize=(16, 8))\n",
    "plt.subplot(4, 1, 1)\n",
    "plt.title(f\"{model_name} clip:{score1:.5f}, frame: {score2:.5f}, ensemble: {score3:.5f}\")\n",
    "plt.imshow(idx_matrix.T, aspect=\"auto\")\n",
    "plt.subplot(4, 1, 2)\n",
    "plt.title(\"Clip\")\n",
    "plt.imshow(y_clip[idx].T, aspect=\"auto\")\n",
    "plt.subplot(4, 1, 3)\n",
    "plt.title(\"Frame\")\n",
    "plt.imshow(concat_y_frame.T, aspect=\"auto\")\n",
    "plt.subplot(4, 1, 4)\n",
    "plt.title(\"Frame-true\")\n",
    "plt.imshow(concat_ground_truth.T, aspect=\"auto\")\n",
    "plt.tight_layout()"
   ]
  },
  {
   "cell_type": "code",
   "execution_count": null,
   "metadata": {},
   "outputs": [],
   "source": [
    "plt.imshow(concat_y_frame.T, aspect=\"auto\")"
   ]
  },
  {
   "cell_type": "code",
   "execution_count": null,
   "metadata": {},
   "outputs": [],
   "source": [
    "plt.plot(pred_frame_clip.flatten(), alpha=0.5)\n",
    "plt.plot(true_clip.flatten(), alpha=0.5)"
   ]
  },
  {
   "cell_type": "code",
   "execution_count": null,
   "metadata": {},
   "outputs": [],
   "source": [
    "config[\"max_frames\"]"
   ]
  },
  {
   "cell_type": "code",
   "execution_count": null,
   "metadata": {},
   "outputs": [],
   "source": [
    "resnext50_32x4d = models.resnext50_32x4d(pretrained=True)\n",
    "x1 = torch.stack([x,x,x]).transpose(1,0)\n",
    "conv1 = nn.Conv2d(1, 3, 1, 1)\n",
    "conv_out = conv1(x.unsqueeze(1))\n",
    "conv_out.shape"
   ]
  },
  {
   "cell_type": "code",
   "execution_count": null,
   "metadata": {
    "tags": []
   },
   "outputs": [],
   "source": [
    "for name,_ in model.named_parameters():\n",
    "    print(name)"
   ]
  },
  {
   "cell_type": "code",
   "execution_count": null,
   "metadata": {},
   "outputs": [],
   "source": [
    "x = resnext50_32x4d.conv1(x1)\n",
    "print(x.shape)\n",
    "x = resnext50_32x4d.bn1(x)\n",
    "print(x.shape)\n",
    "x = resnext50_32x4d.relu(x)\n",
    "print(x.shape)\n",
    "x = resnext50_32x4d.maxpool(x)\n",
    "print(x.shape)\n",
    "x = resnext50_32x4d.layer1(x)\n",
    "print(x.shape)\n",
    "x = resnext50_32x4d.layer2(x)\n",
    "print(x.shape)\n",
    "x = resnext50_32x4d.layer3(x)\n",
    "print(x.shape)\n",
    "x = resnext50_32x4d.layer4(x)\n",
    "print(x.shape)\n",
    "x = resnext50_32x4d.avgpool(x)\n",
    "print(x.shape)\n",
    "x = torch.flatten(x, 1)\n",
    "print(x.shape)\n",
    "y1 = resnext50_32x4d.fc(x)\n",
    "print(y1.shape)"
   ]
  },
  {
   "cell_type": "code",
   "execution_count": null,
   "metadata": {},
   "outputs": [],
   "source": [
    "model = ResNext50(num_mels=128,\n",
    "        classes_num=25,\n",
    "        training=False,\n",
    "        is_spec_augmenter=True)\n",
    "yy = model(x)"
   ]
  },
  {
   "cell_type": "code",
   "execution_count": null,
   "metadata": {},
   "outputs": [],
   "source": [
    "print(yy[\"y_frame\"].shape, yy[\"y_clip\"].shape, yy[\"embedding\"].shape)"
   ]
  },
  {
   "cell_type": "code",
   "execution_count": null,
   "metadata": {},
   "outputs": [],
   "source": [
    "from IPython.display import Audio\n",
    "sr = 48000\n",
    "i = 5\n",
    "path = f\"dump/wave/train/{tp_list[i]}.h5\" # \"dump/wave/train/c12e0a62b.h5\"\n",
    "wave = read_hdf5(hdf5_name=path, hdf5_path=\"wave\")\n",
    "feats = read_hdf5(hdf5_name=path, hdf5_path=\"feats\")\n",
    "matrix_tp= read_hdf5(hdf5_name=path, hdf5_path=\"matrix_tp\")\n",
    "# transform = TimeStretch(always_apply=True, max_rate=1.1)\n",
    "# transform = GaussianNoiseSNR(always_apply=True, min_snr=40.0, max_snr=40.0)\n",
    "# transform = VolumeControl(always_apply=True,db_limit=10, mode=\"cosine\")\n",
    "# # transform =PinkNoiseSNR(always_apply=True, min_snr=50.0, max_snr=50.0)\n",
    "# transform = Compose([\n",
    "# #   OneOf([\n",
    "# #     GaussianNoiseSNR(min_snr=10),\n",
    "# #     PinkNoiseSNR(min_snr=10)\n",
    "# #   ]),\n",
    "# #   VolumeControl(mode=\"sine\")\n",
    "#     PitchShift(max_steps=2, sr=sr)\n",
    "# ])\n",
    "wave_ = transform(wave)\n",
    "feats_ = logmelfilterbank(wave_, sr, fft_size=2048,hop_size=512,window=\"hann\",num_mels=128,fmin=50,fmax=16000)\n",
    "plt.figure(figsize=(16, 6))\n",
    "plt.subplot(3, 1, 1)\n",
    "plt.imshow(matrix_tp.T, aspect=\"auto\")\n",
    "plt.colorbar()\n",
    "plt.subplot(3, 1, 2)\n",
    "plt.title(\"Original\")\n",
    "plt.imshow(feats.T, aspect=\"auto\")\n",
    "plt.colorbar()\n",
    "plt.subplot(3, 1, 3)\n",
    "plt.imshow(feats_.T, aspect=\"auto\")\n",
    "plt.title(\"Augmented\")\n",
    "plt.colorbar()\n",
    "plt.tight_layout()\n",
    "# Audio(wave, rate=sr)"
   ]
  },
  {
   "cell_type": "code",
   "execution_count": null,
   "metadata": {},
   "outputs": [],
   "source": [
    "# Audio(wave_, rate=sr)"
   ]
  },
  {
   "cell_type": "code",
   "execution_count": null,
   "metadata": {},
   "outputs": [],
   "source": [
    "# model = ConformerEncoderDecoder(\n",
    "#     num_features=128,\n",
    "#     num_classes=24,\n",
    "#     num_blocks=8,\n",
    "#     num_channels=144,\n",
    "#     kernel_size=31,\n",
    "#     num_heads=4,\n",
    "#     num_latent_units=32,\n",
    "#     num_embeddings=0,\n",
    "#     embedding_dim=0,\n",
    "#     concat_embedding=False,\n",
    "#     dropout=0.1,\n",
    "#     bias=True,\n",
    "#     use_bottleneck=True,\n",
    "#     use_reconstruct=True,\n",
    "#     use_dializer=True,\n",
    "#     is_spec_augmenter=True,\n",
    "#     training=True,\n",
    "#     )\n",
    "model = TransformerEncoderDecoder(\n",
    "    num_features=128,\n",
    "    num_classes=24,\n",
    "    sequence_length=-1,\n",
    "    input_layer= \"linear\",\n",
    "    num_blocks= 4,\n",
    "    num_heads= 4,\n",
    "    num_hidden_units= 64,\n",
    "    num_feedforward_units = 128,\n",
    "    num_latent_units =8,\n",
    "    num_embeddings=0,\n",
    "    embedding_dim=0,\n",
    "    concat_embedding=False,\n",
    "    activation=\"relu\",\n",
    "    use_position_encode=False,\n",
    "    max_position_encode_length=512,\n",
    "    dropout=0.1,\n",
    "    use_reconstruct=True,\n",
    "    use_dializer=True,\n",
    "    is_spec_augmenter=True,\n",
    "    training=True,\n",
    ")"
   ]
  },
  {
   "cell_type": "code",
   "execution_count": null,
   "metadata": {},
   "outputs": [],
   "source": [
    "# batch[\"X_\"] = torch.rand(64, 128, 513)\n",
    "print(batch[\"X\"].transpose(2,1).shape)\n",
    "y = model(batch[\"X\"].transpose(2,1))\n",
    "print(y[\"y_frame\"].shape, y[\"y_clip\"].shape)\n",
    "print(y[\"frame_mask\"].shape)\n",
    "print(y[\"reconstructed\"].shape)"
   ]
  },
  {
   "cell_type": "code",
   "execution_count": 48,
   "metadata": {},
   "outputs": [],
   "source": [
    "model = models.mobilenet_v2(pretrained=True)\n"
   ]
  },
  {
   "cell_type": "code",
   "execution_count": null,
   "metadata": {},
   "outputs": [],
   "source": [
    "for name, param in model.named_parameters():\n",
    "    print(f\"{name}: {param.shape}\")"
   ]
  },
  {
   "cell_type": "code",
   "execution_count": 52,
   "metadata": {},
   "outputs": [
    {
     "output_type": "stream",
     "name": "stdout",
     "text": [
      "torch.Size([64, 1280, 4, 16])\n"
     ]
    }
   ],
   "source": [
    "conv1 = nn.Conv2d(1, 3, 1, 1)\n",
    "x = conv1(batch[\"X\"].unsqueeze(1))\n",
    "y_ = model.features(x)\n",
    "print(y_.shape)"
   ]
  },
  {
   "cell_type": "code",
   "execution_count": 32,
   "metadata": {},
   "outputs": [
    {
     "output_type": "stream",
     "name": "stdout",
     "text": [
      "Loaded pretrained weights for efficientnet-b0\n"
     ]
    }
   ],
   "source": [
    "model = EfficientNet_b()\n",
    "y = model(batch[\"X\"])"
   ]
  },
  {
   "cell_type": "code",
   "execution_count": 55,
   "metadata": {},
   "outputs": [
    {
     "output_type": "execute_result",
     "data": {
      "text/plain": [
       "(array([2.0000e+00, 3.0000e+00, 2.6000e+01, 2.9200e+02, 2.3450e+03,\n",
       "        1.2177e+04, 8.4270e+03, 1.1490e+03, 1.3300e+02, 2.2000e+01]),\n",
       " array([-32.66062  , -27.081799 , -21.502975 , -15.924152 , -10.345329 ,\n",
       "         -4.766506 ,   0.8123169,   6.39114  ,  11.969963 ,  17.548786 ,\n",
       "         23.12761  ], dtype=float32),\n",
       " <BarContainer object of 10 artists>)"
      ]
     },
     "metadata": {},
     "execution_count": 55
    },
    {
     "output_type": "display_data",
     "data": {
      "text/plain": "<Figure size 432x288 with 1 Axes>",
      "image/svg+xml": "<?xml version=\"1.0\" encoding=\"utf-8\" standalone=\"no\"?>\n<!DOCTYPE svg PUBLIC \"-//W3C//DTD SVG 1.1//EN\"\n  \"http://www.w3.org/Graphics/SVG/1.1/DTD/svg11.dtd\">\n<!-- Created with matplotlib (https://matplotlib.org/) -->\n<svg height=\"248.518125pt\" version=\"1.1\" viewBox=\"0 0 388.0125 248.518125\" width=\"388.0125pt\" xmlns=\"http://www.w3.org/2000/svg\" xmlns:xlink=\"http://www.w3.org/1999/xlink\">\n <metadata>\n  <rdf:RDF xmlns:cc=\"http://creativecommons.org/ns#\" xmlns:dc=\"http://purl.org/dc/elements/1.1/\" xmlns:rdf=\"http://www.w3.org/1999/02/22-rdf-syntax-ns#\">\n   <cc:Work>\n    <dc:type rdf:resource=\"http://purl.org/dc/dcmitype/StillImage\"/>\n    <dc:date>2021-01-06T18:33:03.640004</dc:date>\n    <dc:format>image/svg+xml</dc:format>\n    <dc:creator>\n     <cc:Agent>\n      <dc:title>Matplotlib v3.3.3, https://matplotlib.org/</dc:title>\n     </cc:Agent>\n    </dc:creator>\n   </cc:Work>\n  </rdf:RDF>\n </metadata>\n <defs>\n  <style type=\"text/css\">*{stroke-linecap:butt;stroke-linejoin:round;}</style>\n </defs>\n <g id=\"figure_1\">\n  <g id=\"patch_1\">\n   <path d=\"M 0 248.518125 \nL 388.0125 248.518125 \nL 388.0125 0 \nL 0 0 \nz\n\" style=\"fill:none;\"/>\n  </g>\n  <g id=\"axes_1\">\n   <g id=\"patch_2\">\n    <path d=\"M 46.0125 224.64 \nL 380.8125 224.64 \nL 380.8125 7.2 \nL 46.0125 7.2 \nz\n\" style=\"fill:#ffffff;\"/>\n   </g>\n   <g id=\"patch_3\">\n    <path clip-path=\"url(#p1180542589)\" d=\"M 61.230682 224.64 \nL 91.667045 224.64 \nL 91.667045 224.605987 \nL 61.230682 224.605987 \nz\n\" style=\"fill:#1f77b4;\"/>\n   </g>\n   <g id=\"patch_4\">\n    <path clip-path=\"url(#p1180542589)\" d=\"M 91.667045 224.64 \nL 122.103409 224.64 \nL 122.103409 224.588981 \nL 91.667045 224.588981 \nz\n\" style=\"fill:#1f77b4;\"/>\n   </g>\n   <g id=\"patch_5\">\n    <path clip-path=\"url(#p1180542589)\" d=\"M 122.103409 224.64 \nL 152.539773 224.64 \nL 152.539773 224.197836 \nL 122.103409 224.197836 \nz\n\" style=\"fill:#1f77b4;\"/>\n   </g>\n   <g id=\"patch_6\">\n    <path clip-path=\"url(#p1180542589)\" d=\"M 152.539773 224.64 \nL 182.976136 224.64 \nL 182.976136 219.67416 \nL 152.539773 219.67416 \nz\n\" style=\"fill:#1f77b4;\"/>\n   </g>\n   <g id=\"patch_7\">\n    <path clip-path=\"url(#p1180542589)\" d=\"M 182.976136 224.64 \nL 213.4125 224.64 \nL 213.4125 184.760227 \nL 182.976136 184.760227 \nz\n\" style=\"fill:#1f77b4;\"/>\n   </g>\n   <g id=\"patch_8\">\n    <path clip-path=\"url(#p1180542589)\" d=\"M 213.4125 224.64 \nL 243.848864 224.64 \nL 243.848864 17.554286 \nL 213.4125 17.554286 \nz\n\" style=\"fill:#1f77b4;\"/>\n   </g>\n   <g id=\"patch_9\">\n    <path clip-path=\"url(#p1180542589)\" d=\"M 243.848864 224.64 \nL 274.285227 224.64 \nL 274.285227 81.32791 \nL 243.848864 81.32791 \nz\n\" style=\"fill:#1f77b4;\"/>\n   </g>\n   <g id=\"patch_10\">\n    <path clip-path=\"url(#p1180542589)\" d=\"M 274.285227 224.64 \nL 304.721591 224.64 \nL 304.721591 205.099761 \nL 274.285227 205.099761 \nz\n\" style=\"fill:#1f77b4;\"/>\n   </g>\n   <g id=\"patch_11\">\n    <path clip-path=\"url(#p1180542589)\" d=\"M 304.721591 224.64 \nL 335.157955 224.64 \nL 335.157955 222.378162 \nL 304.721591 222.378162 \nz\n\" style=\"fill:#1f77b4;\"/>\n   </g>\n   <g id=\"patch_12\">\n    <path clip-path=\"url(#p1180542589)\" d=\"M 335.157955 224.64 \nL 365.594318 224.64 \nL 365.594318 224.265861 \nL 335.157955 224.265861 \nz\n\" style=\"fill:#1f77b4;\"/>\n   </g>\n   <g id=\"matplotlib.axis_1\">\n    <g id=\"xtick_1\">\n     <g id=\"line2d_1\">\n      <defs>\n       <path d=\"M 0 0 \nL 0 3.5 \n\" id=\"m03ca44541f\" style=\"stroke:#000000;stroke-width:0.8;\"/>\n      </defs>\n      <g>\n       <use style=\"stroke:#000000;stroke-width:0.8;\" x=\"75.746225\" xlink:href=\"#m03ca44541f\" y=\"224.64\"/>\n      </g>\n     </g>\n     <g id=\"text_1\">\n      <!-- −30 -->\n      <g transform=\"translate(65.193881 239.238437)scale(0.1 -0.1)\">\n       <defs>\n        <path d=\"M 10.59375 35.5 \nL 73.1875 35.5 \nL 73.1875 27.203125 \nL 10.59375 27.203125 \nz\n\" id=\"DejaVuSans-8722\"/>\n        <path d=\"M 40.578125 39.3125 \nQ 47.65625 37.796875 51.625 33 \nQ 55.609375 28.21875 55.609375 21.1875 \nQ 55.609375 10.40625 48.1875 4.484375 \nQ 40.765625 -1.421875 27.09375 -1.421875 \nQ 22.515625 -1.421875 17.65625 -0.515625 \nQ 12.796875 0.390625 7.625 2.203125 \nL 7.625 11.71875 \nQ 11.71875 9.328125 16.59375 8.109375 \nQ 21.484375 6.890625 26.8125 6.890625 \nQ 36.078125 6.890625 40.9375 10.546875 \nQ 45.796875 14.203125 45.796875 21.1875 \nQ 45.796875 27.640625 41.28125 31.265625 \nQ 36.765625 34.90625 28.71875 34.90625 \nL 20.21875 34.90625 \nL 20.21875 43.015625 \nL 29.109375 43.015625 \nQ 36.375 43.015625 40.234375 45.921875 \nQ 44.09375 48.828125 44.09375 54.296875 \nQ 44.09375 59.90625 40.109375 62.90625 \nQ 36.140625 65.921875 28.71875 65.921875 \nQ 24.65625 65.921875 20.015625 65.03125 \nQ 15.375 64.15625 9.8125 62.3125 \nL 9.8125 71.09375 \nQ 15.4375 72.65625 20.34375 73.4375 \nQ 25.25 74.21875 29.59375 74.21875 \nQ 40.828125 74.21875 47.359375 69.109375 \nQ 53.90625 64.015625 53.90625 55.328125 \nQ 53.90625 49.265625 50.4375 45.09375 \nQ 46.96875 40.921875 40.578125 39.3125 \nz\n\" id=\"DejaVuSans-51\"/>\n        <path d=\"M 31.78125 66.40625 \nQ 24.171875 66.40625 20.328125 58.90625 \nQ 16.5 51.421875 16.5 36.375 \nQ 16.5 21.390625 20.328125 13.890625 \nQ 24.171875 6.390625 31.78125 6.390625 \nQ 39.453125 6.390625 43.28125 13.890625 \nQ 47.125 21.390625 47.125 36.375 \nQ 47.125 51.421875 43.28125 58.90625 \nQ 39.453125 66.40625 31.78125 66.40625 \nz\nM 31.78125 74.21875 \nQ 44.046875 74.21875 50.515625 64.515625 \nQ 56.984375 54.828125 56.984375 36.375 \nQ 56.984375 17.96875 50.515625 8.265625 \nQ 44.046875 -1.421875 31.78125 -1.421875 \nQ 19.53125 -1.421875 13.0625 8.265625 \nQ 6.59375 17.96875 6.59375 36.375 \nQ 6.59375 54.828125 13.0625 64.515625 \nQ 19.53125 74.21875 31.78125 74.21875 \nz\n\" id=\"DejaVuSans-48\"/>\n       </defs>\n       <use xlink:href=\"#DejaVuSans-8722\"/>\n       <use x=\"83.789062\" xlink:href=\"#DejaVuSans-51\"/>\n       <use x=\"147.412109\" xlink:href=\"#DejaVuSans-48\"/>\n      </g>\n     </g>\n    </g>\n    <g id=\"xtick_2\">\n     <g id=\"line2d_2\">\n      <g>\n       <use style=\"stroke:#000000;stroke-width:0.8;\" x=\"130.303187\" xlink:href=\"#m03ca44541f\" y=\"224.64\"/>\n      </g>\n     </g>\n     <g id=\"text_2\">\n      <!-- −20 -->\n      <g transform=\"translate(119.750843 239.238437)scale(0.1 -0.1)\">\n       <defs>\n        <path d=\"M 19.1875 8.296875 \nL 53.609375 8.296875 \nL 53.609375 0 \nL 7.328125 0 \nL 7.328125 8.296875 \nQ 12.9375 14.109375 22.625 23.890625 \nQ 32.328125 33.6875 34.8125 36.53125 \nQ 39.546875 41.84375 41.421875 45.53125 \nQ 43.3125 49.21875 43.3125 52.78125 \nQ 43.3125 58.59375 39.234375 62.25 \nQ 35.15625 65.921875 28.609375 65.921875 \nQ 23.96875 65.921875 18.8125 64.3125 \nQ 13.671875 62.703125 7.8125 59.421875 \nL 7.8125 69.390625 \nQ 13.765625 71.78125 18.9375 73 \nQ 24.125 74.21875 28.421875 74.21875 \nQ 39.75 74.21875 46.484375 68.546875 \nQ 53.21875 62.890625 53.21875 53.421875 \nQ 53.21875 48.921875 51.53125 44.890625 \nQ 49.859375 40.875 45.40625 35.40625 \nQ 44.1875 33.984375 37.640625 27.21875 \nQ 31.109375 20.453125 19.1875 8.296875 \nz\n\" id=\"DejaVuSans-50\"/>\n       </defs>\n       <use xlink:href=\"#DejaVuSans-8722\"/>\n       <use x=\"83.789062\" xlink:href=\"#DejaVuSans-50\"/>\n       <use x=\"147.412109\" xlink:href=\"#DejaVuSans-48\"/>\n      </g>\n     </g>\n    </g>\n    <g id=\"xtick_3\">\n     <g id=\"line2d_3\">\n      <g>\n       <use style=\"stroke:#000000;stroke-width:0.8;\" x=\"184.860148\" xlink:href=\"#m03ca44541f\" y=\"224.64\"/>\n      </g>\n     </g>\n     <g id=\"text_3\">\n      <!-- −10 -->\n      <g transform=\"translate(174.307804 239.238437)scale(0.1 -0.1)\">\n       <defs>\n        <path d=\"M 12.40625 8.296875 \nL 28.515625 8.296875 \nL 28.515625 63.921875 \nL 10.984375 60.40625 \nL 10.984375 69.390625 \nL 28.421875 72.90625 \nL 38.28125 72.90625 \nL 38.28125 8.296875 \nL 54.390625 8.296875 \nL 54.390625 0 \nL 12.40625 0 \nz\n\" id=\"DejaVuSans-49\"/>\n       </defs>\n       <use xlink:href=\"#DejaVuSans-8722\"/>\n       <use x=\"83.789062\" xlink:href=\"#DejaVuSans-49\"/>\n       <use x=\"147.412109\" xlink:href=\"#DejaVuSans-48\"/>\n      </g>\n     </g>\n    </g>\n    <g id=\"xtick_4\">\n     <g id=\"line2d_4\">\n      <g>\n       <use style=\"stroke:#000000;stroke-width:0.8;\" x=\"239.417109\" xlink:href=\"#m03ca44541f\" y=\"224.64\"/>\n      </g>\n     </g>\n     <g id=\"text_4\">\n      <!-- 0 -->\n      <g transform=\"translate(236.235859 239.238437)scale(0.1 -0.1)\">\n       <use xlink:href=\"#DejaVuSans-48\"/>\n      </g>\n     </g>\n    </g>\n    <g id=\"xtick_5\">\n     <g id=\"line2d_5\">\n      <g>\n       <use style=\"stroke:#000000;stroke-width:0.8;\" x=\"293.974071\" xlink:href=\"#m03ca44541f\" y=\"224.64\"/>\n      </g>\n     </g>\n     <g id=\"text_5\">\n      <!-- 10 -->\n      <g transform=\"translate(287.611571 239.238437)scale(0.1 -0.1)\">\n       <use xlink:href=\"#DejaVuSans-49\"/>\n       <use x=\"63.623047\" xlink:href=\"#DejaVuSans-48\"/>\n      </g>\n     </g>\n    </g>\n    <g id=\"xtick_6\">\n     <g id=\"line2d_6\">\n      <g>\n       <use style=\"stroke:#000000;stroke-width:0.8;\" x=\"348.531032\" xlink:href=\"#m03ca44541f\" y=\"224.64\"/>\n      </g>\n     </g>\n     <g id=\"text_6\">\n      <!-- 20 -->\n      <g transform=\"translate(342.168532 239.238437)scale(0.1 -0.1)\">\n       <use xlink:href=\"#DejaVuSans-50\"/>\n       <use x=\"63.623047\" xlink:href=\"#DejaVuSans-48\"/>\n      </g>\n     </g>\n    </g>\n   </g>\n   <g id=\"matplotlib.axis_2\">\n    <g id=\"ytick_1\">\n     <g id=\"line2d_7\">\n      <defs>\n       <path d=\"M 0 0 \nL -3.5 0 \n\" id=\"m6d67b00438\" style=\"stroke:#000000;stroke-width:0.8;\"/>\n      </defs>\n      <g>\n       <use style=\"stroke:#000000;stroke-width:0.8;\" x=\"46.0125\" xlink:href=\"#m6d67b00438\" y=\"224.64\"/>\n      </g>\n     </g>\n     <g id=\"text_7\">\n      <!-- 0 -->\n      <g transform=\"translate(32.65 228.439219)scale(0.1 -0.1)\">\n       <use xlink:href=\"#DejaVuSans-48\"/>\n      </g>\n     </g>\n    </g>\n    <g id=\"ytick_2\">\n     <g id=\"line2d_8\">\n      <g>\n       <use style=\"stroke:#000000;stroke-width:0.8;\" x=\"46.0125\" xlink:href=\"#m6d67b00438\" y=\"190.6274\"/>\n      </g>\n     </g>\n     <g id=\"text_8\">\n      <!-- 2000 -->\n      <g transform=\"translate(13.5625 194.426619)scale(0.1 -0.1)\">\n       <use xlink:href=\"#DejaVuSans-50\"/>\n       <use x=\"63.623047\" xlink:href=\"#DejaVuSans-48\"/>\n       <use x=\"127.246094\" xlink:href=\"#DejaVuSans-48\"/>\n       <use x=\"190.869141\" xlink:href=\"#DejaVuSans-48\"/>\n      </g>\n     </g>\n    </g>\n    <g id=\"ytick_3\">\n     <g id=\"line2d_9\">\n      <g>\n       <use style=\"stroke:#000000;stroke-width:0.8;\" x=\"46.0125\" xlink:href=\"#m6d67b00438\" y=\"156.6148\"/>\n      </g>\n     </g>\n     <g id=\"text_9\">\n      <!-- 4000 -->\n      <g transform=\"translate(13.5625 160.414019)scale(0.1 -0.1)\">\n       <defs>\n        <path d=\"M 37.796875 64.3125 \nL 12.890625 25.390625 \nL 37.796875 25.390625 \nz\nM 35.203125 72.90625 \nL 47.609375 72.90625 \nL 47.609375 25.390625 \nL 58.015625 25.390625 \nL 58.015625 17.1875 \nL 47.609375 17.1875 \nL 47.609375 0 \nL 37.796875 0 \nL 37.796875 17.1875 \nL 4.890625 17.1875 \nL 4.890625 26.703125 \nz\n\" id=\"DejaVuSans-52\"/>\n       </defs>\n       <use xlink:href=\"#DejaVuSans-52\"/>\n       <use x=\"63.623047\" xlink:href=\"#DejaVuSans-48\"/>\n       <use x=\"127.246094\" xlink:href=\"#DejaVuSans-48\"/>\n       <use x=\"190.869141\" xlink:href=\"#DejaVuSans-48\"/>\n      </g>\n     </g>\n    </g>\n    <g id=\"ytick_4\">\n     <g id=\"line2d_10\">\n      <g>\n       <use style=\"stroke:#000000;stroke-width:0.8;\" x=\"46.0125\" xlink:href=\"#m6d67b00438\" y=\"122.6022\"/>\n      </g>\n     </g>\n     <g id=\"text_10\">\n      <!-- 6000 -->\n      <g transform=\"translate(13.5625 126.401419)scale(0.1 -0.1)\">\n       <defs>\n        <path d=\"M 33.015625 40.375 \nQ 26.375 40.375 22.484375 35.828125 \nQ 18.609375 31.296875 18.609375 23.390625 \nQ 18.609375 15.53125 22.484375 10.953125 \nQ 26.375 6.390625 33.015625 6.390625 \nQ 39.65625 6.390625 43.53125 10.953125 \nQ 47.40625 15.53125 47.40625 23.390625 \nQ 47.40625 31.296875 43.53125 35.828125 \nQ 39.65625 40.375 33.015625 40.375 \nz\nM 52.59375 71.296875 \nL 52.59375 62.3125 \nQ 48.875 64.0625 45.09375 64.984375 \nQ 41.3125 65.921875 37.59375 65.921875 \nQ 27.828125 65.921875 22.671875 59.328125 \nQ 17.53125 52.734375 16.796875 39.40625 \nQ 19.671875 43.65625 24.015625 45.921875 \nQ 28.375 48.1875 33.59375 48.1875 \nQ 44.578125 48.1875 50.953125 41.515625 \nQ 57.328125 34.859375 57.328125 23.390625 \nQ 57.328125 12.15625 50.6875 5.359375 \nQ 44.046875 -1.421875 33.015625 -1.421875 \nQ 20.359375 -1.421875 13.671875 8.265625 \nQ 6.984375 17.96875 6.984375 36.375 \nQ 6.984375 53.65625 15.1875 63.9375 \nQ 23.390625 74.21875 37.203125 74.21875 \nQ 40.921875 74.21875 44.703125 73.484375 \nQ 48.484375 72.75 52.59375 71.296875 \nz\n\" id=\"DejaVuSans-54\"/>\n       </defs>\n       <use xlink:href=\"#DejaVuSans-54\"/>\n       <use x=\"63.623047\" xlink:href=\"#DejaVuSans-48\"/>\n       <use x=\"127.246094\" xlink:href=\"#DejaVuSans-48\"/>\n       <use x=\"190.869141\" xlink:href=\"#DejaVuSans-48\"/>\n      </g>\n     </g>\n    </g>\n    <g id=\"ytick_5\">\n     <g id=\"line2d_11\">\n      <g>\n       <use style=\"stroke:#000000;stroke-width:0.8;\" x=\"46.0125\" xlink:href=\"#m6d67b00438\" y=\"88.589601\"/>\n      </g>\n     </g>\n     <g id=\"text_11\">\n      <!-- 8000 -->\n      <g transform=\"translate(13.5625 92.388819)scale(0.1 -0.1)\">\n       <defs>\n        <path d=\"M 31.78125 34.625 \nQ 24.75 34.625 20.71875 30.859375 \nQ 16.703125 27.09375 16.703125 20.515625 \nQ 16.703125 13.921875 20.71875 10.15625 \nQ 24.75 6.390625 31.78125 6.390625 \nQ 38.8125 6.390625 42.859375 10.171875 \nQ 46.921875 13.96875 46.921875 20.515625 \nQ 46.921875 27.09375 42.890625 30.859375 \nQ 38.875 34.625 31.78125 34.625 \nz\nM 21.921875 38.8125 \nQ 15.578125 40.375 12.03125 44.71875 \nQ 8.5 49.078125 8.5 55.328125 \nQ 8.5 64.0625 14.71875 69.140625 \nQ 20.953125 74.21875 31.78125 74.21875 \nQ 42.671875 74.21875 48.875 69.140625 \nQ 55.078125 64.0625 55.078125 55.328125 \nQ 55.078125 49.078125 51.53125 44.71875 \nQ 48 40.375 41.703125 38.8125 \nQ 48.828125 37.15625 52.796875 32.3125 \nQ 56.78125 27.484375 56.78125 20.515625 \nQ 56.78125 9.90625 50.3125 4.234375 \nQ 43.84375 -1.421875 31.78125 -1.421875 \nQ 19.734375 -1.421875 13.25 4.234375 \nQ 6.78125 9.90625 6.78125 20.515625 \nQ 6.78125 27.484375 10.78125 32.3125 \nQ 14.796875 37.15625 21.921875 38.8125 \nz\nM 18.3125 54.390625 \nQ 18.3125 48.734375 21.84375 45.5625 \nQ 25.390625 42.390625 31.78125 42.390625 \nQ 38.140625 42.390625 41.71875 45.5625 \nQ 45.3125 48.734375 45.3125 54.390625 \nQ 45.3125 60.0625 41.71875 63.234375 \nQ 38.140625 66.40625 31.78125 66.40625 \nQ 25.390625 66.40625 21.84375 63.234375 \nQ 18.3125 60.0625 18.3125 54.390625 \nz\n\" id=\"DejaVuSans-56\"/>\n       </defs>\n       <use xlink:href=\"#DejaVuSans-56\"/>\n       <use x=\"63.623047\" xlink:href=\"#DejaVuSans-48\"/>\n       <use x=\"127.246094\" xlink:href=\"#DejaVuSans-48\"/>\n       <use x=\"190.869141\" xlink:href=\"#DejaVuSans-48\"/>\n      </g>\n     </g>\n    </g>\n    <g id=\"ytick_6\">\n     <g id=\"line2d_12\">\n      <g>\n       <use style=\"stroke:#000000;stroke-width:0.8;\" x=\"46.0125\" xlink:href=\"#m6d67b00438\" y=\"54.577001\"/>\n      </g>\n     </g>\n     <g id=\"text_12\">\n      <!-- 10000 -->\n      <g transform=\"translate(7.2 58.376219)scale(0.1 -0.1)\">\n       <use xlink:href=\"#DejaVuSans-49\"/>\n       <use x=\"63.623047\" xlink:href=\"#DejaVuSans-48\"/>\n       <use x=\"127.246094\" xlink:href=\"#DejaVuSans-48\"/>\n       <use x=\"190.869141\" xlink:href=\"#DejaVuSans-48\"/>\n       <use x=\"254.492188\" xlink:href=\"#DejaVuSans-48\"/>\n      </g>\n     </g>\n    </g>\n    <g id=\"ytick_7\">\n     <g id=\"line2d_13\">\n      <g>\n       <use style=\"stroke:#000000;stroke-width:0.8;\" x=\"46.0125\" xlink:href=\"#m6d67b00438\" y=\"20.564401\"/>\n      </g>\n     </g>\n     <g id=\"text_13\">\n      <!-- 12000 -->\n      <g transform=\"translate(7.2 24.36362)scale(0.1 -0.1)\">\n       <use xlink:href=\"#DejaVuSans-49\"/>\n       <use x=\"63.623047\" xlink:href=\"#DejaVuSans-50\"/>\n       <use x=\"127.246094\" xlink:href=\"#DejaVuSans-48\"/>\n       <use x=\"190.869141\" xlink:href=\"#DejaVuSans-48\"/>\n       <use x=\"254.492188\" xlink:href=\"#DejaVuSans-48\"/>\n      </g>\n     </g>\n    </g>\n   </g>\n   <g id=\"patch_13\">\n    <path d=\"M 46.0125 224.64 \nL 46.0125 7.2 \n\" style=\"fill:none;stroke:#000000;stroke-linecap:square;stroke-linejoin:miter;stroke-width:0.8;\"/>\n   </g>\n   <g id=\"patch_14\">\n    <path d=\"M 380.8125 224.64 \nL 380.8125 7.2 \n\" style=\"fill:none;stroke:#000000;stroke-linecap:square;stroke-linejoin:miter;stroke-width:0.8;\"/>\n   </g>\n   <g id=\"patch_15\">\n    <path d=\"M 46.0125 224.64 \nL 380.8125 224.64 \n\" style=\"fill:none;stroke:#000000;stroke-linecap:square;stroke-linejoin:miter;stroke-width:0.8;\"/>\n   </g>\n   <g id=\"patch_16\">\n    <path d=\"M 46.0125 7.2 \nL 380.8125 7.2 \n\" style=\"fill:none;stroke:#000000;stroke-linecap:square;stroke-linejoin:miter;stroke-width:0.8;\"/>\n   </g>\n  </g>\n </g>\n <defs>\n  <clipPath id=\"p1180542589\">\n   <rect height=\"217.44\" width=\"334.8\" x=\"46.0125\" y=\"7.2\"/>\n  </clipPath>\n </defs>\n</svg>\n",
      "image/png": "[encoded data removed]"
     },
     "metadata": {
      "needs_background": "light"
     }
    }
   ],
   "source": [
    "plt.hist(y[\"y_frame\"].detach().numpy().flatten())"
   ]
  },
  {
   "cell_type": "code",
   "execution_count": 56,
   "metadata": {},
   "outputs": [],
   "source": [
    "a = np.arange(24).reshape(2,3,4).max(axis=1)"
   ]
  },
  {
   "cell_type": "code",
   "execution_count": 57,
   "metadata": {},
   "outputs": [
    {
     "output_type": "execute_result",
     "data": {
      "text/plain": [
       "array([[ 8,  9, 10, 11],\n",
       "       [20, 21, 22, 23]])"
      ]
     },
     "metadata": {},
     "execution_count": 57
    }
   ],
   "source": [
    "a"
   ]
  },
  {
   "cell_type": "code",
   "execution_count": null,
   "metadata": {},
   "outputs": [],
   "source": []
  }
 ],
 "metadata": {
  "kernelspec": {
   "display_name": "Python 3.6.8 64-bit ('venv': virtualenv)",
   "language": "python",
   "name": "python36864bitvenvvirtualenv6514465dac1e4c1981844926ede66322"
  },
  "language_info": {
   "codemirror_mode": {
    "name": "ipython",
    "version": 3
   },
   "file_extension": ".py",
   "mimetype": "text/x-python",
   "name": "python",
   "nbconvert_exporter": "python",
   "pygments_lexer": "ipython3",
   "version": "3.6.8-final"
  }
 },
 "nbformat": 4,
 "nbformat_minor": 2
}