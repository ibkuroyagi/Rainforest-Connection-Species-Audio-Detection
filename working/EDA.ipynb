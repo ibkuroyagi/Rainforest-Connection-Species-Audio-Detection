{
 "metadata": {
  "language_info": {
   "codemirror_mode": {
    "name": "ipython",
    "version": 3
   },
   "file_extension": ".py",
   "mimetype": "text/x-python",
   "name": "python",
   "nbconvert_exporter": "python",
   "pygments_lexer": "ipython3",
   "version": "3.6.8-final"
  },
  "orig_nbformat": 2,
  "kernelspec": {
   "name": "python36864bitvenvvirtualenv6514465dac1e4c1981844926ede66322",
   "display_name": "Python 3.6.8 64-bit ('venv': virtualenv)"
  }
 },
 "nbformat": 4,
 "nbformat_minor": 2,
 "cells": [
  {
   "cell_type": "code",
   "execution_count": 38,
   "metadata": {},
   "outputs": [],
   "source": [
    "import pandas as pd\n",
    "import librosa\n",
    "import numpy as np\n",
    "import matplotlib.pyplot as plt\n",
    "import os\n",
    "import torch\n",
    "import torch.nn as nn\n",
    "import yaml\n",
    "from torch.utils.data import DataLoader\n",
    "from tqdm.notebook import tqdm"
   ]
  },
  {
   "cell_type": "code",
   "execution_count": 2,
   "metadata": {},
   "outputs": [],
   "source": [
    "train_tp = pd.read_csv('../input/rfcx-species-audio-detection/train_tp.csv')\n",
    "train_fp = pd.read_csv('../input/rfcx-species-audio-detection/train_fp.csv')"
   ]
  },
  {
   "cell_type": "code",
   "execution_count": 31,
   "metadata": {},
   "outputs": [],
   "source": [
    "tmp = pd.DataFrame(train_tp[\"recording_id\"].value_counts()).reset_index().rename(columns={'index': 'recording_id', \"recording_id\": \"count\"})\n",
    "train_tp = pd.merge(train_tp, tmp, on=\"recording_id\", how='inner')\n",
    "# train_tp"
   ]
  },
  {
   "cell_type": "code",
   "execution_count": 33,
   "metadata": {},
   "outputs": [
    {
     "output_type": "execute_result",
     "data": {
      "text/plain": [
       "     recording_id  species_id  songtype_id    t_min    f_min    t_max  \\\n",
       "19      03b96f209          16            4  30.9333  3093.75  32.7680   \n",
       "20      03b96f209          16            4  49.6320  3093.75  51.4667   \n",
       "28      053aeb7bd          23            4   9.8569  6459.96  17.7807   \n",
       "29      053aeb7bd          23            4   0.9520  6459.96   8.8758   \n",
       "75      11c2c02e5          15            1  17.6587    93.75  21.0027   \n",
       "...           ...         ...          ...      ...      ...      ...   \n",
       "1154    ee3dc0bc6          17            1  47.0720  1312.50  53.5253   \n",
       "1173    f3f82b897          19            1  53.7227   281.25  55.2747   \n",
       "1174    f3f82b897          19            1  51.7013   281.25  53.2533   \n",
       "1191    f97ababc1          15            1  10.8853    93.75  14.2293   \n",
       "1192    f97ababc1          15            1   9.1200    93.75  12.4640   \n",
       "\n",
       "         f_max  count  \n",
       "19     4593.75      2  \n",
       "20     4593.75      2  \n",
       "28    11627.90      2  \n",
       "29    11627.90      2  \n",
       "75     1125.00      2  \n",
       "...        ...    ...  \n",
       "1154   3937.50      2  \n",
       "1173   2812.50      2  \n",
       "1174   2812.50      2  \n",
       "1191   1125.00      2  \n",
       "1192   1125.00      2  \n",
       "\n",
       "[151 rows x 8 columns]"
      ],
      "text/html": "<div>\n<style scoped>\n    .dataframe tbody tr th:only-of-type {\n        vertical-align: middle;\n    }\n\n    .dataframe tbody tr th {\n        vertical-align: top;\n    }\n\n    .dataframe thead th {\n        text-align: right;\n    }\n</style>\n<table border=\"1\" class=\"dataframe\">\n  <thead>\n    <tr style=\"text-align: right;\">\n      <th></th>\n      <th>recording_id</th>\n      <th>species_id</th>\n      <th>songtype_id</th>\n      <th>t_min</th>\n      <th>f_min</th>\n      <th>t_max</th>\n      <th>f_max</th>\n      <th>count</th>\n    </tr>\n  </thead>\n  <tbody>\n    <tr>\n      <th>19</th>\n      <td>03b96f209</td>\n      <td>16</td>\n      <td>4</td>\n      <td>30.9333</td>\n      <td>3093.75</td>\n      <td>32.7680</td>\n      <td>4593.75</td>\n      <td>2</td>\n    </tr>\n    <tr>\n      <th>20</th>\n      <td>03b96f209</td>\n      <td>16</td>\n      <td>4</td>\n      <td>49.6320</td>\n      <td>3093.75</td>\n      <td>51.4667</td>\n      <td>4593.75</td>\n      <td>2</td>\n    </tr>\n    <tr>\n      <th>28</th>\n      <td>053aeb7bd</td>\n      <td>23</td>\n      <td>4</td>\n      <td>9.8569</td>\n      <td>6459.96</td>\n      <td>17.7807</td>\n      <td>11627.90</td>\n      <td>2</td>\n    </tr>\n    <tr>\n      <th>29</th>\n      <td>053aeb7bd</td>\n      <td>23</td>\n      <td>4</td>\n      <td>0.9520</td>\n      <td>6459.96</td>\n      <td>8.8758</td>\n      <td>11627.90</td>\n      <td>2</td>\n    </tr>\n    <tr>\n      <th>75</th>\n      <td>11c2c02e5</td>\n      <td>15</td>\n      <td>1</td>\n      <td>17.6587</td>\n      <td>93.75</td>\n      <td>21.0027</td>\n      <td>1125.00</td>\n      <td>2</td>\n    </tr>\n    <tr>\n      <th>...</th>\n      <td>...</td>\n      <td>...</td>\n      <td>...</td>\n      <td>...</td>\n      <td>...</td>\n      <td>...</td>\n      <td>...</td>\n      <td>...</td>\n    </tr>\n    <tr>\n      <th>1154</th>\n      <td>ee3dc0bc6</td>\n      <td>17</td>\n      <td>1</td>\n      <td>47.0720</td>\n      <td>1312.50</td>\n      <td>53.5253</td>\n      <td>3937.50</td>\n      <td>2</td>\n    </tr>\n    <tr>\n      <th>1173</th>\n      <td>f3f82b897</td>\n      <td>19</td>\n      <td>1</td>\n      <td>53.7227</td>\n      <td>281.25</td>\n      <td>55.2747</td>\n      <td>2812.50</td>\n      <td>2</td>\n    </tr>\n    <tr>\n      <th>1174</th>\n      <td>f3f82b897</td>\n      <td>19</td>\n      <td>1</td>\n      <td>51.7013</td>\n      <td>281.25</td>\n      <td>53.2533</td>\n      <td>2812.50</td>\n      <td>2</td>\n    </tr>\n    <tr>\n      <th>1191</th>\n      <td>f97ababc1</td>\n      <td>15</td>\n      <td>1</td>\n      <td>10.8853</td>\n      <td>93.75</td>\n      <td>14.2293</td>\n      <td>1125.00</td>\n      <td>2</td>\n    </tr>\n    <tr>\n      <th>1192</th>\n      <td>f97ababc1</td>\n      <td>15</td>\n      <td>1</td>\n      <td>9.1200</td>\n      <td>93.75</td>\n      <td>12.4640</td>\n      <td>1125.00</td>\n      <td>2</td>\n    </tr>\n  </tbody>\n</table>\n<p>151 rows × 8 columns</p>\n</div>"
     },
     "metadata": {},
     "execution_count": 33
    }
   ],
   "source": [
    "train_tp[train_tp[\"count\"] > 1]"
   ]
  },
  {
   "cell_type": "code",
   "execution_count": 37,
   "metadata": {},
   "outputs": [
    {
     "output_type": "execute_result",
     "data": {
      "text/plain": [
       "1    1065\n",
       "2     110\n",
       "3      24\n",
       "4      12\n",
       "5       5\n",
       "Name: count, dtype: int64"
      ]
     },
     "metadata": {},
     "execution_count": 37
    }
   ],
   "source": [
    "train_tp[\"count\"].value_counts()"
   ]
  },
  {
   "cell_type": "code",
   "execution_count": null,
   "metadata": {},
   "outputs": [],
   "source": [
    "path = \"../input/rfcx-species-audio-detection/train/0a4e7e350.flac\"\n",
    "librosa.load()"
   ]
  },
  {
   "cell_type": "code",
   "execution_count": 39,
   "metadata": {},
   "outputs": [
    {
     "output_type": "stream",
     "name": "stdout",
     "text": [
      "train:4727, test:1992\n"
     ]
    }
   ],
   "source": [
    "train_path_list = os.listdir(\"../input/rfcx-species-audio-detection/train\")\n",
    "test_path_list = os.listdir(\"../input/rfcx-species-audio-detection/test\")\n",
    "print(f\"train:{len(train_path_list)}, test:{len(test_path_list)}\")"
   ]
  },
  {
   "cell_type": "code",
   "execution_count": null,
   "metadata": {},
   "outputs": [],
   "source": []
  }
 ]
}