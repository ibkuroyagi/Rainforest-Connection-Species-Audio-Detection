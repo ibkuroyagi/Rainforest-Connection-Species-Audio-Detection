{
 "metadata": {
  "language_info": {
   "codemirror_mode": {
    "name": "ipython",
    "version": 3
   },
   "file_extension": ".py",
   "mimetype": "text/x-python",
   "name": "python",
   "nbconvert_exporter": "python",
   "pygments_lexer": "ipython3",
   "version": "3.6.8-final"
  },
  "orig_nbformat": 2,
  "kernelspec": {
   "name": "python36864bitvenvvirtualenv6514465dac1e4c1981844926ede66322",
   "display_name": "Python 3.6.8 64-bit ('venv': virtualenv)",
   "language": "python"
  }
 },
 "nbformat": 4,
 "nbformat_minor": 2,
 "cells": [
  {
   "cell_type": "code",
   "execution_count": 6,
   "metadata": {},
   "outputs": [
    {
     "output_type": "stream",
     "name": "stdout",
     "text": [
      "The autoreload extension is already loaded. To reload it, use:\n  %reload_ext autoreload\n"
     ]
    }
   ],
   "source": [
    "import pandas as pd\n",
    "import librosa\n",
    "import numpy as np\n",
    "import pandas as pd\n",
    "import matplotlib.pyplot as plt\n",
    "import os\n",
    "import sys\n",
    "import torch\n",
    "import torch.nn as nn\n",
    "import yaml\n",
    "from torch.utils.data import DataLoader\n",
    "from tqdm import tqdm_notebook as tqdm\n",
    "\n",
    "sys.path.append(\"../input/modules\")\n",
    "from datasets import RainForestDataset\n",
    "from utils import read_hdf5\n",
    "from utils import down_sampler\n",
    "from models import Cnn14_DecisionLevelAtt\n",
    "from losses import FrameClipLoss\n",
    "from datasets import FeatTrainCollater\n",
    "from datasets import FeatEvalCollater\n",
    "from utils import lwlrap\n",
    "sys.path.append(\"../input/iterative-stratification-master\")\n",
    "from iterstrat.ml_stratifiers import MultilabelStratifiedKFold\n",
    "%load_ext autoreload\n",
    "%autoreload 2"
   ]
  },
  {
   "cell_type": "code",
   "execution_count": 7,
   "metadata": {},
   "outputs": [],
   "source": [
    "train_tp = pd.read_csv('../input/rfcx-species-audio-detection/train_tp.csv')\n",
    "train_fp = pd.read_csv('../input/rfcx-species-audio-detection/train_fp.csv')\n",
    "submission = pd.read_csv('../input/rfcx-species-audio-detection/sample_submission.csv')\n",
    "tmp = pd.DataFrame(train_tp[\"recording_id\"].value_counts()).reset_index().rename(columns={'index': 'recording_id', \"recording_id\": \"count\"})\n",
    "train_tp[\"t_diff\"] = train_tp[\"t_max\"] - train_tp[\"t_min\"]\n",
    "train_tp[\"f_diff\"] = train_tp[\"f_max\"] - train_tp[\"f_min\"]\n",
    "train_fp[\"t_diff\"] = train_fp[\"t_max\"] - train_fp[\"t_min\"]\n",
    "train_fp[\"f_diff\"] = train_fp[\"f_max\"] - train_fp[\"f_min\"]\n",
    "train_tp = pd.merge(train_tp, tmp, on=\"recording_id\", how='inner')\n",
    "train_tp[\"count\"].value_counts()\n",
    "tp_list = train_tp[\"recording_id\"].unique()\n",
    "fp_list = train_fp[\"recording_id\"].unique()"
   ]
  },
  {
   "cell_type": "code",
   "execution_count": 8,
   "metadata": {},
   "outputs": [
    {
     "output_type": "execute_result",
     "data": {
      "text/plain": [
       "1     2028\n",
       "2     1716\n",
       "3     1635\n",
       "4     1356\n",
       "5      575\n",
       "6      294\n",
       "7      126\n",
       "8       32\n",
       "10      10\n",
       "9        9\n",
       "Name: count, dtype: int64"
      ]
     },
     "metadata": {},
     "execution_count": 8
    }
   ],
   "source": [
    "tmp = pd.DataFrame(train_fp[\"recording_id\"].value_counts()).reset_index().rename(columns={'index': 'recording_id', \"recording_id\": \"count\"})\n",
    "train_fp = pd.merge(train_fp, tmp, on=\"recording_id\", how='inner')\n",
    "train_fp[\"count\"].value_counts()"
   ]
  },
  {
   "cell_type": "code",
   "execution_count": 9,
   "metadata": {
    "tags": []
   },
   "outputs": [
    {
     "output_type": "stream",
     "name": "stdout",
     "text": [
      "train:4727, test:1992\n"
     ]
    }
   ],
   "source": [
    "train_path_list = os.listdir(\"../input/rfcx-species-audio-detection/train\")\n",
    "test_path_list = os.listdir(\"../input/rfcx-species-audio-detection/test\")\n",
    "print(f\"train:{len(train_path_list)}, test:{len(test_path_list)}\")\n",
    "# print(\"train\")\n",
    "# for path in tqdm(train_path_list):\n",
    "#     path = os.path.join(\"../input/rfcx-species-audio-detection/train\", path)\n",
    "#     y, sr = librosa.load(path=path, sr=None)\n",
    "#     if (sr != 48000) or (len(y) != 2880000):\n",
    "#         print(path, y.shape, sr)\n",
    "# print(\"test\")\n",
    "# for path in tqdm(test_path_list):\n",
    "#     path = os.path.join(\"../input/rfcx-species-audio-detection/test\", path)\n",
    "#     y, sr = librosa.load(path=path, sr=None)\n",
    "#     if (sr != 48000) or (len(y) != 2880000):\n",
    "#         print(path, y.shape, sr)"
   ]
  },
  {
   "cell_type": "code",
   "execution_count": null,
   "metadata": {},
   "outputs": [],
   "source": [
    "plt.figure(figsize=(16, 8))\n",
    "plt.subplot(2, 2, 1)\n",
    "plt.plot(y)\n",
    "plt.subplot(2, 2, 2)\n",
    "plt.imshow(logmel.T, aspect=\"auto\")\n",
    "\n",
    "plt.colorbar()\n",
    "y, sr = librosa.load(path=train_tp_list[10], sr=48000)\n",
    "# y = (y -y.mean()) / y.std()\n",
    "logmel = logmelfilterbank(\n",
    "    y,\n",
    "    sr,\n",
    "    fft_size=2048,\n",
    "    hop_size=512,\n",
    "    win_length=None,\n",
    "    window=\"hann\",\n",
    "    num_mels=128,\n",
    "    fmin=50,\n",
    "    fmax=16000,\n",
    "    eps=1e-10,\n",
    ")\n",
    "plt.subplot(2, 2, 3)\n",
    "plt.plot(y)\n",
    "plt.subplot(2, 2, 4)\n",
    "plt.imshow(logmel.T, aspect=\"auto\")\n",
    "plt.colorbar()\n",
    "\n",
    "# plt.savefig(\"spec.png\")"
   ]
  },
  {
   "cell_type": "code",
   "execution_count": 5,
   "metadata": {},
   "outputs": [],
   "source": [
    "path = \"dump/wave/train/551385b05.h5\" # \"dump/wave/train/c12e0a62b.h5\"\n",
    "wave = read_hdf5(hdf5_name=path, hdf5_path=\"wave\")\n",
    "mel = read_hdf5(hdf5_name=path, hdf5_path=\"feats\")\n",
    "matrix_tp = read_hdf5(hdf5_name=path, hdf5_path=\"matrix_tp\")\n",
    "matrix_fp = read_hdf5(hdf5_name=path, hdf5_path=\"matrix_fp\")\n",
    "\n",
    "# plt.figure(figsize=(16, 8))\n",
    "# plt.subplot(2, 2, 1)\n",
    "# plt.plot(wave)\n",
    "# plt.subplot(2, 2, 2)\n",
    "# plt.imshow(mel.T, aspect=\"auto\")\n",
    "# plt.colorbar()\n",
    "# plt.subplot(2, 2, 3)\n",
    "# plt.imshow(matrix_tp.T, aspect=\"auto\")\n",
    "# plt.subplot(2, 2, 4)\n",
    "# plt.imshow(matrix_fp.T, aspect=\"auto\")\n",
    "# plt.colorbar()"
   ]
  },
  {
   "cell_type": "code",
   "execution_count": 6,
   "metadata": {
    "tags": []
   },
   "outputs": [
    {
     "output_type": "stream",
     "name": "stdout",
     "text": [
      "torch.Size([2, 16, 24]) torch.Size([2, 24])\n",
      "torch.Size([2, 16, 24]) torch.Size([2, 24])\n"
     ]
    }
   ],
   "source": [
    "y_frame = torch.stack([torch.tensor(down_sampler(matrix_tp[3000:3512])), torch.tensor(down_sampler(matrix_tp[4500:5012]))], dim=0)\n",
    "y_clip = torch.tensor((y_frame>0).any(axis=1), dtype=torch.float)\n",
    "x_batch = torch.stack([torch.tensor(mel[3000:3512]), torch.tensor(mel[4500:5012])], dim=0).transpose(2,1)\n",
    "print(y_frame.shape, y_clip.shape)\n",
    "model = Cnn14_DecisionLevelAtt(sample_rate=16000,\n",
    "        window_size=1024,\n",
    "        hop_size=256,\n",
    "        mel_bins=64,\n",
    "        fmin=50,\n",
    "        fmax=8000,\n",
    "        classes_num=24,\n",
    "        training=False,\n",
    "        require_prep=False,\n",
    "        is_spec_augmenter=False,\n",
    "        mixup_lambda=None,)\n",
    "model.bn0 = nn.BatchNorm2d(128)\n",
    "y = model(x_batch)\n",
    "bce = nn.BCEWithLogitsLoss(reduction=\"mean\")\n",
    "print(y[\"y_frame\"].shape, y[\"y_clip\"].shape)"
   ]
  },
  {
   "cell_type": "code",
   "execution_count": 21,
   "metadata": {},
   "outputs": [
    {
     "output_type": "stream",
     "name": "stdout",
     "text": [
      "0.9768208266970457\n"
     ]
    }
   ],
   "source": [
    "criterion = FrameClipLoss()\n",
    "loss = criterion(y[\"y_frame\"], y_frame, y[\"y_clip\"], y_clip)\n",
    "print(loss.item())\n",
    "loss.backward(retain_graph=True)\n",
    "# clip_loss = bce(y[\"y_clip\"], y_clip)\n",
    "# frame_loss = bce(y[\"y_frame\"], y_frame)\n",
    "# print(clip_loss.item())\n",
    "# print(frame_loss.item())\n",
    "# clip_loss.backward(retain_graph=True)\n",
    "# frame_loss.backward(retain_graph=True)\n"
   ]
  },
  {
   "cell_type": "code",
   "execution_count": 20,
   "metadata": {},
   "outputs": [
    {
     "output_type": "execute_result",
     "data": {
      "text/plain": [
       "<matplotlib.image.AxesImage at 0x7f1264a3ef60>"
      ]
     },
     "metadata": {},
     "execution_count": 20
    },
    {
     "output_type": "display_data",
     "data": {
      "text/plain": "<Figure size 432x288 with 1 Axes>",
      "image/svg+xml": "<?xml version=\"1.0\" encoding=\"utf-8\" standalone=\"no\"?>\n<!DOCTYPE svg PUBLIC \"-//W3C//DTD SVG 1.1//EN\"\n  \"http://www.w3.org/Graphics/SVG/1.1/DTD/svg11.dtd\">\n<!-- Created with matplotlib (https://matplotlib.org/) -->\n<svg height=\"248.518125pt\" version=\"1.1\" viewBox=\"0 0 368.925 248.518125\" width=\"368.925pt\" xmlns=\"http://www.w3.org/2000/svg\" xmlns:xlink=\"http://www.w3.org/1999/xlink\">\n <metadata>\n  <rdf:RDF xmlns:cc=\"http://creativecommons.org/ns#\" xmlns:dc=\"http://purl.org/dc/elements/1.1/\" xmlns:rdf=\"http://www.w3.org/1999/02/22-rdf-syntax-ns#\">\n   <cc:Work>\n    <dc:type rdf:resource=\"http://purl.org/dc/dcmitype/StillImage\"/>\n    <dc:date>2020-12-12T19:39:10.554569</dc:date>\n    <dc:format>image/svg+xml</dc:format>\n    <dc:creator>\n     <cc:Agent>\n      <dc:title>Matplotlib v3.3.3, https://matplotlib.org/</dc:title>\n     </cc:Agent>\n    </dc:creator>\n   </cc:Work>\n  </rdf:RDF>\n </metadata>\n <defs>\n  <style type=\"text/css\">*{stroke-linecap:butt;stroke-linejoin:round;}</style>\n </defs>\n <g id=\"figure_1\">\n  <g id=\"patch_1\">\n   <path d=\"M -0 248.518125 \nL 368.925 248.518125 \nL 368.925 0 \nL -0 0 \nz\n\" style=\"fill:none;\"/>\n  </g>\n  <g id=\"axes_1\">\n   <g id=\"patch_2\">\n    <path d=\"M 26.925 224.64 \nL 361.725 224.64 \nL 361.725 7.2 \nL 26.925 7.2 \nz\n\" style=\"fill:#ffffff;\"/>\n   </g>\n   <g clip-path=\"url(#p0408da2993)\">\n    <image height=\"218\" id=\"imagecacbbe6074\" transform=\"scale(1 -1)translate(0 -218)\" width=\"335\" x=\"26.925\" xlink:href=\"data:image/png;base64,\niVBORw0KGgoAAAANSUhEUgAAAU8AAADaCAYAAAAmEcC2AAADCUlEQVR4nO3aQQ3CUBRFQUpQgQpEkNQAZuuiKrBRJJCezW+bGQV3dfIWb3pPn+0GwC730QMAzkg8AQLxBAjEEyAQT4BAPAEC8QQIxBMgEE+AQDwBAvEECMQTIBBPgEA8AQLxBAjEEyAQT4BAPAEC8QQIxBMgEE+AQDwBAvEECMQTIBBPgEA8AQLxBAjEEyAQT4BAPAEC8QQIxBMgEE+AQDwBAvEECMQTIBBPgEA8AQLxBAjEEyAQT4BAPAEC8QQIxBMgEE+AQDwBAvEECMQTIBBPgEA8AQLxBAjEEyAQT4BAPAEC8QQIxBMgEE+AQDwBAvEECMQTIBBPgEA8AQLxBAjEEyAQT4BAPAEC8QQIxBMgEE+AQDwBAvEECMQTIBBPgEA8AQLxBAjEEyAQT4BAPAEC8QQIxBMgEE+AQDwBAvEECMQTIBBPgEA8AQLxBAjEEyAQT4BAPAEC8QQIxBMgEE+AQDwBAvEECMQTIBBPgEA8AQLxBAjEEyAQT4BAPAEC8QQIxBMgEE+AQDwBAvEECMQTIHiMHsB/y3cdPeEy5udr9AQuwuUJEIgnQCCeAIF4AgTiCRCIJ0AgngCBeAIEnuRPwGM3HI/LEyAQT4BAPAEC8QQIxBMgEE+AQDwBAvEECMQTIBBPgEA8AQLxBAjEEyAQT4BAPAEC8QQIxBMgEE+AQDwBAvEECMQTIBBPgEA8AQLxBAjEEyAQT4BAPAEC8QQIxBMgEE+AQDwBAvEECMQTIBBPgEA8AQLxBAjEEyAQT4BAPAEC8QQIxBMgEE+AQDwBAvEECMQTIBBPgEA8AQLxBAjEEyAQT4BAPAEC8QQIxBMgEE+AQDwBAvEECMQTIBBPgEA8AQLxBAjEEyAQT4BAPAEC8QQIxBMgEE+AQDwBAvEECMQTIBBPgEA8AQLxBAjEEyAQT4BAPAEC8QQIxBMgEE+AQDwBAvEECMQTIBBPgEA8AQLxBAjEEyAQT4BAPAEC8QQIxBMgEE+AQDwBAvEECMQTIBBPgEA8AQLxBAjEEyAQT4BAPAGCH4LyBuGgXitPAAAAAElFTkSuQmCC\" y=\"-6.64\"/>\n   </g>\n   <g id=\"matplotlib.axis_1\">\n    <g id=\"xtick_1\">\n     <g id=\"line2d_1\">\n      <defs>\n       <path d=\"M 0 0 \nL 0 3.5 \n\" id=\"ma2970a1fd4\" style=\"stroke:#000000;stroke-width:0.8;\"/>\n      </defs>\n      <g>\n       <use style=\"stroke:#000000;stroke-width:0.8;\" x=\"37.3875\" xlink:href=\"#ma2970a1fd4\" y=\"224.64\"/>\n      </g>\n     </g>\n     <g id=\"text_1\">\n      <!-- 0 -->\n      <g transform=\"translate(34.20625 239.238437)scale(0.1 -0.1)\">\n       <defs>\n        <path d=\"M 31.78125 66.40625 \nQ 24.171875 66.40625 20.328125 58.90625 \nQ 16.5 51.421875 16.5 36.375 \nQ 16.5 21.390625 20.328125 13.890625 \nQ 24.171875 6.390625 31.78125 6.390625 \nQ 39.453125 6.390625 43.28125 13.890625 \nQ 47.125 21.390625 47.125 36.375 \nQ 47.125 51.421875 43.28125 58.90625 \nQ 39.453125 66.40625 31.78125 66.40625 \nz\nM 31.78125 74.21875 \nQ 44.046875 74.21875 50.515625 64.515625 \nQ 56.984375 54.828125 56.984375 36.375 \nQ 56.984375 17.96875 50.515625 8.265625 \nQ 44.046875 -1.421875 31.78125 -1.421875 \nQ 19.53125 -1.421875 13.0625 8.265625 \nQ 6.59375 17.96875 6.59375 36.375 \nQ 6.59375 54.828125 13.0625 64.515625 \nQ 19.53125 74.21875 31.78125 74.21875 \nz\n\" id=\"DejaVuSans-48\"/>\n       </defs>\n       <use xlink:href=\"#DejaVuSans-48\"/>\n      </g>\n     </g>\n    </g>\n    <g id=\"xtick_2\">\n     <g id=\"line2d_2\">\n      <g>\n       <use style=\"stroke:#000000;stroke-width:0.8;\" x=\"79.2375\" xlink:href=\"#ma2970a1fd4\" y=\"224.64\"/>\n      </g>\n     </g>\n     <g id=\"text_2\">\n      <!-- 2 -->\n      <g transform=\"translate(76.05625 239.238437)scale(0.1 -0.1)\">\n       <defs>\n        <path d=\"M 19.1875 8.296875 \nL 53.609375 8.296875 \nL 53.609375 0 \nL 7.328125 0 \nL 7.328125 8.296875 \nQ 12.9375 14.109375 22.625 23.890625 \nQ 32.328125 33.6875 34.8125 36.53125 \nQ 39.546875 41.84375 41.421875 45.53125 \nQ 43.3125 49.21875 43.3125 52.78125 \nQ 43.3125 58.59375 39.234375 62.25 \nQ 35.15625 65.921875 28.609375 65.921875 \nQ 23.96875 65.921875 18.8125 64.3125 \nQ 13.671875 62.703125 7.8125 59.421875 \nL 7.8125 69.390625 \nQ 13.765625 71.78125 18.9375 73 \nQ 24.125 74.21875 28.421875 74.21875 \nQ 39.75 74.21875 46.484375 68.546875 \nQ 53.21875 62.890625 53.21875 53.421875 \nQ 53.21875 48.921875 51.53125 44.890625 \nQ 49.859375 40.875 45.40625 35.40625 \nQ 44.1875 33.984375 37.640625 27.21875 \nQ 31.109375 20.453125 19.1875 8.296875 \nz\n\" id=\"DejaVuSans-50\"/>\n       </defs>\n       <use xlink:href=\"#DejaVuSans-50\"/>\n      </g>\n     </g>\n    </g>\n    <g id=\"xtick_3\">\n     <g id=\"line2d_3\">\n      <g>\n       <use style=\"stroke:#000000;stroke-width:0.8;\" x=\"121.0875\" xlink:href=\"#ma2970a1fd4\" y=\"224.64\"/>\n      </g>\n     </g>\n     <g id=\"text_3\">\n      <!-- 4 -->\n      <g transform=\"translate(117.90625 239.238437)scale(0.1 -0.1)\">\n       <defs>\n        <path d=\"M 37.796875 64.3125 \nL 12.890625 25.390625 \nL 37.796875 25.390625 \nz\nM 35.203125 72.90625 \nL 47.609375 72.90625 \nL 47.609375 25.390625 \nL 58.015625 25.390625 \nL 58.015625 17.1875 \nL 47.609375 17.1875 \nL 47.609375 0 \nL 37.796875 0 \nL 37.796875 17.1875 \nL 4.890625 17.1875 \nL 4.890625 26.703125 \nz\n\" id=\"DejaVuSans-52\"/>\n       </defs>\n       <use xlink:href=\"#DejaVuSans-52\"/>\n      </g>\n     </g>\n    </g>\n    <g id=\"xtick_4\">\n     <g id=\"line2d_4\">\n      <g>\n       <use style=\"stroke:#000000;stroke-width:0.8;\" x=\"162.9375\" xlink:href=\"#ma2970a1fd4\" y=\"224.64\"/>\n      </g>\n     </g>\n     <g id=\"text_4\">\n      <!-- 6 -->\n      <g transform=\"translate(159.75625 239.238437)scale(0.1 -0.1)\">\n       <defs>\n        <path d=\"M 33.015625 40.375 \nQ 26.375 40.375 22.484375 35.828125 \nQ 18.609375 31.296875 18.609375 23.390625 \nQ 18.609375 15.53125 22.484375 10.953125 \nQ 26.375 6.390625 33.015625 6.390625 \nQ 39.65625 6.390625 43.53125 10.953125 \nQ 47.40625 15.53125 47.40625 23.390625 \nQ 47.40625 31.296875 43.53125 35.828125 \nQ 39.65625 40.375 33.015625 40.375 \nz\nM 52.59375 71.296875 \nL 52.59375 62.3125 \nQ 48.875 64.0625 45.09375 64.984375 \nQ 41.3125 65.921875 37.59375 65.921875 \nQ 27.828125 65.921875 22.671875 59.328125 \nQ 17.53125 52.734375 16.796875 39.40625 \nQ 19.671875 43.65625 24.015625 45.921875 \nQ 28.375 48.1875 33.59375 48.1875 \nQ 44.578125 48.1875 50.953125 41.515625 \nQ 57.328125 34.859375 57.328125 23.390625 \nQ 57.328125 12.15625 50.6875 5.359375 \nQ 44.046875 -1.421875 33.015625 -1.421875 \nQ 20.359375 -1.421875 13.671875 8.265625 \nQ 6.984375 17.96875 6.984375 36.375 \nQ 6.984375 53.65625 15.1875 63.9375 \nQ 23.390625 74.21875 37.203125 74.21875 \nQ 40.921875 74.21875 44.703125 73.484375 \nQ 48.484375 72.75 52.59375 71.296875 \nz\n\" id=\"DejaVuSans-54\"/>\n       </defs>\n       <use xlink:href=\"#DejaVuSans-54\"/>\n      </g>\n     </g>\n    </g>\n    <g id=\"xtick_5\">\n     <g id=\"line2d_5\">\n      <g>\n       <use style=\"stroke:#000000;stroke-width:0.8;\" x=\"204.7875\" xlink:href=\"#ma2970a1fd4\" y=\"224.64\"/>\n      </g>\n     </g>\n     <g id=\"text_5\">\n      <!-- 8 -->\n      <g transform=\"translate(201.60625 239.238437)scale(0.1 -0.1)\">\n       <defs>\n        <path d=\"M 31.78125 34.625 \nQ 24.75 34.625 20.71875 30.859375 \nQ 16.703125 27.09375 16.703125 20.515625 \nQ 16.703125 13.921875 20.71875 10.15625 \nQ 24.75 6.390625 31.78125 6.390625 \nQ 38.8125 6.390625 42.859375 10.171875 \nQ 46.921875 13.96875 46.921875 20.515625 \nQ 46.921875 27.09375 42.890625 30.859375 \nQ 38.875 34.625 31.78125 34.625 \nz\nM 21.921875 38.8125 \nQ 15.578125 40.375 12.03125 44.71875 \nQ 8.5 49.078125 8.5 55.328125 \nQ 8.5 64.0625 14.71875 69.140625 \nQ 20.953125 74.21875 31.78125 74.21875 \nQ 42.671875 74.21875 48.875 69.140625 \nQ 55.078125 64.0625 55.078125 55.328125 \nQ 55.078125 49.078125 51.53125 44.71875 \nQ 48 40.375 41.703125 38.8125 \nQ 48.828125 37.15625 52.796875 32.3125 \nQ 56.78125 27.484375 56.78125 20.515625 \nQ 56.78125 9.90625 50.3125 4.234375 \nQ 43.84375 -1.421875 31.78125 -1.421875 \nQ 19.734375 -1.421875 13.25 4.234375 \nQ 6.78125 9.90625 6.78125 20.515625 \nQ 6.78125 27.484375 10.78125 32.3125 \nQ 14.796875 37.15625 21.921875 38.8125 \nz\nM 18.3125 54.390625 \nQ 18.3125 48.734375 21.84375 45.5625 \nQ 25.390625 42.390625 31.78125 42.390625 \nQ 38.140625 42.390625 41.71875 45.5625 \nQ 45.3125 48.734375 45.3125 54.390625 \nQ 45.3125 60.0625 41.71875 63.234375 \nQ 38.140625 66.40625 31.78125 66.40625 \nQ 25.390625 66.40625 21.84375 63.234375 \nQ 18.3125 60.0625 18.3125 54.390625 \nz\n\" id=\"DejaVuSans-56\"/>\n       </defs>\n       <use xlink:href=\"#DejaVuSans-56\"/>\n      </g>\n     </g>\n    </g>\n    <g id=\"xtick_6\">\n     <g id=\"line2d_6\">\n      <g>\n       <use style=\"stroke:#000000;stroke-width:0.8;\" x=\"246.6375\" xlink:href=\"#ma2970a1fd4\" y=\"224.64\"/>\n      </g>\n     </g>\n     <g id=\"text_6\">\n      <!-- 10 -->\n      <g transform=\"translate(240.275 239.238437)scale(0.1 -0.1)\">\n       <defs>\n        <path d=\"M 12.40625 8.296875 \nL 28.515625 8.296875 \nL 28.515625 63.921875 \nL 10.984375 60.40625 \nL 10.984375 69.390625 \nL 28.421875 72.90625 \nL 38.28125 72.90625 \nL 38.28125 8.296875 \nL 54.390625 8.296875 \nL 54.390625 0 \nL 12.40625 0 \nz\n\" id=\"DejaVuSans-49\"/>\n       </defs>\n       <use xlink:href=\"#DejaVuSans-49\"/>\n       <use x=\"63.623047\" xlink:href=\"#DejaVuSans-48\"/>\n      </g>\n     </g>\n    </g>\n    <g id=\"xtick_7\">\n     <g id=\"line2d_7\">\n      <g>\n       <use style=\"stroke:#000000;stroke-width:0.8;\" x=\"288.4875\" xlink:href=\"#ma2970a1fd4\" y=\"224.64\"/>\n      </g>\n     </g>\n     <g id=\"text_7\">\n      <!-- 12 -->\n      <g transform=\"translate(282.125 239.238437)scale(0.1 -0.1)\">\n       <use xlink:href=\"#DejaVuSans-49\"/>\n       <use x=\"63.623047\" xlink:href=\"#DejaVuSans-50\"/>\n      </g>\n     </g>\n    </g>\n    <g id=\"xtick_8\">\n     <g id=\"line2d_8\">\n      <g>\n       <use style=\"stroke:#000000;stroke-width:0.8;\" x=\"330.3375\" xlink:href=\"#ma2970a1fd4\" y=\"224.64\"/>\n      </g>\n     </g>\n     <g id=\"text_8\">\n      <!-- 14 -->\n      <g transform=\"translate(323.975 239.238437)scale(0.1 -0.1)\">\n       <use xlink:href=\"#DejaVuSans-49\"/>\n       <use x=\"63.623047\" xlink:href=\"#DejaVuSans-52\"/>\n      </g>\n     </g>\n    </g>\n   </g>\n   <g id=\"matplotlib.axis_2\">\n    <g id=\"ytick_1\">\n     <g id=\"line2d_9\">\n      <defs>\n       <path d=\"M 0 0 \nL -3.5 0 \n\" id=\"maeb27529f9\" style=\"stroke:#000000;stroke-width:0.8;\"/>\n      </defs>\n      <g>\n       <use style=\"stroke:#000000;stroke-width:0.8;\" x=\"26.925\" xlink:href=\"#maeb27529f9\" y=\"11.73\"/>\n      </g>\n     </g>\n     <g id=\"text_9\">\n      <!-- 0 -->\n      <g transform=\"translate(13.5625 15.529219)scale(0.1 -0.1)\">\n       <use xlink:href=\"#DejaVuSans-48\"/>\n      </g>\n     </g>\n    </g>\n    <g id=\"ytick_2\">\n     <g id=\"line2d_10\">\n      <g>\n       <use style=\"stroke:#000000;stroke-width:0.8;\" x=\"26.925\" xlink:href=\"#maeb27529f9\" y=\"57.03\"/>\n      </g>\n     </g>\n     <g id=\"text_10\">\n      <!-- 5 -->\n      <g transform=\"translate(13.5625 60.829219)scale(0.1 -0.1)\">\n       <defs>\n        <path d=\"M 10.796875 72.90625 \nL 49.515625 72.90625 \nL 49.515625 64.59375 \nL 19.828125 64.59375 \nL 19.828125 46.734375 \nQ 21.96875 47.46875 24.109375 47.828125 \nQ 26.265625 48.1875 28.421875 48.1875 \nQ 40.625 48.1875 47.75 41.5 \nQ 54.890625 34.8125 54.890625 23.390625 \nQ 54.890625 11.625 47.5625 5.09375 \nQ 40.234375 -1.421875 26.90625 -1.421875 \nQ 22.3125 -1.421875 17.546875 -0.640625 \nQ 12.796875 0.140625 7.71875 1.703125 \nL 7.71875 11.625 \nQ 12.109375 9.234375 16.796875 8.0625 \nQ 21.484375 6.890625 26.703125 6.890625 \nQ 35.15625 6.890625 40.078125 11.328125 \nQ 45.015625 15.765625 45.015625 23.390625 \nQ 45.015625 31 40.078125 35.4375 \nQ 35.15625 39.890625 26.703125 39.890625 \nQ 22.75 39.890625 18.8125 39.015625 \nQ 14.890625 38.140625 10.796875 36.28125 \nz\n\" id=\"DejaVuSans-53\"/>\n       </defs>\n       <use xlink:href=\"#DejaVuSans-53\"/>\n      </g>\n     </g>\n    </g>\n    <g id=\"ytick_3\">\n     <g id=\"line2d_11\">\n      <g>\n       <use style=\"stroke:#000000;stroke-width:0.8;\" x=\"26.925\" xlink:href=\"#maeb27529f9\" y=\"102.33\"/>\n      </g>\n     </g>\n     <g id=\"text_11\">\n      <!-- 10 -->\n      <g transform=\"translate(7.2 106.129219)scale(0.1 -0.1)\">\n       <use xlink:href=\"#DejaVuSans-49\"/>\n       <use x=\"63.623047\" xlink:href=\"#DejaVuSans-48\"/>\n      </g>\n     </g>\n    </g>\n    <g id=\"ytick_4\">\n     <g id=\"line2d_12\">\n      <g>\n       <use style=\"stroke:#000000;stroke-width:0.8;\" x=\"26.925\" xlink:href=\"#maeb27529f9\" y=\"147.63\"/>\n      </g>\n     </g>\n     <g id=\"text_12\">\n      <!-- 15 -->\n      <g transform=\"translate(7.2 151.429219)scale(0.1 -0.1)\">\n       <use xlink:href=\"#DejaVuSans-49\"/>\n       <use x=\"63.623047\" xlink:href=\"#DejaVuSans-53\"/>\n      </g>\n     </g>\n    </g>\n    <g id=\"ytick_5\">\n     <g id=\"line2d_13\">\n      <g>\n       <use style=\"stroke:#000000;stroke-width:0.8;\" x=\"26.925\" xlink:href=\"#maeb27529f9\" y=\"192.93\"/>\n      </g>\n     </g>\n     <g id=\"text_13\">\n      <!-- 20 -->\n      <g transform=\"translate(7.2 196.729219)scale(0.1 -0.1)\">\n       <use xlink:href=\"#DejaVuSans-50\"/>\n       <use x=\"63.623047\" xlink:href=\"#DejaVuSans-48\"/>\n      </g>\n     </g>\n    </g>\n   </g>\n   <g id=\"patch_3\">\n    <path d=\"M 26.925 224.64 \nL 26.925 7.2 \n\" style=\"fill:none;stroke:#000000;stroke-linecap:square;stroke-linejoin:miter;stroke-width:0.8;\"/>\n   </g>\n   <g id=\"patch_4\">\n    <path d=\"M 361.725 224.64 \nL 361.725 7.2 \n\" style=\"fill:none;stroke:#000000;stroke-linecap:square;stroke-linejoin:miter;stroke-width:0.8;\"/>\n   </g>\n   <g id=\"patch_5\">\n    <path d=\"M 26.925 224.64 \nL 361.725 224.64 \n\" style=\"fill:none;stroke:#000000;stroke-linecap:square;stroke-linejoin:miter;stroke-width:0.8;\"/>\n   </g>\n   <g id=\"patch_6\">\n    <path d=\"M 26.925 7.2 \nL 361.725 7.2 \n\" style=\"fill:none;stroke:#000000;stroke-linecap:square;stroke-linejoin:miter;stroke-width:0.8;\"/>\n   </g>\n  </g>\n </g>\n <defs>\n  <clipPath id=\"p0408da2993\">\n   <rect height=\"217.44\" width=\"334.8\" x=\"26.925\" y=\"7.2\"/>\n  </clipPath>\n </defs>\n</svg>\n",
      "image/png": "[encoded data removed]"
     },
     "metadata": {
      "needs_background": "light"
     }
    }
   ],
   "source": [
    "# sumpling function\n",
    "source = y_frame[0]\n",
    "new_source = torch.zeros_like(y[\"y_frame\"][0])\n",
    "l_source = 550\n",
    "l_target = 16\n",
    "l_effect = l_source // l_target\n",
    "for i in range(l_target):\n",
    "    t_start = i * l_effect\n",
    "    t_end = (i+1) * l_effect\n",
    "    if i == l_target -1:\n",
    "        t_end = l_source\n",
    "    new_source[i] = source[t_start:t_end].sum(axis=0) / l_effect\n",
    "    new_source[i] = torch.tensor((source[t_start:t_end]>0).any(axis=0), dtype=torch.float)\n",
    "plt.imshow(new_source.T, aspect=\"auto\")"
   ]
  },
  {
   "cell_type": "code",
   "execution_count": 7,
   "metadata": {},
   "outputs": [],
   "source": [
    "columns = [\"recording_id\"] + [f\"s{i}\" for i in range(24)]\n",
    "ground_truth = pd.DataFrame(np.zeros((len(tp_list), 25)), columns=columns)\n",
    "ground_truth[\"recording_id\"] = train_tp[\"recording_id\"].unique()\n",
    "for i, recording_id in enumerate(train_tp[\"recording_id\"].values):\n",
    "    ground_truth.iloc[ground_truth[\"recording_id\"]==recording_id, train_tp.loc[i, \"species_id\"]+1] = 1.0"
   ]
  },
  {
   "cell_type": "code",
   "execution_count": 8,
   "metadata": {},
   "outputs": [],
   "source": [
    "kfold = MultilabelStratifiedKFold(n_splits=5, shuffle=True, random_state=1)\n",
    "y = ground_truth.iloc[:, 1:].values\n",
    "for i, (train_idx, valid_idx) in enumerate(kfold.split(y, y)):\n",
    "    train_y = ground_truth.iloc[train_idx]\n",
    "    valid_y = ground_truth.iloc[valid_idx]\n",
    "    if i == 0:\n",
    "        break"
   ]
  },
  {
   "cell_type": "code",
   "execution_count": 72,
   "metadata": {
    "tags": []
   },
   "outputs": [
    {
     "output_type": "stream",
     "name": "stdout",
     "text": [
      "torch.Size([64, 128, 512])\ntorch.Size([64, 16, 24])\ntorch.Size([64, 24])\n"
     ]
    }
   ],
   "source": [
    "train_dataset = RainForestDataset(\n",
    "    root_dir=\"dump/wave/train\",\n",
    "    train_tp=train_tp,\n",
    "    train_fp=None,\n",
    "    keys=[\"feats\"],\n",
    "    mode=\"tp\",\n",
    "    is_normalize=False,\n",
    "    allow_cache=False,  # keep compatibility\n",
    "    seed=None,\n",
    ")\n",
    "eval_dataset = RainForestDataset(\n",
    "    files=[\n",
    "        os.path.join(\"dump/wave/train\", f\"{recording_id}.h5\")\n",
    "        for recording_id in tp_list[valid_idx]\n",
    "    ],\n",
    "    keys=[\"feats\", \"matrix_tp\"],\n",
    "    mode=\"test\",\n",
    "    is_normalize=False,\n",
    "    allow_cache=False,  # keep compatibility\n",
    "    seed=None,\n",
    "        )\n",
    "\n",
    "train_collater = FeatTrainCollater(\n",
    "    max_frames=512,\n",
    "    l_target=16,\n",
    "    mode=\"binary\",\n",
    ")\n",
    "eval_collater = FeatEvalCollater(\n",
    "    max_frames=512,\n",
    "    n_split=3,\n",
    "    is_label=True,\n",
    ")\n",
    "data_loader = {\n",
    "\"train\": DataLoader(\n",
    "        dataset=train_dataset,\n",
    "        batch_size=64,\n",
    "        collate_fn=train_collater,\n",
    "        shuffle=False,\n",
    "        num_workers=2,\n",
    "        pin_memory=False,\n",
    "    ),\n",
    "\"eval\": DataLoader(\n",
    "        eval_dataset,\n",
    "        batch_size=64,\n",
    "        shuffle=False,\n",
    "        collate_fn=eval_collater,\n",
    "        num_workers=2,\n",
    "        pin_memory=False,\n",
    "    ),\n",
    "}\n",
    "clip_list = []\n",
    "for i, batch in enumerate(data_loader[\"train\"]):\n",
    "    x = batch[\"X\"]\n",
    "    y_frame = batch[\"y_frame\"]\n",
    "    y_clip = batch[\"y_clip\"]\n",
    "    clip_list.append(y_clip)\n",
    "    print(x.shape)\n",
    "    print(y_frame.shape)\n",
    "    print(y_clip.shape)\n",
    "    if i == 0:\n",
    "        break"
   ]
  },
  {
   "cell_type": "code",
   "execution_count": 73,
   "metadata": {},
   "outputs": [
    {
     "output_type": "stream",
     "name": "stdout",
     "text": [
      "tensor(71.8454)\n"
     ]
    }
   ],
   "source": [
    "x1 = []\n",
    "y1_clip = []\n",
    "beginnings1 = []\n",
    "for i, batch in enumerate(data_loader[\"train\"]):\n",
    "    x1.append(batch[\"X\"])\n",
    "    y1_clip.append(batch[\"y_clip\"])\n",
    "    beginnings1.append(batch[\"beginnings\"])\n",
    "    if i == 0:\n",
    "        break\n",
    "x2 = []\n",
    "y2_clip = []\n",
    "beginnings2 = []\n",
    "for i, batch in enumerate(data_loader[\"train\"]):\n",
    "    x2.append(batch[\"X\"])\n",
    "    y2_clip.append(batch[\"y_clip\"])\n",
    "    beginnings2.append(batch[\"beginnings\"])\n",
    "    if i == 0:\n",
    "        break\n",
    "xx1 = torch.cat(x1, dim=0)\n",
    "xx2 = torch.cat(x2, dim=0)\n",
    "yy1_clip = torch.cat(y1_clip, dim=0)\n",
    "yy2_clip = torch.cat(y2_clip, dim=0)\n",
    "ans = xx1 - xx2\n",
    "print(ans.sum())"
   ]
  },
  {
   "cell_type": "code",
   "execution_count": 74,
   "metadata": {},
   "outputs": [
    {
     "output_type": "stream",
     "name": "stdout",
     "text": [
      "[[4159, 3967, 3561, 4752, 4770, 139, 1709, 453, 4789, 4352, 4006, 4095, 4790, 2237, 1083, 393, 5114, 3312, 2058, 2733, 4134, 36, 4921, 552, 2313, 2090, 4460, 307, 5114, 4381, 331, 2956, 2355, 4934, 2271, 5114, 121, 1218, 3805, 69, 2588, 2939, 3434, 2556, 4591, 467, 4788, 1053, 2144, 4665, 184, 4093, 1652, 3517, 4917, 4549, 4290, 4281, 235, 3091, 4137, 2119, 308, 359]]\n[[4002, 3972, 3795, 4887, 4792, 59, 1640, 389, 4713, 4327, 4142, 3974, 4741, 2362, 1129, 304, 5114, 3185, 2048, 4581, 4074, 13, 5114, 534, 2120, 2087, 4507, 431, 5114, 4496, 358, 3024, 2519, 4811, 2222, 5114, 27, 1287, 3783, 127, 2442, 2887, 3603, 2354, 4648, 595, 4775, 1098, 2233, 4667, 229, 4102, 1612, 3458, 4738, 4507, 4329, 4308, 139, 2962, 4024, 2212, 313, 320]]\n"
     ]
    }
   ],
   "source": [
    "print(beginnings1)\n",
    "print(beginnings2)"
   ]
  },
  {
   "cell_type": "code",
   "execution_count": 19,
   "metadata": {},
   "outputs": [
    {
     "output_type": "stream",
     "name": "stdout",
     "text": [
      "[[4040, 3849, 3753, 4898, 4650, 125, 1638, 401, 4677, 4242, 4247, 3927, 4807, 2206, 1010, 407, 5114, 3114, 1998, 2933, 3978, 19, 5108, 506, 2324, 2164, 4581, 1092, 5114, 4512, 299, 2984, 2438, 4885, 2186, 5114, 74, 1179, 3824, 50, 2436, 3001, 3662, 2566, 4594, 444, 4838, 1127, 2232, 4783, 303, 4142, 1731, 3348, 4821, 4450, 4370, 4280, 234, 2933, 4166, 2206, 182, 508]]\n[[4040, 3849, 3753, 4898, 4650, 125, 1638, 401, 4677, 4242, 4247, 3927, 4807, 2206, 1010, 407, 5114, 3114, 1998, 2933, 3978, 19, 5108, 506, 2324, 2164, 4581, 1092, 5114, 4512, 299, 2984, 2438, 4885, 2186, 5114, 74, 1179, 3824, 50, 2436, 3001, 3662, 2566, 4594, 444, 4838, 1127, 2232, 4783, 303, 4142, 1731, 3348, 4821, 4450, 4370, 4280, 234, 2933, 4166, 2206, 182, 508]]\n"
     ]
    }
   ],
   "source": [
    "print(beginnings1)\n",
    "print(beginnings2)"
   ]
  },
  {
   "cell_type": "code",
   "execution_count": 70,
   "metadata": {},
   "outputs": [
    {
     "output_type": "execute_result",
     "data": {
      "text/plain": [
       "1"
      ]
     },
     "metadata": {},
     "execution_count": 70
    }
   ],
   "source": [
    "import random\n",
    "random.randrange(3)"
   ]
  },
  {
   "cell_type": "code",
   "execution_count": 10,
   "metadata": {},
   "outputs": [],
   "source": [
    "x1 = []\n",
    "y1_clip = []\n",
    "for i, batch in enumerate(data_loader[\"train\"]):\n",
    "    x1.append(batch[\"X\"])\n",
    "    y1_clip.append(batch[\"y_clip\"])\n",
    "x2 = []\n",
    "y2_clip = []\n",
    "for i, batch in enumerate(data_loader[\"train\"]):\n",
    "    x2.append(batch[\"X\"])\n",
    "    y2_clip.append(batch[\"y_clip\"])\n"
   ]
  },
  {
   "cell_type": "code",
   "execution_count": 12,
   "metadata": {},
   "outputs": [
    {
     "output_type": "stream",
     "name": "stdout",
     "text": [
      "tensor(0.)\n"
     ]
    }
   ],
   "source": [
    "xx1 = torch.cat(x1, dim=0)\n",
    "xx2 = torch.cat(x2, dim=0)\n",
    "yy1_clip = torch.cat(y1_clip, dim=0)\n",
    "yy2_clip = torch.cat(y2_clip, dim=0)\n",
    "ans = xx1 - xx2\n",
    "print(ans.sum())"
   ]
  },
  {
   "cell_type": "code",
   "execution_count": 13,
   "metadata": {},
   "outputs": [
    {
     "output_type": "execute_result",
     "data": {
      "text/plain": [
       "torch.Size([1132, 128, 512])"
      ]
     },
     "metadata": {},
     "execution_count": 13
    }
   ],
   "source": [
    "xx1.shape"
   ]
  },
  {
   "cell_type": "code",
   "execution_count": 34,
   "metadata": {},
   "outputs": [
    {
     "output_type": "stream",
     "name": "stdout",
     "text": [
      "score:0.157265\n"
     ]
    }
   ],
   "source": [
    "mode = \"valid\"\n",
    "n_eval_split = 3\n",
    "device = \"cpu\"\n",
    "n_class = 24\n",
    "l_spec = 16\n",
    "keys_list = [f\"X{i}\" for i in range(n_eval_split)]\n",
    "y_clip = [\n",
    "    torch.empty((0, n_class)).to(device)\n",
    "    for _ in range(n_eval_split)\n",
    "]\n",
    "y_frame = [\n",
    "    torch.empty((0, l_spec, n_class)).to(device)\n",
    "    for _ in range(n_eval_split)\n",
    "]\n",
    "y_clip_true = torch.empty((0, n_class))\n",
    "model.eval()\n",
    "with torch.no_grad():\n",
    "    for batch in data_loader[\"eval\"]:\n",
    "        if mode == \"valid\":\n",
    "            y_clip_true = torch.cat([y_clip_true, batch[\"y_clip\"]], dim=0)\n",
    "        x_batchs = [batch[key].to(device) for key in keys_list]\n",
    "        for i in range(n_eval_split):\n",
    "            y_batch_ = model(x_batchs[i])\n",
    "            y_clip[i] = torch.cat([y_clip[i], y_batch_[\"y_clip\"]], dim=0)\n",
    "            y_frame[i] = torch.cat([y_frame[i], y_batch_[\"y_frame\"]], dim=0)\n",
    "# (B, n_eval_split, n_class)\n",
    "y_clip = torch.stack(y_clip, dim=0).detach().cpu().numpy()\n",
    "# (B, n_eval_split, T, n_class)\n",
    "y_frame = torch.stack(y_frame, dim=0).detach().cpu().numpy()\n",
    "if mode == \"valid\":\n",
    "    y_clip_true = y_clip_true.numpy()\n",
    "    score = lwlrap(y_clip_true, y_clip.max(axis=0))\n",
    "    print(f\"score:{score:.6f}\")\n"
   ]
  },
  {
   "cell_type": "code",
   "execution_count": 30,
   "metadata": {},
   "outputs": [
    {
     "output_type": "execute_result",
     "data": {
      "text/plain": [
       "(3, 227, 24)"
      ]
     },
     "metadata": {},
     "execution_count": 30
    }
   ],
   "source": [
    "y_clip.shape"
   ]
  },
  {
   "cell_type": "code",
   "execution_count": 33,
   "metadata": {},
   "outputs": [
    {
     "output_type": "execute_result",
     "data": {
      "text/plain": [
       "(3, 227, 16, 24)"
      ]
     },
     "metadata": {},
     "execution_count": 33
    }
   ],
   "source": [
    "y_frame_ = torch.stack(y_frame, dim=0).detach().cpu().numpy()\n",
    "y_frame_.shape"
   ]
  },
  {
   "cell_type": "code",
   "execution_count": 32,
   "metadata": {},
   "outputs": [
    {
     "output_type": "execute_result",
     "data": {
      "text/plain": [
       "0.15726538047216912"
      ]
     },
     "metadata": {},
     "execution_count": 32
    }
   ],
   "source": [
    "score"
   ]
  },
  {
   "cell_type": "code",
   "execution_count": null,
   "metadata": {},
   "outputs": [],
   "source": []
  }
 ]
}