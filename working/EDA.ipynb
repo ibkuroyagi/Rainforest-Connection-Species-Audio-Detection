{
 "metadata": {
  "language_info": {
   "codemirror_mode": {
    "name": "ipython",
    "version": 3
   },
   "file_extension": ".py",
   "mimetype": "text/x-python",
   "name": "python",
   "nbconvert_exporter": "python",
   "pygments_lexer": "ipython3",
   "version": "3.6.8-final"
  },
  "orig_nbformat": 2,
  "kernelspec": {
   "name": "python36864bitvenvvirtualenv6514465dac1e4c1981844926ede66322",
   "display_name": "Python 3.6.8 64-bit ('venv': virtualenv)"
  }
 },
 "nbformat": 4,
 "nbformat_minor": 2,
 "cells": [
  {
   "cell_type": "code",
   "execution_count": 22,
   "metadata": {},
   "outputs": [
    {
     "output_type": "stream",
     "name": "stdout",
     "text": [
      "The autoreload extension is already loaded. To reload it, use:\n  %reload_ext autoreload\n"
     ]
    }
   ],
   "source": [
    "import pandas as pd\n",
    "import librosa\n",
    "import numpy as np\n",
    "import matplotlib.pyplot as plt\n",
    "import os\n",
    "import sys\n",
    "import torch\n",
    "import torch.nn as nn\n",
    "import yaml\n",
    "from torch.utils.data import DataLoader\n",
    "from tqdm import tqdm_notebook as tqdm\n",
    "\n",
    "sys.path.append(\"../input/modules\")\n",
    "from utils.utils import read_hdf5\n",
    "from models.cnn import Cnn14_DecisionLevelAtt\n",
    "%load_ext autoreload\n",
    "%autoreload 2"
   ]
  },
  {
   "cell_type": "code",
   "execution_count": 14,
   "metadata": {},
   "outputs": [
    {
     "output_type": "execute_result",
     "data": {
      "text/plain": [
       "1    1065\n",
       "2     110\n",
       "3      24\n",
       "4      12\n",
       "5       5\n",
       "Name: count, dtype: int64"
      ]
     },
     "metadata": {},
     "execution_count": 14
    }
   ],
   "source": [
    "train_tp = pd.read_csv('../input/rfcx-species-audio-detection/train_tp.csv')\n",
    "train_fp = pd.read_csv('../input/rfcx-species-audio-detection/train_fp.csv')\n",
    "tmp = pd.DataFrame(train_tp[\"recording_id\"].value_counts()).reset_index().rename(columns={'index': 'recording_id', \"recording_id\": \"count\"})\n",
    "train_tp[\"t_diff\"] = train_tp[\"t_max\"] - train_tp[\"t_min\"]\n",
    "train_tp[\"f_diff\"] = train_tp[\"f_max\"] - train_tp[\"f_min\"]\n",
    "train_fp[\"t_diff\"] = train_fp[\"t_max\"] - train_fp[\"t_min\"]\n",
    "train_fp[\"f_diff\"] = train_fp[\"f_max\"] - train_fp[\"f_min\"]\n",
    "train_tp = pd.merge(train_tp, tmp, on=\"recording_id\", how='inner')\n",
    "train_tp[\"count\"].value_counts()"
   ]
  },
  {
   "cell_type": "code",
   "execution_count": 15,
   "metadata": {},
   "outputs": [
    {
     "output_type": "execute_result",
     "data": {
      "text/plain": [
       "1     2028\n",
       "2     1716\n",
       "3     1635\n",
       "4     1356\n",
       "5      575\n",
       "6      294\n",
       "7      126\n",
       "8       32\n",
       "10      10\n",
       "9        9\n",
       "Name: count, dtype: int64"
      ]
     },
     "metadata": {},
     "execution_count": 15
    }
   ],
   "source": [
    "tmp = pd.DataFrame(train_fp[\"recording_id\"].value_counts()).reset_index().rename(columns={'index': 'recording_id', \"recording_id\": \"count\"})\n",
    "train_fp = pd.merge(train_fp, tmp, on=\"recording_id\", how='inner')\n",
    "train_fp[\"count\"].value_counts()"
   ]
  },
  {
   "cell_type": "code",
   "execution_count": null,
   "metadata": {
    "tags": []
   },
   "outputs": [],
   "source": [
    "train_path_list = os.listdir(\"../input/rfcx-species-audio-detection/train\")\n",
    "test_path_list = os.listdir(\"../input/rfcx-species-audio-detection/test\")\n",
    "print(f\"train:{len(train_path_list)}, test:{len(test_path_list)}\")\n",
    "# print(\"train\")\n",
    "# for path in tqdm(train_path_list):\n",
    "#     path = os.path.join(\"../input/rfcx-species-audio-detection/train\", path)\n",
    "#     y, sr = librosa.load(path=path, sr=None)\n",
    "#     if (sr != 48000) or (len(y) != 2880000):\n",
    "#         print(path, y.shape, sr)\n",
    "# print(\"test\")\n",
    "# for path in tqdm(test_path_list):\n",
    "#     path = os.path.join(\"../input/rfcx-species-audio-detection/test\", path)\n",
    "#     y, sr = librosa.load(path=path, sr=None)\n",
    "#     if (sr != 48000) or (len(y) != 2880000):\n",
    "#         print(path, y.shape, sr)"
   ]
  },
  {
   "cell_type": "code",
   "execution_count": null,
   "metadata": {},
   "outputs": [],
   "source": [
    "tp_list = train_tp[\"recording_id\"].unique() + \".flac\"\n",
    "train_tp_list = []\n",
    "for path in train_path_list:\n",
    "    if path in tp_list:\n",
    "        train_tp_list.append(os.path.join(\"../input/rfcx-species-audio-detection/train\", path))"
   ]
  },
  {
   "cell_type": "code",
   "execution_count": null,
   "metadata": {},
   "outputs": [],
   "source": [
    "def logmelfilterbank(\n",
    "    audio,\n",
    "    sampling_rate,\n",
    "    fft_size=1024,\n",
    "    hop_size=256,\n",
    "    win_length=None,\n",
    "    window=\"hann\",\n",
    "    num_mels=80,\n",
    "    fmin=None,\n",
    "    fmax=None,\n",
    "    eps=1e-10,\n",
    "):\n",
    "    \"\"\"Compute log-Mel filterbank feature.\n",
    "\n",
    "    Args:\n",
    "        audio (ndarray): Audio signal (T,).\n",
    "        sampling_rate (int): Sampling rate.\n",
    "        fft_size (int): FFT size.\n",
    "        hop_size (int): Hop size.\n",
    "        win_length (int): Window length. If set to None, it will be the same as fft_size.\n",
    "        window (str): Window function type.\n",
    "        num_mels (int): Number of mel basis.\n",
    "        fmin (int): Minimum frequency in mel basis calculation.\n",
    "        fmax (int): Maximum frequency in mel basis calculation.\n",
    "        eps (float): Epsilon value to avoid inf in log calculation.\n",
    "\n",
    "    Returns:\n",
    "        ndarray: Log Mel filterbank feature (#frames, num_mels).\n",
    "\n",
    "    \"\"\"\n",
    "    # get amplitude spectrogram\n",
    "    x_stft = librosa.stft(\n",
    "        audio,\n",
    "        n_fft=fft_size,\n",
    "        hop_length=hop_size,\n",
    "        win_length=win_length,\n",
    "        window=window,\n",
    "        pad_mode=\"reflect\",\n",
    "    )\n",
    "    spc = np.abs(x_stft).T  # (#frames, #bins)\n",
    "\n",
    "    # get mel basis\n",
    "    fmin = 0 if fmin is None else fmin\n",
    "    fmax = sampling_rate / 2 if fmax is None else fmax\n",
    "    mel_basis = librosa.filters.mel(sampling_rate, fft_size, num_mels, fmin, fmax)\n",
    "\n",
    "    return np.log10(np.maximum(eps, np.dot(spc, mel_basis.T)))\n"
   ]
  },
  {
   "cell_type": "code",
   "execution_count": null,
   "metadata": {},
   "outputs": [],
   "source": [
    "y, sr = librosa.load(path=train_tp_list[10], sr=32000)\n",
    "# y = (y -y.mean()) / y.std()\n",
    "logmel = logmelfilterbank(\n",
    "    y,\n",
    "    sr,\n",
    "    fft_size=2048,\n",
    "    hop_size=512,\n",
    "    win_length=None,\n",
    "    window=\"hann\",\n",
    "    num_mels=128,\n",
    "    fmin=50,\n",
    "    fmax=16000,\n",
    "    eps=1e-10,\n",
    ")"
   ]
  },
  {
   "cell_type": "code",
   "execution_count": null,
   "metadata": {},
   "outputs": [],
   "source": [
    "plt.figure(figsize=(16, 8))\n",
    "plt.subplot(2, 2, 1)\n",
    "plt.plot(y)\n",
    "plt.subplot(2, 2, 2)\n",
    "plt.imshow(logmel.T, aspect=\"auto\")\n",
    "\n",
    "plt.colorbar()\n",
    "y, sr = librosa.load(path=train_tp_list[10], sr=48000)\n",
    "# y = (y -y.mean()) / y.std()\n",
    "logmel = logmelfilterbank(\n",
    "    y,\n",
    "    sr,\n",
    "    fft_size=2048,\n",
    "    hop_size=512,\n",
    "    win_length=None,\n",
    "    window=\"hann\",\n",
    "    num_mels=128,\n",
    "    fmin=50,\n",
    "    fmax=16000,\n",
    "    eps=1e-10,\n",
    ")\n",
    "plt.subplot(2, 2, 3)\n",
    "plt.plot(y)\n",
    "plt.subplot(2, 2, 4)\n",
    "plt.imshow(logmel.T, aspect=\"auto\")\n",
    "plt.colorbar()\n",
    "\n",
    "# plt.savefig(\"spec.png\")"
   ]
  },
  {
   "cell_type": "code",
   "execution_count": null,
   "metadata": {},
   "outputs": [],
   "source": [
    "(logmel.mean(axis=0) > -3).sum()"
   ]
  },
  {
   "cell_type": "code",
   "execution_count": null,
   "metadata": {},
   "outputs": [],
   "source": [
    "logmel.shape"
   ]
  },
  {
   "cell_type": "code",
   "execution_count": null,
   "metadata": {},
   "outputs": [],
   "source": [
    "train_tp_list[10].split(\"/\")[-1][:-5]"
   ]
  },
  {
   "cell_type": "code",
   "execution_count": null,
   "metadata": {},
   "outputs": [],
   "source": [
    "train_tp.sort_values('f_max')"
   ]
  },
  {
   "cell_type": "code",
   "execution_count": null,
   "metadata": {},
   "outputs": [],
   "source": [
    "train_tp"
   ]
  },
  {
   "cell_type": "code",
   "execution_count": null,
   "metadata": {},
   "outputs": [],
   "source": [
    "path = \"dump/wave/train/0a4f02024.h5\"\n",
    "wave = read_hdf5(hdf5_name=path, hdf5_path=\"wave\")\n",
    "mel = read_hdf5(hdf5_name=path, hdf5_path=\"feats\")\n",
    "plt.figure(figsize=(16, 4))\n",
    "plt.subplot(1, 2, 1)\n",
    "plt.plot(wave)\n",
    "plt.subplot(1, 2, 2)\n",
    "plt.imshow(mel.T, aspect=\"auto\")\n",
    "plt.colorbar()"
   ]
  },
  {
   "cell_type": "code",
   "execution_count": 11,
   "metadata": {},
   "outputs": [
    {
     "output_type": "execute_result",
     "data": {
      "text/plain": [
       "(5626, 128)"
      ]
     },
     "metadata": {},
     "execution_count": 11
    }
   ],
   "source": [
    "mel.shape"
   ]
  },
  {
   "cell_type": "code",
   "execution_count": 18,
   "metadata": {},
   "outputs": [
    {
     "output_type": "execute_result",
     "data": {
      "text/plain": [
       "    recording_id  species_id  songtype_id    t_min    f_min    t_max  \\\n",
       "956    c9899ee73          13            1   0.5653   93.750   1.1893   \n",
       "912    bfacbc575          13            1  14.7520   93.750  15.3760   \n",
       "929    c3662d871          13            1  12.9387   93.750  13.5627   \n",
       "154    1ffa43aae          13            1  29.7067   93.750  30.3307   \n",
       "591    7765e82d3          13            1  58.3147   93.750  58.9387   \n",
       "..           ...         ...          ...      ...      ...      ...   \n",
       "445    5a3f09a5c          10            1  44.2166  947.461  46.6605   \n",
       "42     07dcf40f7          10            1  27.2370  947.461  29.6809   \n",
       "279    37d16f30f          10            1  33.0536  947.461  35.4975   \n",
       "712    92ae9bcc2          10            1  24.9905  947.461  27.4344   \n",
       "380    4f6e4f097          10            1  20.4161  947.461  22.8600   \n",
       "\n",
       "        f_max  t_diff    f_diff  count  \n",
       "956    843.75  0.6240   750.000      1  \n",
       "912    843.75  0.6240   750.000      1  \n",
       "929    843.75  0.6240   750.000      1  \n",
       "154    843.75  0.6240   750.000      1  \n",
       "591    843.75  0.6240   750.000      1  \n",
       "..        ...     ...       ...    ...  \n",
       "445  10852.70  2.4439  9905.239      1  \n",
       "42   10852.70  2.4439  9905.239      1  \n",
       "279  10852.70  2.4439  9905.239      1  \n",
       "712  10852.70  2.4439  9905.239      1  \n",
       "380  10852.70  2.4439  9905.239      1  \n",
       "\n",
       "[1216 rows x 10 columns]"
      ],
      "text/html": "<div>\n<style scoped>\n    .dataframe tbody tr th:only-of-type {\n        vertical-align: middle;\n    }\n\n    .dataframe tbody tr th {\n        vertical-align: top;\n    }\n\n    .dataframe thead th {\n        text-align: right;\n    }\n</style>\n<table border=\"1\" class=\"dataframe\">\n  <thead>\n    <tr style=\"text-align: right;\">\n      <th></th>\n      <th>recording_id</th>\n      <th>species_id</th>\n      <th>songtype_id</th>\n      <th>t_min</th>\n      <th>f_min</th>\n      <th>t_max</th>\n      <th>f_max</th>\n      <th>t_diff</th>\n      <th>f_diff</th>\n      <th>count</th>\n    </tr>\n  </thead>\n  <tbody>\n    <tr>\n      <th>956</th>\n      <td>c9899ee73</td>\n      <td>13</td>\n      <td>1</td>\n      <td>0.5653</td>\n      <td>93.750</td>\n      <td>1.1893</td>\n      <td>843.75</td>\n      <td>0.6240</td>\n      <td>750.000</td>\n      <td>1</td>\n    </tr>\n    <tr>\n      <th>912</th>\n      <td>bfacbc575</td>\n      <td>13</td>\n      <td>1</td>\n      <td>14.7520</td>\n      <td>93.750</td>\n      <td>15.3760</td>\n      <td>843.75</td>\n      <td>0.6240</td>\n      <td>750.000</td>\n      <td>1</td>\n    </tr>\n    <tr>\n      <th>929</th>\n      <td>c3662d871</td>\n      <td>13</td>\n      <td>1</td>\n      <td>12.9387</td>\n      <td>93.750</td>\n      <td>13.5627</td>\n      <td>843.75</td>\n      <td>0.6240</td>\n      <td>750.000</td>\n      <td>1</td>\n    </tr>\n    <tr>\n      <th>154</th>\n      <td>1ffa43aae</td>\n      <td>13</td>\n      <td>1</td>\n      <td>29.7067</td>\n      <td>93.750</td>\n      <td>30.3307</td>\n      <td>843.75</td>\n      <td>0.6240</td>\n      <td>750.000</td>\n      <td>1</td>\n    </tr>\n    <tr>\n      <th>591</th>\n      <td>7765e82d3</td>\n      <td>13</td>\n      <td>1</td>\n      <td>58.3147</td>\n      <td>93.750</td>\n      <td>58.9387</td>\n      <td>843.75</td>\n      <td>0.6240</td>\n      <td>750.000</td>\n      <td>1</td>\n    </tr>\n    <tr>\n      <th>...</th>\n      <td>...</td>\n      <td>...</td>\n      <td>...</td>\n      <td>...</td>\n      <td>...</td>\n      <td>...</td>\n      <td>...</td>\n      <td>...</td>\n      <td>...</td>\n      <td>...</td>\n    </tr>\n    <tr>\n      <th>445</th>\n      <td>5a3f09a5c</td>\n      <td>10</td>\n      <td>1</td>\n      <td>44.2166</td>\n      <td>947.461</td>\n      <td>46.6605</td>\n      <td>10852.70</td>\n      <td>2.4439</td>\n      <td>9905.239</td>\n      <td>1</td>\n    </tr>\n    <tr>\n      <th>42</th>\n      <td>07dcf40f7</td>\n      <td>10</td>\n      <td>1</td>\n      <td>27.2370</td>\n      <td>947.461</td>\n      <td>29.6809</td>\n      <td>10852.70</td>\n      <td>2.4439</td>\n      <td>9905.239</td>\n      <td>1</td>\n    </tr>\n    <tr>\n      <th>279</th>\n      <td>37d16f30f</td>\n      <td>10</td>\n      <td>1</td>\n      <td>33.0536</td>\n      <td>947.461</td>\n      <td>35.4975</td>\n      <td>10852.70</td>\n      <td>2.4439</td>\n      <td>9905.239</td>\n      <td>1</td>\n    </tr>\n    <tr>\n      <th>712</th>\n      <td>92ae9bcc2</td>\n      <td>10</td>\n      <td>1</td>\n      <td>24.9905</td>\n      <td>947.461</td>\n      <td>27.4344</td>\n      <td>10852.70</td>\n      <td>2.4439</td>\n      <td>9905.239</td>\n      <td>1</td>\n    </tr>\n    <tr>\n      <th>380</th>\n      <td>4f6e4f097</td>\n      <td>10</td>\n      <td>1</td>\n      <td>20.4161</td>\n      <td>947.461</td>\n      <td>22.8600</td>\n      <td>10852.70</td>\n      <td>2.4439</td>\n      <td>9905.239</td>\n      <td>1</td>\n    </tr>\n  </tbody>\n</table>\n<p>1216 rows × 10 columns</p>\n</div>"
     },
     "metadata": {},
     "execution_count": 18
    }
   ],
   "source": [
    "train_tp.sort_values(\"f_diff\")"
   ]
  },
  {
   "cell_type": "code",
   "execution_count": 19,
   "metadata": {},
   "outputs": [
    {
     "output_type": "execute_result",
     "data": {
      "text/plain": [
       "60.0"
      ]
     },
     "metadata": {},
     "execution_count": 19
    }
   ],
   "source": [
    "2880000 / 48000"
   ]
  },
  {
   "cell_type": "code",
   "execution_count": 20,
   "metadata": {},
   "outputs": [
    {
     "output_type": "execute_result",
     "data": {
      "text/plain": [
       "5625.0"
      ]
     },
     "metadata": {},
     "execution_count": 20
    }
   ],
   "source": [
    "2880000 / 512"
   ]
  },
  {
   "cell_type": "code",
   "execution_count": 45,
   "metadata": {},
   "outputs": [],
   "source": [
    "# gtound trushのcsvをid単位で作成\n",
    "l_spec = 5626\n",
    "n_class = 24\n",
    "matrix = np.zeros((l_spec, n_class))\n",
    "recording_id_list = train_tp[\"recording_id\"].unique()\n",
    "for recording_id in recording_id_list:\n",
    "    recording_id = \"c12e0a62b\"\n",
    "    tmp = train_tp[train_tp[\"recording_id\"] == recording_id].reset_index(drop=True)\n",
    "    for i in range(len(tmp)):\n",
    "        t_start = int(l_spec * (tmp.loc[i, \"t_min\"] / 60.0))\n",
    "        t_end = int(l_spec * (tmp.loc[i, \"t_max\"] / 60.0))\n",
    "        matrix[t_start:t_end, tmp.loc[i, \"species_id\"]] = 1.0\n",
    "    break\n"
   ]
  },
  {
   "cell_type": "code",
   "execution_count": 46,
   "metadata": {},
   "outputs": [
    {
     "output_type": "execute_result",
     "data": {
      "text/plain": [
       "(2202, 2807)"
      ]
     },
     "metadata": {},
     "execution_count": 46
    }
   ],
   "source": [
    "t_start,t_end"
   ]
  },
  {
   "cell_type": "code",
   "execution_count": 47,
   "metadata": {},
   "outputs": [
    {
     "output_type": "execute_result",
     "data": {
      "text/plain": [
       "<matplotlib.image.AxesImage at 0x7f2895549128>"
      ]
     },
     "metadata": {},
     "execution_count": 47
    },
    {
     "output_type": "display_data",
     "data": {
      "text/plain": "<Figure size 432x288 with 1 Axes>",
      "image/svg+xml": "<?xml version=\"1.0\" encoding=\"utf-8\" standalone=\"no\"?>\n<!DOCTYPE svg PUBLIC \"-//W3C//DTD SVG 1.1//EN\"\n  \"http://www.w3.org/Graphics/SVG/1.1/DTD/svg11.dtd\">\n<!-- Created with matplotlib (https://matplotlib.org/) -->\n<svg height=\"252.298019pt\" version=\"1.1\" viewBox=\"0 0 381.65 252.298019\" width=\"381.65pt\" xmlns=\"http://www.w3.org/2000/svg\" xmlns:xlink=\"http://www.w3.org/1999/xlink\">\n <metadata>\n  <rdf:RDF xmlns:cc=\"http://creativecommons.org/ns#\" xmlns:dc=\"http://purl.org/dc/elements/1.1/\" xmlns:rdf=\"http://www.w3.org/1999/02/22-rdf-syntax-ns#\">\n   <cc:Work>\n    <dc:type rdf:resource=\"http://purl.org/dc/dcmitype/StillImage\"/>\n    <dc:date>2020-12-10T16:07:51.405267</dc:date>\n    <dc:format>image/svg+xml</dc:format>\n    <dc:creator>\n     <cc:Agent>\n      <dc:title>Matplotlib v3.3.3, https://matplotlib.org/</dc:title>\n     </cc:Agent>\n    </dc:creator>\n   </cc:Work>\n  </rdf:RDF>\n </metadata>\n <defs>\n  <style type=\"text/css\">*{stroke-linecap:butt;stroke-linejoin:round;}</style>\n </defs>\n <g id=\"figure_1\">\n  <g id=\"patch_1\">\n   <path d=\"M -0 252.298019 \nL 381.65 252.298019 \nL 381.65 0 \nL -0 0 \nz\n\" style=\"fill:none;\"/>\n  </g>\n  <g id=\"axes_1\">\n   <g id=\"patch_2\">\n    <path d=\"M 39.65 228.419894 \nL 374.45 228.419894 \nL 374.45 10.979894 \nL 39.65 10.979894 \nz\n\" style=\"fill:#ffffff;\"/>\n   </g>\n   <g clip-path=\"url(#p237dec58ce)\">\n    <image height=\"218\" id=\"image21bd81d499\" transform=\"scale(1 -1)translate(0 -218)\" width=\"335\" x=\"39.65\" xlink:href=\"data:image/png;base64,\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\" y=\"-10.419894\"/>\n   </g>\n   <g id=\"matplotlib.axis_1\">\n    <g id=\"xtick_1\">\n     <g id=\"line2d_1\">\n      <defs>\n       <path d=\"M 0 0 \nL 0 3.5 \n\" id=\"m37d7830d0d\" style=\"stroke:#000000;stroke-width:0.8;\"/>\n      </defs>\n      <g>\n       <use style=\"stroke:#000000;stroke-width:0.8;\" x=\"46.346\" xlink:href=\"#m37d7830d0d\" y=\"228.419894\"/>\n      </g>\n     </g>\n     <g id=\"text_1\">\n      <!-- 0 -->\n      <g transform=\"translate(43.16475 243.018332)scale(0.1 -0.1)\">\n       <defs>\n        <path d=\"M 31.78125 66.40625 \nQ 24.171875 66.40625 20.328125 58.90625 \nQ 16.5 51.421875 16.5 36.375 \nQ 16.5 21.390625 20.328125 13.890625 \nQ 24.171875 6.390625 31.78125 6.390625 \nQ 39.453125 6.390625 43.28125 13.890625 \nQ 47.125 21.390625 47.125 36.375 \nQ 47.125 51.421875 43.28125 58.90625 \nQ 39.453125 66.40625 31.78125 66.40625 \nz\nM 31.78125 74.21875 \nQ 44.046875 74.21875 50.515625 64.515625 \nQ 56.984375 54.828125 56.984375 36.375 \nQ 56.984375 17.96875 50.515625 8.265625 \nQ 44.046875 -1.421875 31.78125 -1.421875 \nQ 19.53125 -1.421875 13.0625 8.265625 \nQ 6.59375 17.96875 6.59375 36.375 \nQ 6.59375 54.828125 13.0625 64.515625 \nQ 19.53125 74.21875 31.78125 74.21875 \nz\n\" id=\"DejaVuSans-48\"/>\n       </defs>\n       <use xlink:href=\"#DejaVuSans-48\"/>\n      </g>\n     </g>\n    </g>\n    <g id=\"xtick_2\">\n     <g id=\"line2d_2\">\n      <g>\n       <use style=\"stroke:#000000;stroke-width:0.8;\" x=\"113.306\" xlink:href=\"#m37d7830d0d\" y=\"228.419894\"/>\n      </g>\n     </g>\n     <g id=\"text_2\">\n      <!-- 5 -->\n      <g transform=\"translate(110.12475 243.018332)scale(0.1 -0.1)\">\n       <defs>\n        <path d=\"M 10.796875 72.90625 \nL 49.515625 72.90625 \nL 49.515625 64.59375 \nL 19.828125 64.59375 \nL 19.828125 46.734375 \nQ 21.96875 47.46875 24.109375 47.828125 \nQ 26.265625 48.1875 28.421875 48.1875 \nQ 40.625 48.1875 47.75 41.5 \nQ 54.890625 34.8125 54.890625 23.390625 \nQ 54.890625 11.625 47.5625 5.09375 \nQ 40.234375 -1.421875 26.90625 -1.421875 \nQ 22.3125 -1.421875 17.546875 -0.640625 \nQ 12.796875 0.140625 7.71875 1.703125 \nL 7.71875 11.625 \nQ 12.109375 9.234375 16.796875 8.0625 \nQ 21.484375 6.890625 26.703125 6.890625 \nQ 35.15625 6.890625 40.078125 11.328125 \nQ 45.015625 15.765625 45.015625 23.390625 \nQ 45.015625 31 40.078125 35.4375 \nQ 35.15625 39.890625 26.703125 39.890625 \nQ 22.75 39.890625 18.8125 39.015625 \nQ 14.890625 38.140625 10.796875 36.28125 \nz\n\" id=\"DejaVuSans-53\"/>\n       </defs>\n       <use xlink:href=\"#DejaVuSans-53\"/>\n      </g>\n     </g>\n    </g>\n    <g id=\"xtick_3\">\n     <g id=\"line2d_3\">\n      <g>\n       <use style=\"stroke:#000000;stroke-width:0.8;\" x=\"180.266\" xlink:href=\"#m37d7830d0d\" y=\"228.419894\"/>\n      </g>\n     </g>\n     <g id=\"text_3\">\n      <!-- 10 -->\n      <g transform=\"translate(173.9035 243.018332)scale(0.1 -0.1)\">\n       <defs>\n        <path d=\"M 12.40625 8.296875 \nL 28.515625 8.296875 \nL 28.515625 63.921875 \nL 10.984375 60.40625 \nL 10.984375 69.390625 \nL 28.421875 72.90625 \nL 38.28125 72.90625 \nL 38.28125 8.296875 \nL 54.390625 8.296875 \nL 54.390625 0 \nL 12.40625 0 \nz\n\" id=\"DejaVuSans-49\"/>\n       </defs>\n       <use xlink:href=\"#DejaVuSans-49\"/>\n       <use x=\"63.623047\" xlink:href=\"#DejaVuSans-48\"/>\n      </g>\n     </g>\n    </g>\n    <g id=\"xtick_4\">\n     <g id=\"line2d_4\">\n      <g>\n       <use style=\"stroke:#000000;stroke-width:0.8;\" x=\"247.226\" xlink:href=\"#m37d7830d0d\" y=\"228.419894\"/>\n      </g>\n     </g>\n     <g id=\"text_4\">\n      <!-- 15 -->\n      <g transform=\"translate(240.8635 243.018332)scale(0.1 -0.1)\">\n       <use xlink:href=\"#DejaVuSans-49\"/>\n       <use x=\"63.623047\" xlink:href=\"#DejaVuSans-53\"/>\n      </g>\n     </g>\n    </g>\n    <g id=\"xtick_5\">\n     <g id=\"line2d_5\">\n      <g>\n       <use style=\"stroke:#000000;stroke-width:0.8;\" x=\"314.186\" xlink:href=\"#m37d7830d0d\" y=\"228.419894\"/>\n      </g>\n     </g>\n     <g id=\"text_5\">\n      <!-- 20 -->\n      <g transform=\"translate(307.8235 243.018332)scale(0.1 -0.1)\">\n       <defs>\n        <path d=\"M 19.1875 8.296875 \nL 53.609375 8.296875 \nL 53.609375 0 \nL 7.328125 0 \nL 7.328125 8.296875 \nQ 12.9375 14.109375 22.625 23.890625 \nQ 32.328125 33.6875 34.8125 36.53125 \nQ 39.546875 41.84375 41.421875 45.53125 \nQ 43.3125 49.21875 43.3125 52.78125 \nQ 43.3125 58.59375 39.234375 62.25 \nQ 35.15625 65.921875 28.609375 65.921875 \nQ 23.96875 65.921875 18.8125 64.3125 \nQ 13.671875 62.703125 7.8125 59.421875 \nL 7.8125 69.390625 \nQ 13.765625 71.78125 18.9375 73 \nQ 24.125 74.21875 28.421875 74.21875 \nQ 39.75 74.21875 46.484375 68.546875 \nQ 53.21875 62.890625 53.21875 53.421875 \nQ 53.21875 48.921875 51.53125 44.890625 \nQ 49.859375 40.875 45.40625 35.40625 \nQ 44.1875 33.984375 37.640625 27.21875 \nQ 31.109375 20.453125 19.1875 8.296875 \nz\n\" id=\"DejaVuSans-50\"/>\n       </defs>\n       <use xlink:href=\"#DejaVuSans-50\"/>\n       <use x=\"63.623047\" xlink:href=\"#DejaVuSans-48\"/>\n      </g>\n     </g>\n    </g>\n   </g>\n   <g id=\"matplotlib.axis_2\">\n    <g id=\"ytick_1\">\n     <g id=\"line2d_6\">\n      <defs>\n       <path d=\"M 0 0 \nL -3.5 0 \n\" id=\"mdd59e8c28e\" style=\"stroke:#000000;stroke-width:0.8;\"/>\n      </defs>\n      <g>\n       <use style=\"stroke:#000000;stroke-width:0.8;\" x=\"39.65\" xlink:href=\"#mdd59e8c28e\" y=\"10.999219\"/>\n      </g>\n     </g>\n     <g id=\"text_6\">\n      <!-- 0 -->\n      <g transform=\"translate(26.2875 14.798437)scale(0.1 -0.1)\">\n       <use xlink:href=\"#DejaVuSans-48\"/>\n      </g>\n     </g>\n    </g>\n    <g id=\"ytick_2\">\n     <g id=\"line2d_7\">\n      <g>\n       <use style=\"stroke:#000000;stroke-width:0.8;\" x=\"39.65\" xlink:href=\"#mdd59e8c28e\" y=\"49.648348\"/>\n      </g>\n     </g>\n     <g id=\"text_7\">\n      <!-- 1000 -->\n      <g transform=\"translate(7.2 53.447567)scale(0.1 -0.1)\">\n       <use xlink:href=\"#DejaVuSans-49\"/>\n       <use x=\"63.623047\" xlink:href=\"#DejaVuSans-48\"/>\n       <use x=\"127.246094\" xlink:href=\"#DejaVuSans-48\"/>\n       <use x=\"190.869141\" xlink:href=\"#DejaVuSans-48\"/>\n      </g>\n     </g>\n    </g>\n    <g id=\"ytick_3\">\n     <g id=\"line2d_8\">\n      <g>\n       <use style=\"stroke:#000000;stroke-width:0.8;\" x=\"39.65\" xlink:href=\"#mdd59e8c28e\" y=\"88.297477\"/>\n      </g>\n     </g>\n     <g id=\"text_8\">\n      <!-- 2000 -->\n      <g transform=\"translate(7.2 92.096696)scale(0.1 -0.1)\">\n       <use xlink:href=\"#DejaVuSans-50\"/>\n       <use x=\"63.623047\" xlink:href=\"#DejaVuSans-48\"/>\n       <use x=\"127.246094\" xlink:href=\"#DejaVuSans-48\"/>\n       <use x=\"190.869141\" xlink:href=\"#DejaVuSans-48\"/>\n      </g>\n     </g>\n    </g>\n    <g id=\"ytick_4\">\n     <g id=\"line2d_9\">\n      <g>\n       <use style=\"stroke:#000000;stroke-width:0.8;\" x=\"39.65\" xlink:href=\"#mdd59e8c28e\" y=\"126.946606\"/>\n      </g>\n     </g>\n     <g id=\"text_9\">\n      <!-- 3000 -->\n      <g transform=\"translate(7.2 130.745825)scale(0.1 -0.1)\">\n       <defs>\n        <path d=\"M 40.578125 39.3125 \nQ 47.65625 37.796875 51.625 33 \nQ 55.609375 28.21875 55.609375 21.1875 \nQ 55.609375 10.40625 48.1875 4.484375 \nQ 40.765625 -1.421875 27.09375 -1.421875 \nQ 22.515625 -1.421875 17.65625 -0.515625 \nQ 12.796875 0.390625 7.625 2.203125 \nL 7.625 11.71875 \nQ 11.71875 9.328125 16.59375 8.109375 \nQ 21.484375 6.890625 26.8125 6.890625 \nQ 36.078125 6.890625 40.9375 10.546875 \nQ 45.796875 14.203125 45.796875 21.1875 \nQ 45.796875 27.640625 41.28125 31.265625 \nQ 36.765625 34.90625 28.71875 34.90625 \nL 20.21875 34.90625 \nL 20.21875 43.015625 \nL 29.109375 43.015625 \nQ 36.375 43.015625 40.234375 45.921875 \nQ 44.09375 48.828125 44.09375 54.296875 \nQ 44.09375 59.90625 40.109375 62.90625 \nQ 36.140625 65.921875 28.71875 65.921875 \nQ 24.65625 65.921875 20.015625 65.03125 \nQ 15.375 64.15625 9.8125 62.3125 \nL 9.8125 71.09375 \nQ 15.4375 72.65625 20.34375 73.4375 \nQ 25.25 74.21875 29.59375 74.21875 \nQ 40.828125 74.21875 47.359375 69.109375 \nQ 53.90625 64.015625 53.90625 55.328125 \nQ 53.90625 49.265625 50.4375 45.09375 \nQ 46.96875 40.921875 40.578125 39.3125 \nz\n\" id=\"DejaVuSans-51\"/>\n       </defs>\n       <use xlink:href=\"#DejaVuSans-51\"/>\n       <use x=\"63.623047\" xlink:href=\"#DejaVuSans-48\"/>\n       <use x=\"127.246094\" xlink:href=\"#DejaVuSans-48\"/>\n       <use x=\"190.869141\" xlink:href=\"#DejaVuSans-48\"/>\n      </g>\n     </g>\n    </g>\n    <g id=\"ytick_5\">\n     <g id=\"line2d_10\">\n      <g>\n       <use style=\"stroke:#000000;stroke-width:0.8;\" x=\"39.65\" xlink:href=\"#mdd59e8c28e\" y=\"165.595735\"/>\n      </g>\n     </g>\n     <g id=\"text_10\">\n      <!-- 4000 -->\n      <g transform=\"translate(7.2 169.394954)scale(0.1 -0.1)\">\n       <defs>\n        <path d=\"M 37.796875 64.3125 \nL 12.890625 25.390625 \nL 37.796875 25.390625 \nz\nM 35.203125 72.90625 \nL 47.609375 72.90625 \nL 47.609375 25.390625 \nL 58.015625 25.390625 \nL 58.015625 17.1875 \nL 47.609375 17.1875 \nL 47.609375 0 \nL 37.796875 0 \nL 37.796875 17.1875 \nL 4.890625 17.1875 \nL 4.890625 26.703125 \nz\n\" id=\"DejaVuSans-52\"/>\n       </defs>\n       <use xlink:href=\"#DejaVuSans-52\"/>\n       <use x=\"63.623047\" xlink:href=\"#DejaVuSans-48\"/>\n       <use x=\"127.246094\" xlink:href=\"#DejaVuSans-48\"/>\n       <use x=\"190.869141\" xlink:href=\"#DejaVuSans-48\"/>\n      </g>\n     </g>\n    </g>\n    <g id=\"ytick_6\">\n     <g id=\"line2d_11\">\n      <g>\n       <use style=\"stroke:#000000;stroke-width:0.8;\" x=\"39.65\" xlink:href=\"#mdd59e8c28e\" y=\"204.244864\"/>\n      </g>\n     </g>\n     <g id=\"text_11\">\n      <!-- 5000 -->\n      <g transform=\"translate(7.2 208.044083)scale(0.1 -0.1)\">\n       <use xlink:href=\"#DejaVuSans-53\"/>\n       <use x=\"63.623047\" xlink:href=\"#DejaVuSans-48\"/>\n       <use x=\"127.246094\" xlink:href=\"#DejaVuSans-48\"/>\n       <use x=\"190.869141\" xlink:href=\"#DejaVuSans-48\"/>\n      </g>\n     </g>\n    </g>\n   </g>\n   <g id=\"patch_3\">\n    <path d=\"M 39.65 228.419894 \nL 39.65 10.979894 \n\" style=\"fill:none;stroke:#000000;stroke-linecap:square;stroke-linejoin:miter;stroke-width:0.8;\"/>\n   </g>\n   <g id=\"patch_4\">\n    <path d=\"M 374.45 228.419894 \nL 374.45 10.979894 \n\" style=\"fill:none;stroke:#000000;stroke-linecap:square;stroke-linejoin:miter;stroke-width:0.8;\"/>\n   </g>\n   <g id=\"patch_5\">\n    <path d=\"M 39.65 228.419894 \nL 374.45 228.419894 \n\" style=\"fill:none;stroke:#000000;stroke-linecap:square;stroke-linejoin:miter;stroke-width:0.8;\"/>\n   </g>\n   <g id=\"patch_6\">\n    <path d=\"M 39.65 10.979894 \nL 374.45 10.979894 \n\" style=\"fill:none;stroke:#000000;stroke-linecap:square;stroke-linejoin:miter;stroke-width:0.8;\"/>\n   </g>\n  </g>\n </g>\n <defs>\n  <clipPath id=\"p237dec58ce\">\n   <rect height=\"217.44\" width=\"334.8\" x=\"39.65\" y=\"10.979894\"/>\n  </clipPath>\n </defs>\n</svg>\n",
      "image/png": "[encoded data removed]"
     },
     "metadata": {
      "needs_background": "light"
     }
    }
   ],
   "source": [
    "plt.imshow(matrix, aspect=\"auto\")"
   ]
  },
  {
   "cell_type": "code",
   "execution_count": 26,
   "metadata": {},
   "outputs": [
    {
     "output_type": "stream",
     "name": "stdout",
     "text": [
      "feature_map:torch.Size([1, 2048, 35, 2])\nfeature_map: mean-dim3torch.Size([1, 2048, 35])\npool1d_map: mean-dim3torch.Size([1, 2048, 35])\n"
     ]
    }
   ],
   "source": [
    "model = Cnn14_DecisionLevelAtt(sample_rate=16000,\n",
    "        window_size=1024,\n",
    "        hop_size=256,\n",
    "        mel_bins=64,\n",
    "        fmin=50,\n",
    "        fmax=8000,\n",
    "        classes_num=25,\n",
    "        training=False,\n",
    "        require_prep=True,\n",
    "        is_spec_augmenter=False,\n",
    "        mixup_lambda=None,)\n",
    "x = torch.tensor(wave[:288000]).unsqueeze(0)\n",
    "y = model(x)"
   ]
  },
  {
   "cell_type": "code",
   "execution_count": 28,
   "metadata": {},
   "outputs": [
    {
     "output_type": "execute_result",
     "data": {
      "text/plain": [
       "torch.Size([1, 25])"
      ]
     },
     "metadata": {},
     "execution_count": 28
    }
   ],
   "source": [
    "y[\"clipwise_output\"].shape"
   ]
  },
  {
   "cell_type": "code",
   "execution_count": 39,
   "metadata": {},
   "outputs": [
    {
     "output_type": "execute_result",
     "data": {
      "text/plain": [
       "    recording_id  species_id  songtype_id    t_min    f_min    t_max   f_max  \\\n",
       "915    c12e0a62b           9            1  14.9653  1125.00  17.7707  5250.0   \n",
       "916    c12e0a62b          17            1   1.5467  1312.50   8.0000  3937.5   \n",
       "917    c12e0a62b          17            1  11.9200  1312.50  18.3733  3937.5   \n",
       "918    c12e0a62b           3            1  21.5680  1031.25  22.3093  2812.5   \n",
       "919    c12e0a62b          17            1  23.4880  1312.50  29.9413  3937.5   \n",
       "\n",
       "     t_diff   f_diff  count  \n",
       "915  2.8054  4125.00      5  \n",
       "916  6.4533  2625.00      5  \n",
       "917  6.4533  2625.00      5  \n",
       "918  0.7413  1781.25      5  \n",
       "919  6.4533  2625.00      5  "
      ],
      "text/html": "<div>\n<style scoped>\n    .dataframe tbody tr th:only-of-type {\n        vertical-align: middle;\n    }\n\n    .dataframe tbody tr th {\n        vertical-align: top;\n    }\n\n    .dataframe thead th {\n        text-align: right;\n    }\n</style>\n<table border=\"1\" class=\"dataframe\">\n  <thead>\n    <tr style=\"text-align: right;\">\n      <th></th>\n      <th>recording_id</th>\n      <th>species_id</th>\n      <th>songtype_id</th>\n      <th>t_min</th>\n      <th>f_min</th>\n      <th>t_max</th>\n      <th>f_max</th>\n      <th>t_diff</th>\n      <th>f_diff</th>\n      <th>count</th>\n    </tr>\n  </thead>\n  <tbody>\n    <tr>\n      <th>915</th>\n      <td>c12e0a62b</td>\n      <td>9</td>\n      <td>1</td>\n      <td>14.9653</td>\n      <td>1125.00</td>\n      <td>17.7707</td>\n      <td>5250.0</td>\n      <td>2.8054</td>\n      <td>4125.00</td>\n      <td>5</td>\n    </tr>\n    <tr>\n      <th>916</th>\n      <td>c12e0a62b</td>\n      <td>17</td>\n      <td>1</td>\n      <td>1.5467</td>\n      <td>1312.50</td>\n      <td>8.0000</td>\n      <td>3937.5</td>\n      <td>6.4533</td>\n      <td>2625.00</td>\n      <td>5</td>\n    </tr>\n    <tr>\n      <th>917</th>\n      <td>c12e0a62b</td>\n      <td>17</td>\n      <td>1</td>\n      <td>11.9200</td>\n      <td>1312.50</td>\n      <td>18.3733</td>\n      <td>3937.5</td>\n      <td>6.4533</td>\n      <td>2625.00</td>\n      <td>5</td>\n    </tr>\n    <tr>\n      <th>918</th>\n      <td>c12e0a62b</td>\n      <td>3</td>\n      <td>1</td>\n      <td>21.5680</td>\n      <td>1031.25</td>\n      <td>22.3093</td>\n      <td>2812.5</td>\n      <td>0.7413</td>\n      <td>1781.25</td>\n      <td>5</td>\n    </tr>\n    <tr>\n      <th>919</th>\n      <td>c12e0a62b</td>\n      <td>17</td>\n      <td>1</td>\n      <td>23.4880</td>\n      <td>1312.50</td>\n      <td>29.9413</td>\n      <td>3937.5</td>\n      <td>6.4533</td>\n      <td>2625.00</td>\n      <td>5</td>\n    </tr>\n  </tbody>\n</table>\n</div>"
     },
     "metadata": {},
     "execution_count": 39
    }
   ],
   "source": [
    "train_tp[train_tp[\"count\"] == 5]"
   ]
  },
  {
   "cell_type": "code",
   "execution_count": null,
   "metadata": {},
   "outputs": [],
   "source": []
  }
 ]
}