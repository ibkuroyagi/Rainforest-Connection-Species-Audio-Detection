{
 "metadata": {
  "language_info": {
   "codemirror_mode": {
    "name": "ipython",
    "version": 3
   },
   "file_extension": ".py",
   "mimetype": "text/x-python",
   "name": "python",
   "nbconvert_exporter": "python",
   "pygments_lexer": "ipython3",
   "version": "3.6.8-final"
  },
  "orig_nbformat": 2,
  "kernelspec": {
   "name": "python36864bitvenvvirtualenv6514465dac1e4c1981844926ede66322",
   "display_name": "Python 3.6.8 64-bit ('venv': virtualenv)"
  }
 },
 "nbformat": 4,
 "nbformat_minor": 2,
 "cells": [
  {
   "cell_type": "code",
   "execution_count": 38,
   "metadata": {},
   "outputs": [],
   "source": [
    "import pandas as pd\n",
    "import librosa\n",
    "import numpy as np\n",
    "import matplotlib.pyplot as plt\n",
    "import os\n",
    "import torch\n",
    "import torch.nn as nn\n",
    "import yaml\n",
    "from torch.utils.data import DataLoader\n",
    "from tqdm.notebook import tqdm"
   ]
  },
  {
   "cell_type": "code",
   "execution_count": 2,
   "metadata": {},
   "outputs": [],
   "source": [
    "train_tp = pd.read_csv('../input/rfcx-species-audio-detection/train_tp.csv')\n",
    "train_fp = pd.read_csv('../input/rfcx-species-audio-detection/train_fp.csv')"
   ]
  },
  {
   "cell_type": "code",
   "execution_count": 31,
   "metadata": {},
   "outputs": [],
   "source": [
    "tmp = pd.DataFrame(train_tp[\"recording_id\"].value_counts()).reset_index().rename(columns={'index': 'recording_id', \"recording_id\": \"count\"})\n",
    "train_tp = pd.merge(train_tp, tmp, on=\"recording_id\", how='inner')\n",
    "# train_tp"
   ]
  },
  {
   "cell_type": "code",
   "execution_count": 43,
   "metadata": {},
   "outputs": [
    {
     "output_type": "execute_result",
     "data": {
      "text/plain": [
       "     recording_id  species_id  songtype_id    t_min    f_min    t_max  \\\n",
       "309     400b7210c          17            1  44.4000  1312.50  50.8533   \n",
       "310     400b7210c          17            1  48.4480  1312.50  54.9013   \n",
       "311     400b7210c          19            1  46.6240   281.25  48.1760   \n",
       "312     400b7210c          17            1  35.9040  1312.50  42.3573   \n",
       "474     5f8eecc9e          23            4  51.0084  6459.96  58.9322   \n",
       "475     5f8eecc9e           9            1  54.9440  1125.00  57.7493   \n",
       "476     5f8eecc9e           9            1  48.5547  1125.00  51.3600   \n",
       "477     5f8eecc9e          23            4   7.9412  6459.96  15.8650   \n",
       "1019    d59d099b3          17            1  32.9973  1312.50  39.4507   \n",
       "1020    d59d099b3          17            1  37.0933  1312.50  43.5467   \n",
       "1021    d59d099b3          17            1  41.0880  1312.50  47.5413   \n",
       "1022    d59d099b3          17            4  36.0267  1406.25  38.6347   \n",
       "\n",
       "        f_max  count  \n",
       "309    3937.5      4  \n",
       "310    3937.5      4  \n",
       "311    2812.5      4  \n",
       "312    3937.5      4  \n",
       "474   11627.9      4  \n",
       "475    5250.0      4  \n",
       "476    5250.0      4  \n",
       "477   11627.9      4  \n",
       "1019   3937.5      4  \n",
       "1020   3937.5      4  \n",
       "1021   3937.5      4  \n",
       "1022   3937.5      4  "
      ],
      "text/html": "<div>\n<style scoped>\n    .dataframe tbody tr th:only-of-type {\n        vertical-align: middle;\n    }\n\n    .dataframe tbody tr th {\n        vertical-align: top;\n    }\n\n    .dataframe thead th {\n        text-align: right;\n    }\n</style>\n<table border=\"1\" class=\"dataframe\">\n  <thead>\n    <tr style=\"text-align: right;\">\n      <th></th>\n      <th>recording_id</th>\n      <th>species_id</th>\n      <th>songtype_id</th>\n      <th>t_min</th>\n      <th>f_min</th>\n      <th>t_max</th>\n      <th>f_max</th>\n      <th>count</th>\n    </tr>\n  </thead>\n  <tbody>\n    <tr>\n      <th>309</th>\n      <td>400b7210c</td>\n      <td>17</td>\n      <td>1</td>\n      <td>44.4000</td>\n      <td>1312.50</td>\n      <td>50.8533</td>\n      <td>3937.5</td>\n      <td>4</td>\n    </tr>\n    <tr>\n      <th>310</th>\n      <td>400b7210c</td>\n      <td>17</td>\n      <td>1</td>\n      <td>48.4480</td>\n      <td>1312.50</td>\n      <td>54.9013</td>\n      <td>3937.5</td>\n      <td>4</td>\n    </tr>\n    <tr>\n      <th>311</th>\n      <td>400b7210c</td>\n      <td>19</td>\n      <td>1</td>\n      <td>46.6240</td>\n      <td>281.25</td>\n      <td>48.1760</td>\n      <td>2812.5</td>\n      <td>4</td>\n    </tr>\n    <tr>\n      <th>312</th>\n      <td>400b7210c</td>\n      <td>17</td>\n      <td>1</td>\n      <td>35.9040</td>\n      <td>1312.50</td>\n      <td>42.3573</td>\n      <td>3937.5</td>\n      <td>4</td>\n    </tr>\n    <tr>\n      <th>474</th>\n      <td>5f8eecc9e</td>\n      <td>23</td>\n      <td>4</td>\n      <td>51.0084</td>\n      <td>6459.96</td>\n      <td>58.9322</td>\n      <td>11627.9</td>\n      <td>4</td>\n    </tr>\n    <tr>\n      <th>475</th>\n      <td>5f8eecc9e</td>\n      <td>9</td>\n      <td>1</td>\n      <td>54.9440</td>\n      <td>1125.00</td>\n      <td>57.7493</td>\n      <td>5250.0</td>\n      <td>4</td>\n    </tr>\n    <tr>\n      <th>476</th>\n      <td>5f8eecc9e</td>\n      <td>9</td>\n      <td>1</td>\n      <td>48.5547</td>\n      <td>1125.00</td>\n      <td>51.3600</td>\n      <td>5250.0</td>\n      <td>4</td>\n    </tr>\n    <tr>\n      <th>477</th>\n      <td>5f8eecc9e</td>\n      <td>23</td>\n      <td>4</td>\n      <td>7.9412</td>\n      <td>6459.96</td>\n      <td>15.8650</td>\n      <td>11627.9</td>\n      <td>4</td>\n    </tr>\n    <tr>\n      <th>1019</th>\n      <td>d59d099b3</td>\n      <td>17</td>\n      <td>1</td>\n      <td>32.9973</td>\n      <td>1312.50</td>\n      <td>39.4507</td>\n      <td>3937.5</td>\n      <td>4</td>\n    </tr>\n    <tr>\n      <th>1020</th>\n      <td>d59d099b3</td>\n      <td>17</td>\n      <td>1</td>\n      <td>37.0933</td>\n      <td>1312.50</td>\n      <td>43.5467</td>\n      <td>3937.5</td>\n      <td>4</td>\n    </tr>\n    <tr>\n      <th>1021</th>\n      <td>d59d099b3</td>\n      <td>17</td>\n      <td>1</td>\n      <td>41.0880</td>\n      <td>1312.50</td>\n      <td>47.5413</td>\n      <td>3937.5</td>\n      <td>4</td>\n    </tr>\n    <tr>\n      <th>1022</th>\n      <td>d59d099b3</td>\n      <td>17</td>\n      <td>4</td>\n      <td>36.0267</td>\n      <td>1406.25</td>\n      <td>38.6347</td>\n      <td>3937.5</td>\n      <td>4</td>\n    </tr>\n  </tbody>\n</table>\n</div>"
     },
     "metadata": {},
     "execution_count": 43
    }
   ],
   "source": [
    "train_tp[train_tp[\"count\"] == 4]"
   ]
  },
  {
   "cell_type": "code",
   "execution_count": 37,
   "metadata": {},
   "outputs": [
    {
     "output_type": "execute_result",
     "data": {
      "text/plain": [
       "1    1065\n",
       "2     110\n",
       "3      24\n",
       "4      12\n",
       "5       5\n",
       "Name: count, dtype: int64"
      ]
     },
     "metadata": {},
     "execution_count": 37
    }
   ],
   "source": [
    "train_tp[\"count\"].value_counts()"
   ]
  },
  {
   "cell_type": "code",
   "execution_count": null,
   "metadata": {},
   "outputs": [],
   "source": [
    "path = \"../input/rfcx-species-audio-detection/train/0a4e7e350.flac\"\n",
    "librosa.load()"
   ]
  },
  {
   "cell_type": "code",
   "execution_count": 39,
   "metadata": {},
   "outputs": [
    {
     "output_type": "stream",
     "name": "stdout",
     "text": [
      "train:4727, test:1992\n"
     ]
    }
   ],
   "source": [
    "train_path_list = os.listdir(\"../input/rfcx-species-audio-detection/train\")\n",
    "test_path_list = os.listdir(\"../input/rfcx-species-audio-detection/test\")\n",
    "print(f\"train:{len(train_path_list)}, test:{len(test_path_list)}\")"
   ]
  },
  {
   "cell_type": "code",
   "execution_count": null,
   "metadata": {},
   "outputs": [],
   "source": []
  }
 ]
}