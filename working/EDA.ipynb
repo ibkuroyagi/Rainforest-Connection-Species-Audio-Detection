{
 "metadata": {
  "language_info": {
   "codemirror_mode": {
    "name": "ipython",
    "version": 3
   },
   "file_extension": ".py",
   "mimetype": "text/x-python",
   "name": "python",
   "nbconvert_exporter": "python",
   "pygments_lexer": "ipython3",
   "version": "3.6.8-final"
  },
  "orig_nbformat": 2,
  "kernelspec": {
   "name": "python36864bitvenvvirtualenv6514465dac1e4c1981844926ede66322",
   "display_name": "Python 3.6.8 64-bit ('venv': virtualenv)",
   "language": "python"
  }
 },
 "nbformat": 4,
 "nbformat_minor": 2,
 "cells": [
  {
   "cell_type": "code",
   "execution_count": 1,
   "metadata": {},
   "outputs": [],
   "source": [
    "import random\n",
    "\n",
    "import pandas as pd\n",
    "import librosa\n",
    "import numpy as np\n",
    "import pandas as pd\n",
    "import matplotlib.pyplot as plt\n",
    "import os\n",
    "import sys\n",
    "import torch\n",
    "import torch.nn as nn\n",
    "import yaml\n",
    "from torch.utils.data import DataLoader\n",
    "from tqdm import tqdm_notebook as tqdm\n",
    "\n",
    "sys.path.append(\"../input/modules\")\n",
    "from datasets import RainForestDataset\n",
    "from utils import read_hdf5\n",
    "from utils import down_sampler\n",
    "from utils import get_concat_down_frame\n",
    "from utils import get_down_sample_matrix\n",
    "from models import Cnn14_DecisionLevelAtt\n",
    "from losses import FrameClipLoss\n",
    "from datasets import FeatTrainCollater\n",
    "from datasets import FeatEvalCollater\n",
    "from utils import lwlrap\n",
    "sys.path.append(\"../input/iterative-stratification-master\")\n",
    "from iterstrat.ml_stratifiers import MultilabelStratifiedKFold\n",
    "%load_ext autoreload\n",
    "%autoreload 2"
   ]
  },
  {
   "cell_type": "code",
   "execution_count": 2,
   "metadata": {},
   "outputs": [],
   "source": [
    "train_tp = pd.read_csv('../input/rfcx-species-audio-detection/train_tp.csv')\n",
    "train_fp = pd.read_csv('../input/rfcx-species-audio-detection/train_fp.csv')\n",
    "submission = pd.read_csv('../input/rfcx-species-audio-detection/sample_submission.csv')\n",
    "tmp = pd.DataFrame(train_tp[\"recording_id\"].value_counts()).reset_index().rename(columns={'index': 'recording_id', \"recording_id\": \"count\"})\n",
    "train_tp[\"t_diff\"] = train_tp[\"t_max\"] - train_tp[\"t_min\"]\n",
    "train_tp[\"f_diff\"] = train_tp[\"f_max\"] - train_tp[\"f_min\"]\n",
    "train_fp[\"t_diff\"] = train_fp[\"t_max\"] - train_fp[\"t_min\"]\n",
    "train_fp[\"f_diff\"] = train_fp[\"f_max\"] - train_fp[\"f_min\"]\n",
    "train_tp = pd.merge(train_tp, tmp, on=\"recording_id\", how='inner')\n",
    "train_tp[\"count\"].value_counts()\n",
    "tp_list = train_tp[\"recording_id\"].unique()\n",
    "fp_list = train_fp[\"recording_id\"].unique()"
   ]
  },
  {
   "cell_type": "code",
   "execution_count": 3,
   "metadata": {},
   "outputs": [
    {
     "output_type": "execute_result",
     "data": {
      "text/plain": [
       "1     2028\n",
       "2     1716\n",
       "3     1635\n",
       "4     1356\n",
       "5      575\n",
       "6      294\n",
       "7      126\n",
       "8       32\n",
       "10      10\n",
       "9        9\n",
       "Name: count, dtype: int64"
      ]
     },
     "metadata": {},
     "execution_count": 3
    }
   ],
   "source": [
    "tmp = pd.DataFrame(train_fp[\"recording_id\"].value_counts()).reset_index().rename(columns={'index': 'recording_id', \"recording_id\": \"count\"})\n",
    "train_fp = pd.merge(train_fp, tmp, on=\"recording_id\", how='inner')\n",
    "train_fp[\"count\"].value_counts()"
   ]
  },
  {
   "cell_type": "code",
   "execution_count": 4,
   "metadata": {
    "tags": []
   },
   "outputs": [
    {
     "output_type": "stream",
     "name": "stdout",
     "text": [
      "train:4727, test:1992\n"
     ]
    }
   ],
   "source": [
    "train_path_list = os.listdir(\"../input/rfcx-species-audio-detection/train\")\n",
    "test_path_list = os.listdir(\"../input/rfcx-species-audio-detection/test\")\n",
    "print(f\"train:{len(train_path_list)}, test:{len(test_path_list)}\")\n",
    "# print(\"train\")\n",
    "# for path in tqdm(train_path_list):\n",
    "#     path = os.path.join(\"../input/rfcx-species-audio-detection/train\", path)\n",
    "#     y, sr = librosa.load(path=path, sr=None)\n",
    "#     if (sr != 48000) or (len(y) != 2880000):\n",
    "#         print(path, y.shape, sr)\n",
    "# print(\"test\")\n",
    "# for path in tqdm(test_path_list):\n",
    "#     path = os.path.join(\"../input/rfcx-species-audio-detection/test\", path)\n",
    "#     y, sr = librosa.load(path=path, sr=None)\n",
    "#     if (sr != 48000) or (len(y) != 2880000):\n",
    "#         print(path, y.shape, sr)"
   ]
  },
  {
   "cell_type": "code",
   "execution_count": null,
   "metadata": {},
   "outputs": [],
   "source": [
    "plt.figure(figsize=(16, 8))\n",
    "plt.subplot(2, 2, 1)\n",
    "plt.plot(y)\n",
    "plt.subplot(2, 2, 2)\n",
    "plt.imshow(logmel.T, aspect=\"auto\")\n",
    "\n",
    "plt.colorbar()\n",
    "y, sr = librosa.load(path=train_tp_list[10], sr=48000)\n",
    "# y = (y -y.mean()) / y.std()\n",
    "logmel = logmelfilterbank(\n",
    "    y,\n",
    "    sr,\n",
    "    fft_size=2048,\n",
    "    hop_size=512,\n",
    "    win_length=None,\n",
    "    window=\"hann\",\n",
    "    num_mels=128,\n",
    "    fmin=50,\n",
    "    fmax=16000,\n",
    "    eps=1e-10,\n",
    ")\n",
    "plt.subplot(2, 2, 3)\n",
    "plt.plot(y)\n",
    "plt.subplot(2, 2, 4)\n",
    "plt.imshow(logmel.T, aspect=\"auto\")\n",
    "plt.colorbar()\n",
    "\n",
    "# plt.savefig(\"spec.png\")"
   ]
  },
  {
   "cell_type": "code",
   "execution_count": 5,
   "metadata": {},
   "outputs": [],
   "source": [
    "path = \"dump/wave/train/551385b05.h5\" # \"dump/wave/train/c12e0a62b.h5\"\n",
    "wave = read_hdf5(hdf5_name=path, hdf5_path=\"wave\")\n",
    "mel = read_hdf5(hdf5_name=path, hdf5_path=\"feats\")\n",
    "matrix_tp = read_hdf5(hdf5_name=path, hdf5_path=\"matrix_tp\")\n",
    "matrix_fp = read_hdf5(hdf5_name=path, hdf5_path=\"matrix_fp\")\n",
    "\n",
    "# plt.figure(figsize=(16, 8))\n",
    "# plt.subplot(2, 2, 1)\n",
    "# plt.plot(wave)\n",
    "# plt.subplot(2, 2, 2)\n",
    "# plt.imshow(mel.T, aspect=\"auto\")\n",
    "# plt.colorbar()\n",
    "# plt.subplot(2, 2, 3)\n",
    "# plt.imshow(matrix_tp.T, aspect=\"auto\")\n",
    "# plt.subplot(2, 2, 4)\n",
    "# plt.imshow(matrix_fp.T, aspect=\"auto\")\n",
    "# plt.colorbar()"
   ]
  },
  {
   "cell_type": "code",
   "execution_count": 6,
   "metadata": {
    "tags": []
   },
   "outputs": [
    {
     "output_type": "stream",
     "name": "stdout",
     "text": [
      "torch.Size([2, 16, 24]) torch.Size([2, 24])\n",
      "torch.Size([2, 16, 24]) torch.Size([2, 24])\n"
     ]
    }
   ],
   "source": [
    "y_frame = torch.stack([torch.tensor(down_sampler(matrix_tp[3000:3512])), torch.tensor(down_sampler(matrix_tp[4500:5012]))], dim=0)\n",
    "y_clip = torch.tensor((y_frame>0).any(axis=1), dtype=torch.float)\n",
    "x_batch = torch.stack([torch.tensor(mel[3000:3512]), torch.tensor(mel[4500:5012])], dim=0).transpose(2,1)\n",
    "print(y_frame.shape, y_clip.shape)\n",
    "model = Cnn14_DecisionLevelAtt(sample_rate=16000,\n",
    "        window_size=1024,\n",
    "        hop_size=256,\n",
    "        mel_bins=64,\n",
    "        fmin=50,\n",
    "        fmax=8000,\n",
    "        classes_num=24,\n",
    "        training=False,\n",
    "        require_prep=False,\n",
    "        is_spec_augmenter=False,\n",
    "        mixup_lambda=None,)\n",
    "model.bn0 = nn.BatchNorm2d(128)\n",
    "y = model(x_batch)\n",
    "bce = nn.BCEWithLogitsLoss(reduction=\"mean\")\n",
    "print(y[\"y_frame\"].shape, y[\"y_clip\"].shape)"
   ]
  },
  {
   "cell_type": "code",
   "execution_count": 21,
   "metadata": {},
   "outputs": [
    {
     "output_type": "stream",
     "name": "stdout",
     "text": [
      "0.9768208266970457\n"
     ]
    }
   ],
   "source": [
    "criterion = FrameClipLoss()\n",
    "loss = criterion(y[\"y_frame\"], y_frame, y[\"y_clip\"], y_clip)\n",
    "print(loss.item())\n",
    "loss.backward(retain_graph=True)\n",
    "# clip_loss = bce(y[\"y_clip\"], y_clip)\n",
    "# frame_loss = bce(y[\"y_frame\"], y_frame)\n",
    "# print(clip_loss.item())\n",
    "# print(frame_loss.item())\n",
    "# clip_loss.backward(retain_graph=True)\n",
    "# frame_loss.backward(retain_graph=True)\n"
   ]
  },
  {
   "cell_type": "code",
   "execution_count": 20,
   "metadata": {},
   "outputs": [
    {
     "output_type": "execute_result",
     "data": {
      "text/plain": [
       "<matplotlib.image.AxesImage at 0x7f1264a3ef60>"
      ]
     },
     "metadata": {},
     "execution_count": 20
    },
    {
     "output_type": "display_data",
     "data": {
      "text/plain": "<Figure size 432x288 with 1 Axes>",
      "image/svg+xml": "<?xml version=\"1.0\" encoding=\"utf-8\" standalone=\"no\"?>\n<!DOCTYPE svg PUBLIC \"-//W3C//DTD SVG 1.1//EN\"\n  \"http://www.w3.org/Graphics/SVG/1.1/DTD/svg11.dtd\">\n<!-- Created with matplotlib (https://matplotlib.org/) -->\n<svg height=\"248.518125pt\" version=\"1.1\" viewBox=\"0 0 368.925 248.518125\" width=\"368.925pt\" xmlns=\"http://www.w3.org/2000/svg\" xmlns:xlink=\"http://www.w3.org/1999/xlink\">\n <metadata>\n  <rdf:RDF xmlns:cc=\"http://creativecommons.org/ns#\" xmlns:dc=\"http://purl.org/dc/elements/1.1/\" xmlns:rdf=\"http://www.w3.org/1999/02/22-rdf-syntax-ns#\">\n   <cc:Work>\n    <dc:type rdf:resource=\"http://purl.org/dc/dcmitype/StillImage\"/>\n    <dc:date>2020-12-12T19:39:10.554569</dc:date>\n    <dc:format>image/svg+xml</dc:format>\n    <dc:creator>\n     <cc:Agent>\n      <dc:title>Matplotlib v3.3.3, https://matplotlib.org/</dc:title>\n     </cc:Agent>\n    </dc:creator>\n   </cc:Work>\n  </rdf:RDF>\n </metadata>\n <defs>\n  <style type=\"text/css\">*{stroke-linecap:butt;stroke-linejoin:round;}</style>\n </defs>\n <g id=\"figure_1\">\n  <g id=\"patch_1\">\n   <path d=\"M -0 248.518125 \nL 368.925 248.518125 \nL 368.925 0 \nL -0 0 \nz\n\" style=\"fill:none;\"/>\n  </g>\n  <g id=\"axes_1\">\n   <g id=\"patch_2\">\n    <path d=\"M 26.925 224.64 \nL 361.725 224.64 \nL 361.725 7.2 \nL 26.925 7.2 \nz\n\" style=\"fill:#ffffff;\"/>\n   </g>\n   <g clip-path=\"url(#p0408da2993)\">\n    <image height=\"218\" id=\"imagecacbbe6074\" transform=\"scale(1 -1)translate(0 -218)\" width=\"335\" x=\"26.925\" xlink:href=\"data:image/png;base64,\niVBORw0KGgoAAAANSUhEUgAAAU8AAADaCAYAAAAmEcC2AAADCUlEQVR4nO3aQQ3CUBRFQUpQgQpEkNQAZuuiKrBRJJCezW+bGQV3dfIWb3pPn+0GwC730QMAzkg8AQLxBAjEEyAQT4BAPAEC8QQIxBMgEE+AQDwBAvEECMQTIBBPgEA8AQLxBAjEEyAQT4BAPAEC8QQIxBMgEE+AQDwBAvEECMQTIBBPgEA8AQLxBAjEEyAQT4BAPAEC8QQIxBMgEE+AQDwBAvEECMQTIBBPgEA8AQLxBAjEEyAQT4BAPAEC8QQIxBMgEE+AQDwBAvEECMQTIBBPgEA8AQLxBAjEEyAQT4BAPAEC8QQIxBMgEE+AQDwBAvEECMQTIBBPgEA8AQLxBAjEEyAQT4BAPAEC8QQIxBMgEE+AQDwBAvEECMQTIBBPgEA8AQLxBAjEEyAQT4BAPAEC8QQIxBMgEE+AQDwBAvEECMQTIBBPgEA8AQLxBAjEEyAQT4BAPAEC8QQIxBMgEE+AQDwBAvEECMQTIBBPgEA8AQLxBAjEEyAQT4BAPAEC8QQIxBMgEE+AQDwBAvEECMQTIHiMHsB/y3cdPeEy5udr9AQuwuUJEIgnQCCeAIF4AgTiCRCIJ0AgngCBeAIEnuRPwGM3HI/LEyAQT4BAPAEC8QQIxBMgEE+AQDwBAvEECMQTIBBPgEA8AQLxBAjEEyAQT4BAPAEC8QQIxBMgEE+AQDwBAvEECMQTIBBPgEA8AQLxBAjEEyAQT4BAPAEC8QQIxBMgEE+AQDwBAvEECMQTIBBPgEA8AQLxBAjEEyAQT4BAPAEC8QQIxBMgEE+AQDwBAvEECMQTIBBPgEA8AQLxBAjEEyAQT4BAPAEC8QQIxBMgEE+AQDwBAvEECMQTIBBPgEA8AQLxBAjEEyAQT4BAPAEC8QQIxBMgEE+AQDwBAvEECMQTIBBPgEA8AQLxBAjEEyAQT4BAPAEC8QQIxBMgEE+AQDwBAvEECMQTIBBPgEA8AQLxBAjEEyAQT4BAPAEC8QQIxBMgEE+AQDwBAvEECMQTIBBPgEA8AQLxBAjEEyAQT4BAPAGCH4LyBuGgXitPAAAAAElFTkSuQmCC\" y=\"-6.64\"/>\n   </g>\n   <g id=\"matplotlib.axis_1\">\n    <g id=\"xtick_1\">\n     <g id=\"line2d_1\">\n      <defs>\n       <path d=\"M 0 0 \nL 0 3.5 \n\" id=\"ma2970a1fd4\" style=\"stroke:#000000;stroke-width:0.8;\"/>\n      </defs>\n      <g>\n       <use style=\"stroke:#000000;stroke-width:0.8;\" x=\"37.3875\" xlink:href=\"#ma2970a1fd4\" y=\"224.64\"/>\n      </g>\n     </g>\n     <g id=\"text_1\">\n      <!-- 0 -->\n      <g transform=\"translate(34.20625 239.238437)scale(0.1 -0.1)\">\n       <defs>\n        <path d=\"M 31.78125 66.40625 \nQ 24.171875 66.40625 20.328125 58.90625 \nQ 16.5 51.421875 16.5 36.375 \nQ 16.5 21.390625 20.328125 13.890625 \nQ 24.171875 6.390625 31.78125 6.390625 \nQ 39.453125 6.390625 43.28125 13.890625 \nQ 47.125 21.390625 47.125 36.375 \nQ 47.125 51.421875 43.28125 58.90625 \nQ 39.453125 66.40625 31.78125 66.40625 \nz\nM 31.78125 74.21875 \nQ 44.046875 74.21875 50.515625 64.515625 \nQ 56.984375 54.828125 56.984375 36.375 \nQ 56.984375 17.96875 50.515625 8.265625 \nQ 44.046875 -1.421875 31.78125 -1.421875 \nQ 19.53125 -1.421875 13.0625 8.265625 \nQ 6.59375 17.96875 6.59375 36.375 \nQ 6.59375 54.828125 13.0625 64.515625 \nQ 19.53125 74.21875 31.78125 74.21875 \nz\n\" id=\"DejaVuSans-48\"/>\n       </defs>\n       <use xlink:href=\"#DejaVuSans-48\"/>\n      </g>\n     </g>\n    </g>\n    <g id=\"xtick_2\">\n     <g id=\"line2d_2\">\n      <g>\n       <use style=\"stroke:#000000;stroke-width:0.8;\" x=\"79.2375\" xlink:href=\"#ma2970a1fd4\" y=\"224.64\"/>\n      </g>\n     </g>\n     <g id=\"text_2\">\n      <!-- 2 -->\n      <g transform=\"translate(76.05625 239.238437)scale(0.1 -0.1)\">\n       <defs>\n        <path d=\"M 19.1875 8.296875 \nL 53.609375 8.296875 \nL 53.609375 0 \nL 7.328125 0 \nL 7.328125 8.296875 \nQ 12.9375 14.109375 22.625 23.890625 \nQ 32.328125 33.6875 34.8125 36.53125 \nQ 39.546875 41.84375 41.421875 45.53125 \nQ 43.3125 49.21875 43.3125 52.78125 \nQ 43.3125 58.59375 39.234375 62.25 \nQ 35.15625 65.921875 28.609375 65.921875 \nQ 23.96875 65.921875 18.8125 64.3125 \nQ 13.671875 62.703125 7.8125 59.421875 \nL 7.8125 69.390625 \nQ 13.765625 71.78125 18.9375 73 \nQ 24.125 74.21875 28.421875 74.21875 \nQ 39.75 74.21875 46.484375 68.546875 \nQ 53.21875 62.890625 53.21875 53.421875 \nQ 53.21875 48.921875 51.53125 44.890625 \nQ 49.859375 40.875 45.40625 35.40625 \nQ 44.1875 33.984375 37.640625 27.21875 \nQ 31.109375 20.453125 19.1875 8.296875 \nz\n\" id=\"DejaVuSans-50\"/>\n       </defs>\n       <use xlink:href=\"#DejaVuSans-50\"/>\n      </g>\n     </g>\n    </g>\n    <g id=\"xtick_3\">\n     <g id=\"line2d_3\">\n      <g>\n       <use style=\"stroke:#000000;stroke-width:0.8;\" x=\"121.0875\" xlink:href=\"#ma2970a1fd4\" y=\"224.64\"/>\n      </g>\n     </g>\n     <g id=\"text_3\">\n      <!-- 4 -->\n      <g transform=\"translate(117.90625 239.238437)scale(0.1 -0.1)\">\n       <defs>\n        <path d=\"M 37.796875 64.3125 \nL 12.890625 25.390625 \nL 37.796875 25.390625 \nz\nM 35.203125 72.90625 \nL 47.609375 72.90625 \nL 47.609375 25.390625 \nL 58.015625 25.390625 \nL 58.015625 17.1875 \nL 47.609375 17.1875 \nL 47.609375 0 \nL 37.796875 0 \nL 37.796875 17.1875 \nL 4.890625 17.1875 \nL 4.890625 26.703125 \nz\n\" id=\"DejaVuSans-52\"/>\n       </defs>\n       <use xlink:href=\"#DejaVuSans-52\"/>\n      </g>\n     </g>\n    </g>\n    <g id=\"xtick_4\">\n     <g id=\"line2d_4\">\n      <g>\n       <use style=\"stroke:#000000;stroke-width:0.8;\" x=\"162.9375\" xlink:href=\"#ma2970a1fd4\" y=\"224.64\"/>\n      </g>\n     </g>\n     <g id=\"text_4\">\n      <!-- 6 -->\n      <g transform=\"translate(159.75625 239.238437)scale(0.1 -0.1)\">\n       <defs>\n        <path d=\"M 33.015625 40.375 \nQ 26.375 40.375 22.484375 35.828125 \nQ 18.609375 31.296875 18.609375 23.390625 \nQ 18.609375 15.53125 22.484375 10.953125 \nQ 26.375 6.390625 33.015625 6.390625 \nQ 39.65625 6.390625 43.53125 10.953125 \nQ 47.40625 15.53125 47.40625 23.390625 \nQ 47.40625 31.296875 43.53125 35.828125 \nQ 39.65625 40.375 33.015625 40.375 \nz\nM 52.59375 71.296875 \nL 52.59375 62.3125 \nQ 48.875 64.0625 45.09375 64.984375 \nQ 41.3125 65.921875 37.59375 65.921875 \nQ 27.828125 65.921875 22.671875 59.328125 \nQ 17.53125 52.734375 16.796875 39.40625 \nQ 19.671875 43.65625 24.015625 45.921875 \nQ 28.375 48.1875 33.59375 48.1875 \nQ 44.578125 48.1875 50.953125 41.515625 \nQ 57.328125 34.859375 57.328125 23.390625 \nQ 57.328125 12.15625 50.6875 5.359375 \nQ 44.046875 -1.421875 33.015625 -1.421875 \nQ 20.359375 -1.421875 13.671875 8.265625 \nQ 6.984375 17.96875 6.984375 36.375 \nQ 6.984375 53.65625 15.1875 63.9375 \nQ 23.390625 74.21875 37.203125 74.21875 \nQ 40.921875 74.21875 44.703125 73.484375 \nQ 48.484375 72.75 52.59375 71.296875 \nz\n\" id=\"DejaVuSans-54\"/>\n       </defs>\n       <use xlink:href=\"#DejaVuSans-54\"/>\n      </g>\n     </g>\n    </g>\n    <g id=\"xtick_5\">\n     <g id=\"line2d_5\">\n      <g>\n       <use style=\"stroke:#000000;stroke-width:0.8;\" x=\"204.7875\" xlink:href=\"#ma2970a1fd4\" y=\"224.64\"/>\n      </g>\n     </g>\n     <g id=\"text_5\">\n      <!-- 8 -->\n      <g transform=\"translate(201.60625 239.238437)scale(0.1 -0.1)\">\n       <defs>\n        <path d=\"M 31.78125 34.625 \nQ 24.75 34.625 20.71875 30.859375 \nQ 16.703125 27.09375 16.703125 20.515625 \nQ 16.703125 13.921875 20.71875 10.15625 \nQ 24.75 6.390625 31.78125 6.390625 \nQ 38.8125 6.390625 42.859375 10.171875 \nQ 46.921875 13.96875 46.921875 20.515625 \nQ 46.921875 27.09375 42.890625 30.859375 \nQ 38.875 34.625 31.78125 34.625 \nz\nM 21.921875 38.8125 \nQ 15.578125 40.375 12.03125 44.71875 \nQ 8.5 49.078125 8.5 55.328125 \nQ 8.5 64.0625 14.71875 69.140625 \nQ 20.953125 74.21875 31.78125 74.21875 \nQ 42.671875 74.21875 48.875 69.140625 \nQ 55.078125 64.0625 55.078125 55.328125 \nQ 55.078125 49.078125 51.53125 44.71875 \nQ 48 40.375 41.703125 38.8125 \nQ 48.828125 37.15625 52.796875 32.3125 \nQ 56.78125 27.484375 56.78125 20.515625 \nQ 56.78125 9.90625 50.3125 4.234375 \nQ 43.84375 -1.421875 31.78125 -1.421875 \nQ 19.734375 -1.421875 13.25 4.234375 \nQ 6.78125 9.90625 6.78125 20.515625 \nQ 6.78125 27.484375 10.78125 32.3125 \nQ 14.796875 37.15625 21.921875 38.8125 \nz\nM 18.3125 54.390625 \nQ 18.3125 48.734375 21.84375 45.5625 \nQ 25.390625 42.390625 31.78125 42.390625 \nQ 38.140625 42.390625 41.71875 45.5625 \nQ 45.3125 48.734375 45.3125 54.390625 \nQ 45.3125 60.0625 41.71875 63.234375 \nQ 38.140625 66.40625 31.78125 66.40625 \nQ 25.390625 66.40625 21.84375 63.234375 \nQ 18.3125 60.0625 18.3125 54.390625 \nz\n\" id=\"DejaVuSans-56\"/>\n       </defs>\n       <use xlink:href=\"#DejaVuSans-56\"/>\n      </g>\n     </g>\n    </g>\n    <g id=\"xtick_6\">\n     <g id=\"line2d_6\">\n      <g>\n       <use style=\"stroke:#000000;stroke-width:0.8;\" x=\"246.6375\" xlink:href=\"#ma2970a1fd4\" y=\"224.64\"/>\n      </g>\n     </g>\n     <g id=\"text_6\">\n      <!-- 10 -->\n      <g transform=\"translate(240.275 239.238437)scale(0.1 -0.1)\">\n       <defs>\n        <path d=\"M 12.40625 8.296875 \nL 28.515625 8.296875 \nL 28.515625 63.921875 \nL 10.984375 60.40625 \nL 10.984375 69.390625 \nL 28.421875 72.90625 \nL 38.28125 72.90625 \nL 38.28125 8.296875 \nL 54.390625 8.296875 \nL 54.390625 0 \nL 12.40625 0 \nz\n\" id=\"DejaVuSans-49\"/>\n       </defs>\n       <use xlink:href=\"#DejaVuSans-49\"/>\n       <use x=\"63.623047\" xlink:href=\"#DejaVuSans-48\"/>\n      </g>\n     </g>\n    </g>\n    <g id=\"xtick_7\">\n     <g id=\"line2d_7\">\n      <g>\n       <use style=\"stroke:#000000;stroke-width:0.8;\" x=\"288.4875\" xlink:href=\"#ma2970a1fd4\" y=\"224.64\"/>\n      </g>\n     </g>\n     <g id=\"text_7\">\n      <!-- 12 -->\n      <g transform=\"translate(282.125 239.238437)scale(0.1 -0.1)\">\n       <use xlink:href=\"#DejaVuSans-49\"/>\n       <use x=\"63.623047\" xlink:href=\"#DejaVuSans-50\"/>\n      </g>\n     </g>\n    </g>\n    <g id=\"xtick_8\">\n     <g id=\"line2d_8\">\n      <g>\n       <use style=\"stroke:#000000;stroke-width:0.8;\" x=\"330.3375\" xlink:href=\"#ma2970a1fd4\" y=\"224.64\"/>\n      </g>\n     </g>\n     <g id=\"text_8\">\n      <!-- 14 -->\n      <g transform=\"translate(323.975 239.238437)scale(0.1 -0.1)\">\n       <use xlink:href=\"#DejaVuSans-49\"/>\n       <use x=\"63.623047\" xlink:href=\"#DejaVuSans-52\"/>\n      </g>\n     </g>\n    </g>\n   </g>\n   <g id=\"matplotlib.axis_2\">\n    <g id=\"ytick_1\">\n     <g id=\"line2d_9\">\n      <defs>\n       <path d=\"M 0 0 \nL -3.5 0 \n\" id=\"maeb27529f9\" style=\"stroke:#000000;stroke-width:0.8;\"/>\n      </defs>\n      <g>\n       <use style=\"stroke:#000000;stroke-width:0.8;\" x=\"26.925\" xlink:href=\"#maeb27529f9\" y=\"11.73\"/>\n      </g>\n     </g>\n     <g id=\"text_9\">\n      <!-- 0 -->\n      <g transform=\"translate(13.5625 15.529219)scale(0.1 -0.1)\">\n       <use xlink:href=\"#DejaVuSans-48\"/>\n      </g>\n     </g>\n    </g>\n    <g id=\"ytick_2\">\n     <g id=\"line2d_10\">\n      <g>\n       <use style=\"stroke:#000000;stroke-width:0.8;\" x=\"26.925\" xlink:href=\"#maeb27529f9\" y=\"57.03\"/>\n      </g>\n     </g>\n     <g id=\"text_10\">\n      <!-- 5 -->\n      <g transform=\"translate(13.5625 60.829219)scale(0.1 -0.1)\">\n       <defs>\n        <path d=\"M 10.796875 72.90625 \nL 49.515625 72.90625 \nL 49.515625 64.59375 \nL 19.828125 64.59375 \nL 19.828125 46.734375 \nQ 21.96875 47.46875 24.109375 47.828125 \nQ 26.265625 48.1875 28.421875 48.1875 \nQ 40.625 48.1875 47.75 41.5 \nQ 54.890625 34.8125 54.890625 23.390625 \nQ 54.890625 11.625 47.5625 5.09375 \nQ 40.234375 -1.421875 26.90625 -1.421875 \nQ 22.3125 -1.421875 17.546875 -0.640625 \nQ 12.796875 0.140625 7.71875 1.703125 \nL 7.71875 11.625 \nQ 12.109375 9.234375 16.796875 8.0625 \nQ 21.484375 6.890625 26.703125 6.890625 \nQ 35.15625 6.890625 40.078125 11.328125 \nQ 45.015625 15.765625 45.015625 23.390625 \nQ 45.015625 31 40.078125 35.4375 \nQ 35.15625 39.890625 26.703125 39.890625 \nQ 22.75 39.890625 18.8125 39.015625 \nQ 14.890625 38.140625 10.796875 36.28125 \nz\n\" id=\"DejaVuSans-53\"/>\n       </defs>\n       <use xlink:href=\"#DejaVuSans-53\"/>\n      </g>\n     </g>\n    </g>\n    <g id=\"ytick_3\">\n     <g id=\"line2d_11\">\n      <g>\n       <use style=\"stroke:#000000;stroke-width:0.8;\" x=\"26.925\" xlink:href=\"#maeb27529f9\" y=\"102.33\"/>\n      </g>\n     </g>\n     <g id=\"text_11\">\n      <!-- 10 -->\n      <g transform=\"translate(7.2 106.129219)scale(0.1 -0.1)\">\n       <use xlink:href=\"#DejaVuSans-49\"/>\n       <use x=\"63.623047\" xlink:href=\"#DejaVuSans-48\"/>\n      </g>\n     </g>\n    </g>\n    <g id=\"ytick_4\">\n     <g id=\"line2d_12\">\n      <g>\n       <use style=\"stroke:#000000;stroke-width:0.8;\" x=\"26.925\" xlink:href=\"#maeb27529f9\" y=\"147.63\"/>\n      </g>\n     </g>\n     <g id=\"text_12\">\n      <!-- 15 -->\n      <g transform=\"translate(7.2 151.429219)scale(0.1 -0.1)\">\n       <use xlink:href=\"#DejaVuSans-49\"/>\n       <use x=\"63.623047\" xlink:href=\"#DejaVuSans-53\"/>\n      </g>\n     </g>\n    </g>\n    <g id=\"ytick_5\">\n     <g id=\"line2d_13\">\n      <g>\n       <use style=\"stroke:#000000;stroke-width:0.8;\" x=\"26.925\" xlink:href=\"#maeb27529f9\" y=\"192.93\"/>\n      </g>\n     </g>\n     <g id=\"text_13\">\n      <!-- 20 -->\n      <g transform=\"translate(7.2 196.729219)scale(0.1 -0.1)\">\n       <use xlink:href=\"#DejaVuSans-50\"/>\n       <use x=\"63.623047\" xlink:href=\"#DejaVuSans-48\"/>\n      </g>\n     </g>\n    </g>\n   </g>\n   <g id=\"patch_3\">\n    <path d=\"M 26.925 224.64 \nL 26.925 7.2 \n\" style=\"fill:none;stroke:#000000;stroke-linecap:square;stroke-linejoin:miter;stroke-width:0.8;\"/>\n   </g>\n   <g id=\"patch_4\">\n    <path d=\"M 361.725 224.64 \nL 361.725 7.2 \n\" style=\"fill:none;stroke:#000000;stroke-linecap:square;stroke-linejoin:miter;stroke-width:0.8;\"/>\n   </g>\n   <g id=\"patch_5\">\n    <path d=\"M 26.925 224.64 \nL 361.725 224.64 \n\" style=\"fill:none;stroke:#000000;stroke-linecap:square;stroke-linejoin:miter;stroke-width:0.8;\"/>\n   </g>\n   <g id=\"patch_6\">\n    <path d=\"M 26.925 7.2 \nL 361.725 7.2 \n\" style=\"fill:none;stroke:#000000;stroke-linecap:square;stroke-linejoin:miter;stroke-width:0.8;\"/>\n   </g>\n  </g>\n </g>\n <defs>\n  <clipPath id=\"p0408da2993\">\n   <rect height=\"217.44\" width=\"334.8\" x=\"26.925\" y=\"7.2\"/>\n  </clipPath>\n </defs>\n</svg>\n",
      "image/png": "[encoded data removed]"
     },
     "metadata": {
      "needs_background": "light"
     }
    }
   ],
   "source": [
    "# sumpling function\n",
    "source = y_frame[0]\n",
    "new_source = torch.zeros_like(y[\"y_frame\"][0])\n",
    "l_source = 550\n",
    "l_target = 16\n",
    "l_effect = l_source // l_target\n",
    "for i in range(l_target):\n",
    "    t_start = i * l_effect\n",
    "    t_end = (i+1) * l_effect\n",
    "    if i == l_target -1:\n",
    "        t_end = l_source\n",
    "    new_source[i] = source[t_start:t_end].sum(axis=0) / l_effect\n",
    "    new_source[i] = torch.tensor((source[t_start:t_end]>0).any(axis=0), dtype=torch.float)\n",
    "plt.imshow(new_source.T, aspect=\"auto\")"
   ]
  },
  {
   "cell_type": "code",
   "execution_count": 5,
   "metadata": {},
   "outputs": [],
   "source": [
    "columns = [\"recording_id\"] + [f\"s{i}\" for i in range(24)]\n",
    "ground_truth = pd.DataFrame(np.zeros((len(tp_list), 25)), columns=columns)\n",
    "ground_truth[\"recording_id\"] = train_tp[\"recording_id\"].unique()\n",
    "for i, recording_id in enumerate(train_tp[\"recording_id\"].values):\n",
    "    ground_truth.iloc[ground_truth[\"recording_id\"]==recording_id, train_tp.loc[i, \"species_id\"]+1] = 1.0"
   ]
  },
  {
   "cell_type": "code",
   "execution_count": 7,
   "metadata": {
    "tags": []
   },
   "outputs": [
    {
     "output_type": "stream",
     "name": "stdout",
     "text": [
      "torch.Size([64, 128, 512])\ntorch.Size([64, 16, 24])\ntorch.Size([64, 24])\n"
     ]
    }
   ],
   "source": [
    "kfold = MultilabelStratifiedKFold(n_splits=5, shuffle=True, random_state=1)\n",
    "y = ground_truth.iloc[:, 1:].values\n",
    "for i, (train_idx, valid_idx) in enumerate(kfold.split(y, y)):\n",
    "    train_y = ground_truth.iloc[train_idx]\n",
    "    valid_y = ground_truth.iloc[valid_idx]\n",
    "    if i == 0:\n",
    "        break\n",
    "train_dataset = RainForestDataset(\n",
    "    root_dir=\"dump/wave/train\",\n",
    "    train_tp=train_tp,\n",
    "    train_fp=None,\n",
    "    keys=[\"feats\"],\n",
    "    mode=\"tp\",\n",
    "    is_normalize=False,\n",
    "    allow_cache=False,  # keep compatibility\n",
    "    seed=None,\n",
    ")\n",
    "eval_dataset = RainForestDataset(\n",
    "    files=[\n",
    "        os.path.join(\"dump/wave/train\", f\"{recording_id}.h5\")\n",
    "        for recording_id in tp_list[valid_idx]\n",
    "    ],\n",
    "    keys=[\"feats\", \"matrix_tp\"],\n",
    "    mode=\"test\",\n",
    "    is_normalize=False,\n",
    "    allow_cache=False,  # keep compatibility\n",
    "    seed=None,\n",
    "        )\n",
    "\n",
    "train_collater = FeatTrainCollater(\n",
    "    max_frames=512,\n",
    "    l_target=16,\n",
    "    mode=\"binary\",\n",
    ")\n",
    "eval_collater = FeatEvalCollater(\n",
    "    max_frames=512,\n",
    "    n_split=3,\n",
    "    is_label=True,\n",
    ")\n",
    "data_loader = {\n",
    "\"train\": DataLoader(\n",
    "        dataset=train_dataset,\n",
    "        batch_size=64,\n",
    "        collate_fn=train_collater,\n",
    "        shuffle=False,\n",
    "        num_workers=2,\n",
    "        pin_memory=False,\n",
    "    ),\n",
    "\"eval\": DataLoader(\n",
    "        eval_dataset,\n",
    "        batch_size=64,\n",
    "        shuffle=False,\n",
    "        collate_fn=eval_collater,\n",
    "        num_workers=2,\n",
    "        pin_memory=False,\n",
    "    ),\n",
    "}\n",
    "clip_list = []\n",
    "for i, batch in enumerate(data_loader[\"train\"]):\n",
    "    x = batch[\"X\"]\n",
    "    y_frame = batch[\"y_frame\"]\n",
    "    y_clip = batch[\"y_clip\"]\n",
    "    clip_list.append(y_clip)\n",
    "    print(x.shape)\n",
    "    print(y_frame.shape)\n",
    "    print(y_clip.shape)\n",
    "    if i == 0:\n",
    "        break"
   ]
  },
  {
   "cell_type": "code",
   "execution_count": 73,
   "metadata": {},
   "outputs": [
    {
     "output_type": "stream",
     "name": "stdout",
     "text": [
      "tensor(71.8454)\n"
     ]
    }
   ],
   "source": [
    "x1 = []\n",
    "y1_clip = []\n",
    "beginnings1 = []\n",
    "for i, batch in enumerate(data_loader[\"train\"]):\n",
    "    x1.append(batch[\"X\"])\n",
    "    y1_clip.append(batch[\"y_clip\"])\n",
    "    beginnings1.append(batch[\"beginnings\"])\n",
    "    if i == 0:\n",
    "        break\n",
    "x2 = []\n",
    "y2_clip = []\n",
    "beginnings2 = []\n",
    "for i, batch in enumerate(data_loader[\"train\"]):\n",
    "    x2.append(batch[\"X\"])\n",
    "    y2_clip.append(batch[\"y_clip\"])\n",
    "    beginnings2.append(batch[\"beginnings\"])\n",
    "    if i == 0:\n",
    "        break\n",
    "xx1 = torch.cat(x1, dim=0)\n",
    "xx2 = torch.cat(x2, dim=0)\n",
    "yy1_clip = torch.cat(y1_clip, dim=0)\n",
    "yy2_clip = torch.cat(y2_clip, dim=0)\n",
    "ans = xx1 - xx2\n",
    "print(ans.sum())"
   ]
  },
  {
   "cell_type": "code",
   "execution_count": 10,
   "metadata": {},
   "outputs": [],
   "source": [
    "x1 = []\n",
    "y1_clip = []\n",
    "for i, batch in enumerate(data_loader[\"train\"]):\n",
    "    x1.append(batch[\"X\"])\n",
    "    y1_clip.append(batch[\"y_clip\"])\n",
    "x2 = []\n",
    "y2_clip = []\n",
    "for i, batch in enumerate(data_loader[\"train\"]):\n",
    "    x2.append(batch[\"X\"])\n",
    "    y2_clip.append(batch[\"y_clip\"])\n"
   ]
  },
  {
   "cell_type": "code",
   "execution_count": 12,
   "metadata": {},
   "outputs": [
    {
     "output_type": "stream",
     "name": "stdout",
     "text": [
      "tensor(0.)\n"
     ]
    }
   ],
   "source": [
    "xx1 = torch.cat(x1, dim=0)\n",
    "xx2 = torch.cat(x2, dim=0)\n",
    "yy1_clip = torch.cat(y1_clip, dim=0)\n",
    "yy2_clip = torch.cat(y2_clip, dim=0)\n",
    "ans = xx1 - xx2\n",
    "print(ans.sum())"
   ]
  },
  {
   "cell_type": "code",
   "execution_count": 13,
   "metadata": {},
   "outputs": [
    {
     "output_type": "execute_result",
     "data": {
      "text/plain": [
       "torch.Size([1132, 128, 512])"
      ]
     },
     "metadata": {},
     "execution_count": 13
    }
   ],
   "source": [
    "xx1.shape"
   ]
  },
  {
   "cell_type": "code",
   "execution_count": 34,
   "metadata": {},
   "outputs": [
    {
     "output_type": "stream",
     "name": "stdout",
     "text": [
      "score:0.157265\n"
     ]
    }
   ],
   "source": [
    "mode = \"valid\"\n",
    "n_eval_split = 3\n",
    "device = \"cpu\"\n",
    "n_class = 24\n",
    "l_spec = 16\n",
    "keys_list = [f\"X{i}\" for i in range(n_eval_split)]\n",
    "y_clip = [\n",
    "    torch.empty((0, n_class)).to(device)\n",
    "    for _ in range(n_eval_split)\n",
    "]\n",
    "y_frame = [\n",
    "    torch.empty((0, l_spec, n_class)).to(device)\n",
    "    for _ in range(n_eval_split)\n",
    "]\n",
    "y_clip_true = torch.empty((0, n_class))\n",
    "model.eval()\n",
    "with torch.no_grad():\n",
    "    for batch in data_loader[\"eval\"]:\n",
    "        if mode == \"valid\":\n",
    "            y_clip_true = torch.cat([y_clip_true, batch[\"y_clip\"]], dim=0)\n",
    "        x_batchs = [batch[key].to(device) for key in keys_list]\n",
    "        for i in range(n_eval_split):\n",
    "            y_batch_ = model(x_batchs[i])\n",
    "            y_clip[i] = torch.cat([y_clip[i], y_batch_[\"y_clip\"]], dim=0)\n",
    "            y_frame[i] = torch.cat([y_frame[i], y_batch_[\"y_frame\"]], dim=0)\n",
    "# (B, n_eval_split, n_class)\n",
    "y_clip = torch.stack(y_clip, dim=0).detach().cpu().numpy()\n",
    "# (B, n_eval_split, T, n_class)\n",
    "y_frame = torch.stack(y_frame, dim=0).detach().cpu().numpy()\n",
    "if mode == \"valid\":\n",
    "    y_clip_true = y_clip_true.numpy()\n",
    "    score = lwlrap(y_clip_true, y_clip.max(axis=0))\n",
    "    print(f\"score:{score:.6f}\")\n"
   ]
  },
  {
   "cell_type": "code",
   "execution_count": 4,
   "metadata": {},
   "outputs": [
    {
     "output_type": "stream",
     "name": "stdout",
     "text": [
      "(1132, 20, 24) (1132, 20, 16, 24)\n"
     ]
    }
   ],
   "source": [
    "ground_truth = pd.read_csv(\"../input/rfcx-species-audio-detection/ground_truth.csv\")\n",
    "oof_path = \"exp/wave/Cnn14_DecisionLevelAtt/v002-clip065/best_score/oof.h5\"\n",
    "y_clip = read_hdf5(oof_path, \"y_clip\")\n",
    "y_frame = read_hdf5(oof_path, \"y_frame\")\n",
    "print(y_clip.shape, y_frame.shape)"
   ]
  },
  {
   "cell_type": "code",
   "execution_count": 10,
   "metadata": {},
   "outputs": [],
   "source": [
    "idx = 3\n",
    "recording_id = ground_truth.loc[idx, \"recording_id\"]\n",
    "dump_path = f\"dump/wave/train/{recording_id}.h5\"\n",
    "idx_matrix = read_hdf5(dump_path, \"matrix_tp\")\n",
    "ground_truth_frame = get_down_sample_matrix(idx_matrix, l_target=16, max_frames=512, n_eval_split=20)\n",
    "concat_y_frame = get_concat_down_frame(y_frame[idx], l_original=5626, max_frames=512)\n",
    "concat_ground_truth = get_concat_down_frame(ground_truth_frame, l_original=5626, max_frames=512)"
   ]
  },
  {
   "cell_type": "code",
   "execution_count": 11,
   "metadata": {},
   "outputs": [
    {
     "output_type": "execute_result",
     "data": {
      "text/plain": [
       "<matplotlib.image.AxesImage at 0x7f423ba3d7b8>"
      ]
     },
     "metadata": {},
     "execution_count": 11
    },
    {
     "output_type": "display_data",
     "data": {
      "text/plain": "<Figure size 1152x576 with 4 Axes>",
      "image/svg+xml": "<?xml version=\"1.0\" encoding=\"utf-8\" standalone=\"no\"?>\n<!DOCTYPE svg PUBLIC \"-//W3C//DTD SVG 1.1//EN\"\n  \"http://www.w3.org/Graphics/SVG/1.1/DTD/svg11.dtd\">\n<!-- Created with matplotlib (https://matplotlib.org/) -->\n<svg height=\"481.07625pt\" version=\"1.1\" viewBox=\"0 0 926.925 481.07625\" width=\"926.925pt\" xmlns=\"http://www.w3.org/2000/svg\" xmlns:xlink=\"http://www.w3.org/1999/xlink\">\n <metadata>\n  <rdf:RDF xmlns:cc=\"http://creativecommons.org/ns#\" xmlns:dc=\"http://purl.org/dc/elements/1.1/\" xmlns:rdf=\"http://www.w3.org/1999/02/22-rdf-syntax-ns#\">\n   <cc:Work>\n    <dc:type rdf:resource=\"http://purl.org/dc/dcmitype/StillImage\"/>\n    <dc:date>2020-12-22T15:51:14.874446</dc:date>\n    <dc:format>image/svg+xml</dc:format>\n    <dc:creator>\n     <cc:Agent>\n      <dc:title>Matplotlib v3.3.3, https://matplotlib.org/</dc:title>\n     </cc:Agent>\n    </dc:creator>\n   </cc:Work>\n  </rdf:RDF>\n </metadata>\n <defs>\n  <style type=\"text/css\">*{stroke-linecap:butt;stroke-linejoin:round;}</style>\n </defs>\n <g id=\"figure_1\">\n  <g id=\"patch_1\">\n   <path d=\"M 0 481.07625 \nL 926.925 481.07625 \nL 926.925 0 \nL 0 0 \nz\n\" style=\"fill:none;\"/>\n  </g>\n  <g id=\"axes_1\">\n   <g id=\"patch_2\">\n    <path d=\"M 26.925 116.857255 \nL 919.725 116.857255 \nL 919.725 22.318125 \nL 26.925 22.318125 \nz\n\" style=\"fill:#ffffff;\"/>\n   </g>\n   <g clip-path=\"url(#p5d2462afc0)\">\n    <image height=\"95\" id=\"image302332b7d9\" transform=\"scale(1 -1)translate(0 -95)\" width=\"893\" x=\"26.925\" xlink:href=\"data:image/png;base64,\niVBORw0KGgoAAAANSUhEUgAAA30AAABfCAYAAABcBq4ZAAADBklEQVR4nO3dvY5NYRiG4W/t8RMdkRE/hYJGp6HRSmh0Oq2zcTxOQERGRINGQqUYBULMCDEz2xHorKyd23UdwfOWd/VOt6f76wEAAEDSaukBAAAAzEf0AQAAhIk+AACAMNEHAAAQJvoAAADCRB8AAECY6AMAAAgTfQAAAGGiDwAAIEz0AQAAhIk+AACAMNEHAAAQJvoAAADCRB8AAECY6AMAAAgTfQAAAGGiDwAAIEz0AQAAhIk+AACAMNEHAAAQJvoAAADCji09AAAAmNfW9vaYThxfesZsjr5+G0f7+0vP2FiiDwAAyqZpfL57dfy4MC29ZDYXn+yNsfNq6RkbS/QBAEDZtBqf7vwc9669XnrJbJ5+uTHO7iy9YnOJPgAACJtW07h15f14dP750lNmc/3czaUnbDTRBwAAcR/2zoyXv5ZeMZ+t8G3/gugDAICw9eHh2H12aTz4+HDpKbO59O5g6QkbTfQBAEDZej0uP/4+fp8+ufSS2Zx6uztk39+JPgAAqHvxZnQfNoxxsF4vPWGjiT4AAKgTRf+11dIDAAAAmI/oAwAACBN9AAAAYaIPAAAgTPQBAACEiT4AAIAw0QcAABAm+gAAAMJEHwAAQJjoAwAACBN9AAAAYaIPAAAgTPQBAACEiT4AAIAw0QcAABAm+gAAAMJEHwAAQJjoAwAACBN9AAAAYaIPAAAgTPQBAACEiT4AAIAw0QcAABAm+gAAAMJEHwAAQJjoAwAACBN9AAAAYaIPAAAgTPQBAACEiT4AAIAw0QcAABAm+gAAAMJEHwAAQJjoAwAACBN9AAAAYaIPAAAgTPQBAACEiT4AAIAw0QcAABAm+gAAAMJEHwAAQJjoAwAACBN9AAAAYaIPAAAgTPQBAACEiT4AAIAw0QcAABAm+gAAAMJEHwAAQJjoAwAACBN9AAAAYaIPAAAgTPQBAACEiT4AAIAw0QcAABAm+gAAAMJEHwAAQJjoAwAACBN9AAAAYaIPAAAgTPQBAACEiT4AAIAw0QcAABAm+gAAAML+AAepMtpCrsQIAAAAAElFTkSuQmCC\" y=\"-21.857255\"/>\n   </g>\n   <g id=\"matplotlib.axis_1\">\n    <g id=\"xtick_1\">\n     <g id=\"line2d_1\">\n      <defs>\n       <path d=\"M 0 0 \nL 0 3.5 \n\" id=\"macae82caa7\" style=\"stroke:#000000;stroke-width:0.8;\"/>\n      </defs>\n      <g>\n       <use style=\"stroke:#000000;stroke-width:0.8;\" x=\"27.004346\" xlink:href=\"#macae82caa7\" y=\"116.857255\"/>\n      </g>\n     </g>\n     <g id=\"text_1\">\n      <!-- 0 -->\n      <g transform=\"translate(23.823096 131.455693)scale(0.1 -0.1)\">\n       <defs>\n        <path d=\"M 31.78125 66.40625 \nQ 24.171875 66.40625 20.328125 58.90625 \nQ 16.5 51.421875 16.5 36.375 \nQ 16.5 21.390625 20.328125 13.890625 \nQ 24.171875 6.390625 31.78125 6.390625 \nQ 39.453125 6.390625 43.28125 13.890625 \nQ 47.125 21.390625 47.125 36.375 \nQ 47.125 51.421875 43.28125 58.90625 \nQ 39.453125 66.40625 31.78125 66.40625 \nz\nM 31.78125 74.21875 \nQ 44.046875 74.21875 50.515625 64.515625 \nQ 56.984375 54.828125 56.984375 36.375 \nQ 56.984375 17.96875 50.515625 8.265625 \nQ 44.046875 -1.421875 31.78125 -1.421875 \nQ 19.53125 -1.421875 13.0625 8.265625 \nQ 6.59375 17.96875 6.59375 36.375 \nQ 6.59375 54.828125 13.0625 64.515625 \nQ 19.53125 74.21875 31.78125 74.21875 \nz\n\" id=\"DejaVuSans-48\"/>\n       </defs>\n       <use xlink:href=\"#DejaVuSans-48\"/>\n      </g>\n     </g>\n    </g>\n    <g id=\"xtick_2\">\n     <g id=\"line2d_2\">\n      <g>\n       <use style=\"stroke:#000000;stroke-width:0.8;\" x=\"185.696134\" xlink:href=\"#macae82caa7\" y=\"116.857255\"/>\n      </g>\n     </g>\n     <g id=\"text_2\">\n      <!-- 1000 -->\n      <g transform=\"translate(172.971134 131.455693)scale(0.1 -0.1)\">\n       <defs>\n        <path d=\"M 12.40625 8.296875 \nL 28.515625 8.296875 \nL 28.515625 63.921875 \nL 10.984375 60.40625 \nL 10.984375 69.390625 \nL 28.421875 72.90625 \nL 38.28125 72.90625 \nL 38.28125 8.296875 \nL 54.390625 8.296875 \nL 54.390625 0 \nL 12.40625 0 \nz\n\" id=\"DejaVuSans-49\"/>\n       </defs>\n       <use xlink:href=\"#DejaVuSans-49\"/>\n       <use x=\"63.623047\" xlink:href=\"#DejaVuSans-48\"/>\n       <use x=\"127.246094\" xlink:href=\"#DejaVuSans-48\"/>\n       <use x=\"190.869141\" xlink:href=\"#DejaVuSans-48\"/>\n      </g>\n     </g>\n    </g>\n    <g id=\"xtick_3\">\n     <g id=\"line2d_3\">\n      <g>\n       <use style=\"stroke:#000000;stroke-width:0.8;\" x=\"344.387922\" xlink:href=\"#macae82caa7\" y=\"116.857255\"/>\n      </g>\n     </g>\n     <g id=\"text_3\">\n      <!-- 2000 -->\n      <g transform=\"translate(331.662922 131.455693)scale(0.1 -0.1)\">\n       <defs>\n        <path d=\"M 19.1875 8.296875 \nL 53.609375 8.296875 \nL 53.609375 0 \nL 7.328125 0 \nL 7.328125 8.296875 \nQ 12.9375 14.109375 22.625 23.890625 \nQ 32.328125 33.6875 34.8125 36.53125 \nQ 39.546875 41.84375 41.421875 45.53125 \nQ 43.3125 49.21875 43.3125 52.78125 \nQ 43.3125 58.59375 39.234375 62.25 \nQ 35.15625 65.921875 28.609375 65.921875 \nQ 23.96875 65.921875 18.8125 64.3125 \nQ 13.671875 62.703125 7.8125 59.421875 \nL 7.8125 69.390625 \nQ 13.765625 71.78125 18.9375 73 \nQ 24.125 74.21875 28.421875 74.21875 \nQ 39.75 74.21875 46.484375 68.546875 \nQ 53.21875 62.890625 53.21875 53.421875 \nQ 53.21875 48.921875 51.53125 44.890625 \nQ 49.859375 40.875 45.40625 35.40625 \nQ 44.1875 33.984375 37.640625 27.21875 \nQ 31.109375 20.453125 19.1875 8.296875 \nz\n\" id=\"DejaVuSans-50\"/>\n       </defs>\n       <use xlink:href=\"#DejaVuSans-50\"/>\n       <use x=\"63.623047\" xlink:href=\"#DejaVuSans-48\"/>\n       <use x=\"127.246094\" xlink:href=\"#DejaVuSans-48\"/>\n       <use x=\"190.869141\" xlink:href=\"#DejaVuSans-48\"/>\n      </g>\n     </g>\n    </g>\n    <g id=\"xtick_4\">\n     <g id=\"line2d_4\">\n      <g>\n       <use style=\"stroke:#000000;stroke-width:0.8;\" x=\"503.07971\" xlink:href=\"#macae82caa7\" y=\"116.857255\"/>\n      </g>\n     </g>\n     <g id=\"text_4\">\n      <!-- 3000 -->\n      <g transform=\"translate(490.35471 131.455693)scale(0.1 -0.1)\">\n       <defs>\n        <path d=\"M 40.578125 39.3125 \nQ 47.65625 37.796875 51.625 33 \nQ 55.609375 28.21875 55.609375 21.1875 \nQ 55.609375 10.40625 48.1875 4.484375 \nQ 40.765625 -1.421875 27.09375 -1.421875 \nQ 22.515625 -1.421875 17.65625 -0.515625 \nQ 12.796875 0.390625 7.625 2.203125 \nL 7.625 11.71875 \nQ 11.71875 9.328125 16.59375 8.109375 \nQ 21.484375 6.890625 26.8125 6.890625 \nQ 36.078125 6.890625 40.9375 10.546875 \nQ 45.796875 14.203125 45.796875 21.1875 \nQ 45.796875 27.640625 41.28125 31.265625 \nQ 36.765625 34.90625 28.71875 34.90625 \nL 20.21875 34.90625 \nL 20.21875 43.015625 \nL 29.109375 43.015625 \nQ 36.375 43.015625 40.234375 45.921875 \nQ 44.09375 48.828125 44.09375 54.296875 \nQ 44.09375 59.90625 40.109375 62.90625 \nQ 36.140625 65.921875 28.71875 65.921875 \nQ 24.65625 65.921875 20.015625 65.03125 \nQ 15.375 64.15625 9.8125 62.3125 \nL 9.8125 71.09375 \nQ 15.4375 72.65625 20.34375 73.4375 \nQ 25.25 74.21875 29.59375 74.21875 \nQ 40.828125 74.21875 47.359375 69.109375 \nQ 53.90625 64.015625 53.90625 55.328125 \nQ 53.90625 49.265625 50.4375 45.09375 \nQ 46.96875 40.921875 40.578125 39.3125 \nz\n\" id=\"DejaVuSans-51\"/>\n       </defs>\n       <use xlink:href=\"#DejaVuSans-51\"/>\n       <use x=\"63.623047\" xlink:href=\"#DejaVuSans-48\"/>\n       <use x=\"127.246094\" xlink:href=\"#DejaVuSans-48\"/>\n       <use x=\"190.869141\" xlink:href=\"#DejaVuSans-48\"/>\n      </g>\n     </g>\n    </g>\n    <g id=\"xtick_5\">\n     <g id=\"line2d_5\">\n      <g>\n       <use style=\"stroke:#000000;stroke-width:0.8;\" x=\"661.771498\" xlink:href=\"#macae82caa7\" y=\"116.857255\"/>\n      </g>\n     </g>\n     <g id=\"text_5\">\n      <!-- 4000 -->\n      <g transform=\"translate(649.046498 131.455693)scale(0.1 -0.1)\">\n       <defs>\n        <path d=\"M 37.796875 64.3125 \nL 12.890625 25.390625 \nL 37.796875 25.390625 \nz\nM 35.203125 72.90625 \nL 47.609375 72.90625 \nL 47.609375 25.390625 \nL 58.015625 25.390625 \nL 58.015625 17.1875 \nL 47.609375 17.1875 \nL 47.609375 0 \nL 37.796875 0 \nL 37.796875 17.1875 \nL 4.890625 17.1875 \nL 4.890625 26.703125 \nz\n\" id=\"DejaVuSans-52\"/>\n       </defs>\n       <use xlink:href=\"#DejaVuSans-52\"/>\n       <use x=\"63.623047\" xlink:href=\"#DejaVuSans-48\"/>\n       <use x=\"127.246094\" xlink:href=\"#DejaVuSans-48\"/>\n       <use x=\"190.869141\" xlink:href=\"#DejaVuSans-48\"/>\n      </g>\n     </g>\n    </g>\n    <g id=\"xtick_6\">\n     <g id=\"line2d_6\">\n      <g>\n       <use style=\"stroke:#000000;stroke-width:0.8;\" x=\"820.463287\" xlink:href=\"#macae82caa7\" y=\"116.857255\"/>\n      </g>\n     </g>\n     <g id=\"text_6\">\n      <!-- 5000 -->\n      <g transform=\"translate(807.738287 131.455693)scale(0.1 -0.1)\">\n       <defs>\n        <path d=\"M 10.796875 72.90625 \nL 49.515625 72.90625 \nL 49.515625 64.59375 \nL 19.828125 64.59375 \nL 19.828125 46.734375 \nQ 21.96875 47.46875 24.109375 47.828125 \nQ 26.265625 48.1875 28.421875 48.1875 \nQ 40.625 48.1875 47.75 41.5 \nQ 54.890625 34.8125 54.890625 23.390625 \nQ 54.890625 11.625 47.5625 5.09375 \nQ 40.234375 -1.421875 26.90625 -1.421875 \nQ 22.3125 -1.421875 17.546875 -0.640625 \nQ 12.796875 0.140625 7.71875 1.703125 \nL 7.71875 11.625 \nQ 12.109375 9.234375 16.796875 8.0625 \nQ 21.484375 6.890625 26.703125 6.890625 \nQ 35.15625 6.890625 40.078125 11.328125 \nQ 45.015625 15.765625 45.015625 23.390625 \nQ 45.015625 31 40.078125 35.4375 \nQ 35.15625 39.890625 26.703125 39.890625 \nQ 22.75 39.890625 18.8125 39.015625 \nQ 14.890625 38.140625 10.796875 36.28125 \nz\n\" id=\"DejaVuSans-53\"/>\n       </defs>\n       <use xlink:href=\"#DejaVuSans-53\"/>\n       <use x=\"63.623047\" xlink:href=\"#DejaVuSans-48\"/>\n       <use x=\"127.246094\" xlink:href=\"#DejaVuSans-48\"/>\n       <use x=\"190.869141\" xlink:href=\"#DejaVuSans-48\"/>\n      </g>\n     </g>\n    </g>\n   </g>\n   <g id=\"matplotlib.axis_2\">\n    <g id=\"ytick_1\">\n     <g id=\"line2d_7\">\n      <defs>\n       <path d=\"M 0 0 \nL -3.5 0 \n\" id=\"m6325976c6a\" style=\"stroke:#000000;stroke-width:0.8;\"/>\n      </defs>\n      <g>\n       <use style=\"stroke:#000000;stroke-width:0.8;\" x=\"26.925\" xlink:href=\"#m6325976c6a\" y=\"24.28769\"/>\n      </g>\n     </g>\n     <g id=\"text_7\">\n      <!-- 0 -->\n      <g transform=\"translate(13.5625 28.086909)scale(0.1 -0.1)\">\n       <use xlink:href=\"#DejaVuSans-48\"/>\n      </g>\n     </g>\n    </g>\n    <g id=\"ytick_2\">\n     <g id=\"line2d_8\">\n      <g>\n       <use style=\"stroke:#000000;stroke-width:0.8;\" x=\"26.925\" xlink:href=\"#m6325976c6a\" y=\"63.678995\"/>\n      </g>\n     </g>\n     <g id=\"text_8\">\n      <!-- 10 -->\n      <g transform=\"translate(7.2 67.478213)scale(0.1 -0.1)\">\n       <use xlink:href=\"#DejaVuSans-49\"/>\n       <use x=\"63.623047\" xlink:href=\"#DejaVuSans-48\"/>\n      </g>\n     </g>\n    </g>\n    <g id=\"ytick_3\">\n     <g id=\"line2d_9\">\n      <g>\n       <use style=\"stroke:#000000;stroke-width:0.8;\" x=\"26.925\" xlink:href=\"#m6325976c6a\" y=\"103.070299\"/>\n      </g>\n     </g>\n     <g id=\"text_9\">\n      <!-- 20 -->\n      <g transform=\"translate(7.2 106.869518)scale(0.1 -0.1)\">\n       <use xlink:href=\"#DejaVuSans-50\"/>\n       <use x=\"63.623047\" xlink:href=\"#DejaVuSans-48\"/>\n      </g>\n     </g>\n    </g>\n   </g>\n   <g id=\"patch_3\">\n    <path d=\"M 26.925 116.857255 \nL 26.925 22.318125 \n\" style=\"fill:none;stroke:#000000;stroke-linecap:square;stroke-linejoin:miter;stroke-width:0.8;\"/>\n   </g>\n   <g id=\"patch_4\">\n    <path d=\"M 919.725 116.857255 \nL 919.725 22.318125 \n\" style=\"fill:none;stroke:#000000;stroke-linecap:square;stroke-linejoin:miter;stroke-width:0.8;\"/>\n   </g>\n   <g id=\"patch_5\">\n    <path d=\"M 26.925 116.857255 \nL 919.725 116.857255 \n\" style=\"fill:none;stroke:#000000;stroke-linecap:square;stroke-linejoin:miter;stroke-width:0.8;\"/>\n   </g>\n   <g id=\"patch_6\">\n    <path d=\"M 26.925 22.318125 \nL 919.725 22.318125 \n\" style=\"fill:none;stroke:#000000;stroke-linecap:square;stroke-linejoin:miter;stroke-width:0.8;\"/>\n   </g>\n   <g id=\"text_10\">\n    <!-- Original -->\n    <g transform=\"translate(449.84625 16.318125)scale(0.12 -0.12)\">\n     <defs>\n      <path d=\"M 39.40625 66.21875 \nQ 28.65625 66.21875 22.328125 58.203125 \nQ 16.015625 50.203125 16.015625 36.375 \nQ 16.015625 22.609375 22.328125 14.59375 \nQ 28.65625 6.59375 39.40625 6.59375 \nQ 50.140625 6.59375 56.421875 14.59375 \nQ 62.703125 22.609375 62.703125 36.375 \nQ 62.703125 50.203125 56.421875 58.203125 \nQ 50.140625 66.21875 39.40625 66.21875 \nz\nM 39.40625 74.21875 \nQ 54.734375 74.21875 63.90625 63.9375 \nQ 73.09375 53.65625 73.09375 36.375 \nQ 73.09375 19.140625 63.90625 8.859375 \nQ 54.734375 -1.421875 39.40625 -1.421875 \nQ 24.03125 -1.421875 14.8125 8.828125 \nQ 5.609375 19.09375 5.609375 36.375 \nQ 5.609375 53.65625 14.8125 63.9375 \nQ 24.03125 74.21875 39.40625 74.21875 \nz\n\" id=\"DejaVuSans-79\"/>\n      <path d=\"M 41.109375 46.296875 \nQ 39.59375 47.171875 37.8125 47.578125 \nQ 36.03125 48 33.890625 48 \nQ 26.265625 48 22.1875 43.046875 \nQ 18.109375 38.09375 18.109375 28.8125 \nL 18.109375 0 \nL 9.078125 0 \nL 9.078125 54.6875 \nL 18.109375 54.6875 \nL 18.109375 46.1875 \nQ 20.953125 51.171875 25.484375 53.578125 \nQ 30.03125 56 36.53125 56 \nQ 37.453125 56 38.578125 55.875 \nQ 39.703125 55.765625 41.0625 55.515625 \nz\n\" id=\"DejaVuSans-114\"/>\n      <path d=\"M 9.421875 54.6875 \nL 18.40625 54.6875 \nL 18.40625 0 \nL 9.421875 0 \nz\nM 9.421875 75.984375 \nL 18.40625 75.984375 \nL 18.40625 64.59375 \nL 9.421875 64.59375 \nz\n\" id=\"DejaVuSans-105\"/>\n      <path d=\"M 45.40625 27.984375 \nQ 45.40625 37.75 41.375 43.109375 \nQ 37.359375 48.484375 30.078125 48.484375 \nQ 22.859375 48.484375 18.828125 43.109375 \nQ 14.796875 37.75 14.796875 27.984375 \nQ 14.796875 18.265625 18.828125 12.890625 \nQ 22.859375 7.515625 30.078125 7.515625 \nQ 37.359375 7.515625 41.375 12.890625 \nQ 45.40625 18.265625 45.40625 27.984375 \nz\nM 54.390625 6.78125 \nQ 54.390625 -7.171875 48.1875 -13.984375 \nQ 42 -20.796875 29.203125 -20.796875 \nQ 24.46875 -20.796875 20.265625 -20.09375 \nQ 16.0625 -19.390625 12.109375 -17.921875 \nL 12.109375 -9.1875 \nQ 16.0625 -11.328125 19.921875 -12.34375 \nQ 23.78125 -13.375 27.78125 -13.375 \nQ 36.625 -13.375 41.015625 -8.765625 \nQ 45.40625 -4.15625 45.40625 5.171875 \nL 45.40625 9.625 \nQ 42.625 4.78125 38.28125 2.390625 \nQ 33.9375 0 27.875 0 \nQ 17.828125 0 11.671875 7.65625 \nQ 5.515625 15.328125 5.515625 27.984375 \nQ 5.515625 40.671875 11.671875 48.328125 \nQ 17.828125 56 27.875 56 \nQ 33.9375 56 38.28125 53.609375 \nQ 42.625 51.21875 45.40625 46.390625 \nL 45.40625 54.6875 \nL 54.390625 54.6875 \nz\n\" id=\"DejaVuSans-103\"/>\n      <path d=\"M 54.890625 33.015625 \nL 54.890625 0 \nL 45.90625 0 \nL 45.90625 32.71875 \nQ 45.90625 40.484375 42.875 44.328125 \nQ 39.84375 48.1875 33.796875 48.1875 \nQ 26.515625 48.1875 22.3125 43.546875 \nQ 18.109375 38.921875 18.109375 30.90625 \nL 18.109375 0 \nL 9.078125 0 \nL 9.078125 54.6875 \nL 18.109375 54.6875 \nL 18.109375 46.1875 \nQ 21.34375 51.125 25.703125 53.5625 \nQ 30.078125 56 35.796875 56 \nQ 45.21875 56 50.046875 50.171875 \nQ 54.890625 44.34375 54.890625 33.015625 \nz\n\" id=\"DejaVuSans-110\"/>\n      <path d=\"M 34.28125 27.484375 \nQ 23.390625 27.484375 19.1875 25 \nQ 14.984375 22.515625 14.984375 16.5 \nQ 14.984375 11.71875 18.140625 8.90625 \nQ 21.296875 6.109375 26.703125 6.109375 \nQ 34.1875 6.109375 38.703125 11.40625 \nQ 43.21875 16.703125 43.21875 25.484375 \nL 43.21875 27.484375 \nz\nM 52.203125 31.203125 \nL 52.203125 0 \nL 43.21875 0 \nL 43.21875 8.296875 \nQ 40.140625 3.328125 35.546875 0.953125 \nQ 30.953125 -1.421875 24.3125 -1.421875 \nQ 15.921875 -1.421875 10.953125 3.296875 \nQ 6 8.015625 6 15.921875 \nQ 6 25.140625 12.171875 29.828125 \nQ 18.359375 34.515625 30.609375 34.515625 \nL 43.21875 34.515625 \nL 43.21875 35.40625 \nQ 43.21875 41.609375 39.140625 45 \nQ 35.0625 48.390625 27.6875 48.390625 \nQ 23 48.390625 18.546875 47.265625 \nQ 14.109375 46.140625 10.015625 43.890625 \nL 10.015625 52.203125 \nQ 14.9375 54.109375 19.578125 55.046875 \nQ 24.21875 56 28.609375 56 \nQ 40.484375 56 46.34375 49.84375 \nQ 52.203125 43.703125 52.203125 31.203125 \nz\n\" id=\"DejaVuSans-97\"/>\n      <path d=\"M 9.421875 75.984375 \nL 18.40625 75.984375 \nL 18.40625 0 \nL 9.421875 0 \nz\n\" id=\"DejaVuSans-108\"/>\n     </defs>\n     <use xlink:href=\"#DejaVuSans-79\"/>\n     <use x=\"78.710938\" xlink:href=\"#DejaVuSans-114\"/>\n     <use x=\"119.824219\" xlink:href=\"#DejaVuSans-105\"/>\n     <use x=\"147.607422\" xlink:href=\"#DejaVuSans-103\"/>\n     <use x=\"211.083984\" xlink:href=\"#DejaVuSans-105\"/>\n     <use x=\"238.867188\" xlink:href=\"#DejaVuSans-110\"/>\n     <use x=\"302.246094\" xlink:href=\"#DejaVuSans-97\"/>\n     <use x=\"363.525391\" xlink:href=\"#DejaVuSans-108\"/>\n    </g>\n   </g>\n  </g>\n  <g id=\"axes_2\">\n   <g id=\"patch_7\">\n    <path d=\"M 26.925 230.304212 \nL 919.725 230.304212 \nL 919.725 135.765082 \nL 26.925 135.765082 \nz\n\" style=\"fill:#ffffff;\"/>\n   </g>\n   <g clip-path=\"url(#p5b655a4756)\">\n    <image height=\"95\" id=\"imagec46798b9d0\" transform=\"scale(1 -1)translate(0 -95)\" width=\"893\" x=\"26.925\" xlink:href=\"data:image/png;base64,\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\" y=\"-135.304212\"/>\n   </g>\n   <g id=\"matplotlib.axis_3\">\n    <g id=\"xtick_7\">\n     <g id=\"line2d_10\">\n      <g>\n       <use style=\"stroke:#000000;stroke-width:0.8;\" x=\"49.245\" xlink:href=\"#macae82caa7\" y=\"230.304212\"/>\n      </g>\n     </g>\n     <g id=\"text_11\">\n      <!-- 0.0 -->\n      <g transform=\"translate(41.293438 244.902649)scale(0.1 -0.1)\">\n       <defs>\n        <path d=\"M 10.6875 12.40625 \nL 21 12.40625 \nL 21 0 \nL 10.6875 0 \nz\n\" id=\"DejaVuSans-46\"/>\n       </defs>\n       <use xlink:href=\"#DejaVuSans-48\"/>\n       <use x=\"63.623047\" xlink:href=\"#DejaVuSans-46\"/>\n       <use x=\"95.410156\" xlink:href=\"#DejaVuSans-48\"/>\n      </g>\n     </g>\n    </g>\n    <g id=\"xtick_8\">\n     <g id=\"line2d_11\">\n      <g>\n       <use style=\"stroke:#000000;stroke-width:0.8;\" x=\"160.845\" xlink:href=\"#macae82caa7\" y=\"230.304212\"/>\n      </g>\n     </g>\n     <g id=\"text_12\">\n      <!-- 2.5 -->\n      <g transform=\"translate(152.893438 244.902649)scale(0.1 -0.1)\">\n       <use xlink:href=\"#DejaVuSans-50\"/>\n       <use x=\"63.623047\" xlink:href=\"#DejaVuSans-46\"/>\n       <use x=\"95.410156\" xlink:href=\"#DejaVuSans-53\"/>\n      </g>\n     </g>\n    </g>\n    <g id=\"xtick_9\">\n     <g id=\"line2d_12\">\n      <g>\n       <use style=\"stroke:#000000;stroke-width:0.8;\" x=\"272.445\" xlink:href=\"#macae82caa7\" y=\"230.304212\"/>\n      </g>\n     </g>\n     <g id=\"text_13\">\n      <!-- 5.0 -->\n      <g transform=\"translate(264.493437 244.902649)scale(0.1 -0.1)\">\n       <use xlink:href=\"#DejaVuSans-53\"/>\n       <use x=\"63.623047\" xlink:href=\"#DejaVuSans-46\"/>\n       <use x=\"95.410156\" xlink:href=\"#DejaVuSans-48\"/>\n      </g>\n     </g>\n    </g>\n    <g id=\"xtick_10\">\n     <g id=\"line2d_13\">\n      <g>\n       <use style=\"stroke:#000000;stroke-width:0.8;\" x=\"384.045\" xlink:href=\"#macae82caa7\" y=\"230.304212\"/>\n      </g>\n     </g>\n     <g id=\"text_14\">\n      <!-- 7.5 -->\n      <g transform=\"translate(376.093437 244.902649)scale(0.1 -0.1)\">\n       <defs>\n        <path d=\"M 8.203125 72.90625 \nL 55.078125 72.90625 \nL 55.078125 68.703125 \nL 28.609375 0 \nL 18.3125 0 \nL 43.21875 64.59375 \nL 8.203125 64.59375 \nz\n\" id=\"DejaVuSans-55\"/>\n       </defs>\n       <use xlink:href=\"#DejaVuSans-55\"/>\n       <use x=\"63.623047\" xlink:href=\"#DejaVuSans-46\"/>\n       <use x=\"95.410156\" xlink:href=\"#DejaVuSans-53\"/>\n      </g>\n     </g>\n    </g>\n    <g id=\"xtick_11\">\n     <g id=\"line2d_14\">\n      <g>\n       <use style=\"stroke:#000000;stroke-width:0.8;\" x=\"495.645\" xlink:href=\"#macae82caa7\" y=\"230.304212\"/>\n      </g>\n     </g>\n     <g id=\"text_15\">\n      <!-- 10.0 -->\n      <g transform=\"translate(484.512187 244.902649)scale(0.1 -0.1)\">\n       <use xlink:href=\"#DejaVuSans-49\"/>\n       <use x=\"63.623047\" xlink:href=\"#DejaVuSans-48\"/>\n       <use x=\"127.246094\" xlink:href=\"#DejaVuSans-46\"/>\n       <use x=\"159.033203\" xlink:href=\"#DejaVuSans-48\"/>\n      </g>\n     </g>\n    </g>\n    <g id=\"xtick_12\">\n     <g id=\"line2d_15\">\n      <g>\n       <use style=\"stroke:#000000;stroke-width:0.8;\" x=\"607.245\" xlink:href=\"#macae82caa7\" y=\"230.304212\"/>\n      </g>\n     </g>\n     <g id=\"text_16\">\n      <!-- 12.5 -->\n      <g transform=\"translate(596.112188 244.902649)scale(0.1 -0.1)\">\n       <use xlink:href=\"#DejaVuSans-49\"/>\n       <use x=\"63.623047\" xlink:href=\"#DejaVuSans-50\"/>\n       <use x=\"127.246094\" xlink:href=\"#DejaVuSans-46\"/>\n       <use x=\"159.033203\" xlink:href=\"#DejaVuSans-53\"/>\n      </g>\n     </g>\n    </g>\n    <g id=\"xtick_13\">\n     <g id=\"line2d_16\">\n      <g>\n       <use style=\"stroke:#000000;stroke-width:0.8;\" x=\"718.845\" xlink:href=\"#macae82caa7\" y=\"230.304212\"/>\n      </g>\n     </g>\n     <g id=\"text_17\">\n      <!-- 15.0 -->\n      <g transform=\"translate(707.712188 244.902649)scale(0.1 -0.1)\">\n       <use xlink:href=\"#DejaVuSans-49\"/>\n       <use x=\"63.623047\" xlink:href=\"#DejaVuSans-53\"/>\n       <use x=\"127.246094\" xlink:href=\"#DejaVuSans-46\"/>\n       <use x=\"159.033203\" xlink:href=\"#DejaVuSans-48\"/>\n      </g>\n     </g>\n    </g>\n    <g id=\"xtick_14\">\n     <g id=\"line2d_17\">\n      <g>\n       <use style=\"stroke:#000000;stroke-width:0.8;\" x=\"830.445\" xlink:href=\"#macae82caa7\" y=\"230.304212\"/>\n      </g>\n     </g>\n     <g id=\"text_18\">\n      <!-- 17.5 -->\n      <g transform=\"translate(819.312188 244.902649)scale(0.1 -0.1)\">\n       <use xlink:href=\"#DejaVuSans-49\"/>\n       <use x=\"63.623047\" xlink:href=\"#DejaVuSans-55\"/>\n       <use x=\"127.246094\" xlink:href=\"#DejaVuSans-46\"/>\n       <use x=\"159.033203\" xlink:href=\"#DejaVuSans-53\"/>\n      </g>\n     </g>\n    </g>\n   </g>\n   <g id=\"matplotlib.axis_4\">\n    <g id=\"ytick_4\">\n     <g id=\"line2d_18\">\n      <g>\n       <use style=\"stroke:#000000;stroke-width:0.8;\" x=\"26.925\" xlink:href=\"#m6325976c6a\" y=\"137.734647\"/>\n      </g>\n     </g>\n     <g id=\"text_19\">\n      <!-- 0 -->\n      <g transform=\"translate(13.5625 141.533865)scale(0.1 -0.1)\">\n       <use xlink:href=\"#DejaVuSans-48\"/>\n      </g>\n     </g>\n    </g>\n    <g id=\"ytick_5\">\n     <g id=\"line2d_19\">\n      <g>\n       <use style=\"stroke:#000000;stroke-width:0.8;\" x=\"26.925\" xlink:href=\"#m6325976c6a\" y=\"177.125951\"/>\n      </g>\n     </g>\n     <g id=\"text_20\">\n      <!-- 10 -->\n      <g transform=\"translate(7.2 180.92517)scale(0.1 -0.1)\">\n       <use xlink:href=\"#DejaVuSans-49\"/>\n       <use x=\"63.623047\" xlink:href=\"#DejaVuSans-48\"/>\n      </g>\n     </g>\n    </g>\n    <g id=\"ytick_6\">\n     <g id=\"line2d_20\">\n      <g>\n       <use style=\"stroke:#000000;stroke-width:0.8;\" x=\"26.925\" xlink:href=\"#m6325976c6a\" y=\"216.517255\"/>\n      </g>\n     </g>\n     <g id=\"text_21\">\n      <!-- 20 -->\n      <g transform=\"translate(7.2 220.316474)scale(0.1 -0.1)\">\n       <use xlink:href=\"#DejaVuSans-50\"/>\n       <use x=\"63.623047\" xlink:href=\"#DejaVuSans-48\"/>\n      </g>\n     </g>\n    </g>\n   </g>\n   <g id=\"patch_8\">\n    <path d=\"M 26.925 230.304212 \nL 26.925 135.765082 \n\" style=\"fill:none;stroke:#000000;stroke-linecap:square;stroke-linejoin:miter;stroke-width:0.8;\"/>\n   </g>\n   <g id=\"patch_9\">\n    <path d=\"M 919.725 230.304212 \nL 919.725 135.765082 \n\" style=\"fill:none;stroke:#000000;stroke-linecap:square;stroke-linejoin:miter;stroke-width:0.8;\"/>\n   </g>\n   <g id=\"patch_10\">\n    <path d=\"M 26.925 230.304212 \nL 919.725 230.304212 \n\" style=\"fill:none;stroke:#000000;stroke-linecap:square;stroke-linejoin:miter;stroke-width:0.8;\"/>\n   </g>\n   <g id=\"patch_11\">\n    <path d=\"M 26.925 135.765082 \nL 919.725 135.765082 \n\" style=\"fill:none;stroke:#000000;stroke-linecap:square;stroke-linejoin:miter;stroke-width:0.8;\"/>\n   </g>\n   <g id=\"text_22\">\n    <!-- Clip -->\n    <g transform=\"translate(461.9925 129.765082)scale(0.12 -0.12)\">\n     <defs>\n      <path d=\"M 64.40625 67.28125 \nL 64.40625 56.890625 \nQ 59.421875 61.53125 53.78125 63.8125 \nQ 48.140625 66.109375 41.796875 66.109375 \nQ 29.296875 66.109375 22.65625 58.46875 \nQ 16.015625 50.828125 16.015625 36.375 \nQ 16.015625 21.96875 22.65625 14.328125 \nQ 29.296875 6.6875 41.796875 6.6875 \nQ 48.140625 6.6875 53.78125 8.984375 \nQ 59.421875 11.28125 64.40625 15.921875 \nL 64.40625 5.609375 \nQ 59.234375 2.09375 53.4375 0.328125 \nQ 47.65625 -1.421875 41.21875 -1.421875 \nQ 24.65625 -1.421875 15.125 8.703125 \nQ 5.609375 18.84375 5.609375 36.375 \nQ 5.609375 53.953125 15.125 64.078125 \nQ 24.65625 74.21875 41.21875 74.21875 \nQ 47.75 74.21875 53.53125 72.484375 \nQ 59.328125 70.75 64.40625 67.28125 \nz\n\" id=\"DejaVuSans-67\"/>\n      <path d=\"M 18.109375 8.203125 \nL 18.109375 -20.796875 \nL 9.078125 -20.796875 \nL 9.078125 54.6875 \nL 18.109375 54.6875 \nL 18.109375 46.390625 \nQ 20.953125 51.265625 25.265625 53.625 \nQ 29.59375 56 35.59375 56 \nQ 45.5625 56 51.78125 48.09375 \nQ 58.015625 40.1875 58.015625 27.296875 \nQ 58.015625 14.40625 51.78125 6.484375 \nQ 45.5625 -1.421875 35.59375 -1.421875 \nQ 29.59375 -1.421875 25.265625 0.953125 \nQ 20.953125 3.328125 18.109375 8.203125 \nz\nM 48.6875 27.296875 \nQ 48.6875 37.203125 44.609375 42.84375 \nQ 40.53125 48.484375 33.40625 48.484375 \nQ 26.265625 48.484375 22.1875 42.84375 \nQ 18.109375 37.203125 18.109375 27.296875 \nQ 18.109375 17.390625 22.1875 11.75 \nQ 26.265625 6.109375 33.40625 6.109375 \nQ 40.53125 6.109375 44.609375 11.75 \nQ 48.6875 17.390625 48.6875 27.296875 \nz\n\" id=\"DejaVuSans-112\"/>\n     </defs>\n     <use xlink:href=\"#DejaVuSans-67\"/>\n     <use x=\"69.824219\" xlink:href=\"#DejaVuSans-108\"/>\n     <use x=\"97.607422\" xlink:href=\"#DejaVuSans-105\"/>\n     <use x=\"125.390625\" xlink:href=\"#DejaVuSans-112\"/>\n    </g>\n   </g>\n  </g>\n  <g id=\"axes_3\">\n   <g id=\"patch_12\">\n    <path d=\"M 26.925 343.751168 \nL 919.725 343.751168 \nL 919.725 249.212038 \nL 26.925 249.212038 \nz\n\" style=\"fill:#ffffff;\"/>\n   </g>\n   <g clip-path=\"url(#p3675242777)\">\n    <image height=\"95\" id=\"image1cc7b8730c\" transform=\"scale(1 -1)translate(0 -95)\" width=\"893\" x=\"26.925\" xlink:href=\"data:image/png;base64,\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\" y=\"-248.751168\"/>\n   </g>\n   <g id=\"matplotlib.axis_5\">\n    <g id=\"xtick_15\">\n     <g id=\"line2d_21\">\n      <g>\n       <use style=\"stroke:#000000;stroke-width:0.8;\" x=\"29.461364\" xlink:href=\"#macae82caa7\" y=\"343.751168\"/>\n      </g>\n     </g>\n     <g id=\"text_23\">\n      <!-- 0 -->\n      <g transform=\"translate(26.280114 358.349606)scale(0.1 -0.1)\">\n       <use xlink:href=\"#DejaVuSans-48\"/>\n      </g>\n     </g>\n    </g>\n    <g id=\"xtick_16\">\n     <g id=\"line2d_22\">\n      <g>\n       <use style=\"stroke:#000000;stroke-width:0.8;\" x=\"130.915909\" xlink:href=\"#macae82caa7\" y=\"343.751168\"/>\n      </g>\n     </g>\n     <g id=\"text_24\">\n      <!-- 20 -->\n      <g transform=\"translate(124.553409 358.349606)scale(0.1 -0.1)\">\n       <use xlink:href=\"#DejaVuSans-50\"/>\n       <use x=\"63.623047\" xlink:href=\"#DejaVuSans-48\"/>\n      </g>\n     </g>\n    </g>\n    <g id=\"xtick_17\">\n     <g id=\"line2d_23\">\n      <g>\n       <use style=\"stroke:#000000;stroke-width:0.8;\" x=\"232.370455\" xlink:href=\"#macae82caa7\" y=\"343.751168\"/>\n      </g>\n     </g>\n     <g id=\"text_25\">\n      <!-- 40 -->\n      <g transform=\"translate(226.007955 358.349606)scale(0.1 -0.1)\">\n       <use xlink:href=\"#DejaVuSans-52\"/>\n       <use x=\"63.623047\" xlink:href=\"#DejaVuSans-48\"/>\n      </g>\n     </g>\n    </g>\n    <g id=\"xtick_18\">\n     <g id=\"line2d_24\">\n      <g>\n       <use style=\"stroke:#000000;stroke-width:0.8;\" x=\"333.825\" xlink:href=\"#macae82caa7\" y=\"343.751168\"/>\n      </g>\n     </g>\n     <g id=\"text_26\">\n      <!-- 60 -->\n      <g transform=\"translate(327.4625 358.349606)scale(0.1 -0.1)\">\n       <defs>\n        <path d=\"M 33.015625 40.375 \nQ 26.375 40.375 22.484375 35.828125 \nQ 18.609375 31.296875 18.609375 23.390625 \nQ 18.609375 15.53125 22.484375 10.953125 \nQ 26.375 6.390625 33.015625 6.390625 \nQ 39.65625 6.390625 43.53125 10.953125 \nQ 47.40625 15.53125 47.40625 23.390625 \nQ 47.40625 31.296875 43.53125 35.828125 \nQ 39.65625 40.375 33.015625 40.375 \nz\nM 52.59375 71.296875 \nL 52.59375 62.3125 \nQ 48.875 64.0625 45.09375 64.984375 \nQ 41.3125 65.921875 37.59375 65.921875 \nQ 27.828125 65.921875 22.671875 59.328125 \nQ 17.53125 52.734375 16.796875 39.40625 \nQ 19.671875 43.65625 24.015625 45.921875 \nQ 28.375 48.1875 33.59375 48.1875 \nQ 44.578125 48.1875 50.953125 41.515625 \nQ 57.328125 34.859375 57.328125 23.390625 \nQ 57.328125 12.15625 50.6875 5.359375 \nQ 44.046875 -1.421875 33.015625 -1.421875 \nQ 20.359375 -1.421875 13.671875 8.265625 \nQ 6.984375 17.96875 6.984375 36.375 \nQ 6.984375 53.65625 15.1875 63.9375 \nQ 23.390625 74.21875 37.203125 74.21875 \nQ 40.921875 74.21875 44.703125 73.484375 \nQ 48.484375 72.75 52.59375 71.296875 \nz\n\" id=\"DejaVuSans-54\"/>\n       </defs>\n       <use xlink:href=\"#DejaVuSans-54\"/>\n       <use x=\"63.623047\" xlink:href=\"#DejaVuSans-48\"/>\n      </g>\n     </g>\n    </g>\n    <g id=\"xtick_19\">\n     <g id=\"line2d_25\">\n      <g>\n       <use style=\"stroke:#000000;stroke-width:0.8;\" x=\"435.279545\" xlink:href=\"#macae82caa7\" y=\"343.751168\"/>\n      </g>\n     </g>\n     <g id=\"text_27\">\n      <!-- 80 -->\n      <g transform=\"translate(428.917045 358.349606)scale(0.1 -0.1)\">\n       <defs>\n        <path d=\"M 31.78125 34.625 \nQ 24.75 34.625 20.71875 30.859375 \nQ 16.703125 27.09375 16.703125 20.515625 \nQ 16.703125 13.921875 20.71875 10.15625 \nQ 24.75 6.390625 31.78125 6.390625 \nQ 38.8125 6.390625 42.859375 10.171875 \nQ 46.921875 13.96875 46.921875 20.515625 \nQ 46.921875 27.09375 42.890625 30.859375 \nQ 38.875 34.625 31.78125 34.625 \nz\nM 21.921875 38.8125 \nQ 15.578125 40.375 12.03125 44.71875 \nQ 8.5 49.078125 8.5 55.328125 \nQ 8.5 64.0625 14.71875 69.140625 \nQ 20.953125 74.21875 31.78125 74.21875 \nQ 42.671875 74.21875 48.875 69.140625 \nQ 55.078125 64.0625 55.078125 55.328125 \nQ 55.078125 49.078125 51.53125 44.71875 \nQ 48 40.375 41.703125 38.8125 \nQ 48.828125 37.15625 52.796875 32.3125 \nQ 56.78125 27.484375 56.78125 20.515625 \nQ 56.78125 9.90625 50.3125 4.234375 \nQ 43.84375 -1.421875 31.78125 -1.421875 \nQ 19.734375 -1.421875 13.25 4.234375 \nQ 6.78125 9.90625 6.78125 20.515625 \nQ 6.78125 27.484375 10.78125 32.3125 \nQ 14.796875 37.15625 21.921875 38.8125 \nz\nM 18.3125 54.390625 \nQ 18.3125 48.734375 21.84375 45.5625 \nQ 25.390625 42.390625 31.78125 42.390625 \nQ 38.140625 42.390625 41.71875 45.5625 \nQ 45.3125 48.734375 45.3125 54.390625 \nQ 45.3125 60.0625 41.71875 63.234375 \nQ 38.140625 66.40625 31.78125 66.40625 \nQ 25.390625 66.40625 21.84375 63.234375 \nQ 18.3125 60.0625 18.3125 54.390625 \nz\n\" id=\"DejaVuSans-56\"/>\n       </defs>\n       <use xlink:href=\"#DejaVuSans-56\"/>\n       <use x=\"63.623047\" xlink:href=\"#DejaVuSans-48\"/>\n      </g>\n     </g>\n    </g>\n    <g id=\"xtick_20\">\n     <g id=\"line2d_26\">\n      <g>\n       <use style=\"stroke:#000000;stroke-width:0.8;\" x=\"536.734091\" xlink:href=\"#macae82caa7\" y=\"343.751168\"/>\n      </g>\n     </g>\n     <g id=\"text_28\">\n      <!-- 100 -->\n      <g transform=\"translate(527.190341 358.349606)scale(0.1 -0.1)\">\n       <use xlink:href=\"#DejaVuSans-49\"/>\n       <use x=\"63.623047\" xlink:href=\"#DejaVuSans-48\"/>\n       <use x=\"127.246094\" xlink:href=\"#DejaVuSans-48\"/>\n      </g>\n     </g>\n    </g>\n    <g id=\"xtick_21\">\n     <g id=\"line2d_27\">\n      <g>\n       <use style=\"stroke:#000000;stroke-width:0.8;\" x=\"638.188636\" xlink:href=\"#macae82caa7\" y=\"343.751168\"/>\n      </g>\n     </g>\n     <g id=\"text_29\">\n      <!-- 120 -->\n      <g transform=\"translate(628.644886 358.349606)scale(0.1 -0.1)\">\n       <use xlink:href=\"#DejaVuSans-49\"/>\n       <use x=\"63.623047\" xlink:href=\"#DejaVuSans-50\"/>\n       <use x=\"127.246094\" xlink:href=\"#DejaVuSans-48\"/>\n      </g>\n     </g>\n    </g>\n    <g id=\"xtick_22\">\n     <g id=\"line2d_28\">\n      <g>\n       <use style=\"stroke:#000000;stroke-width:0.8;\" x=\"739.643182\" xlink:href=\"#macae82caa7\" y=\"343.751168\"/>\n      </g>\n     </g>\n     <g id=\"text_30\">\n      <!-- 140 -->\n      <g transform=\"translate(730.099432 358.349606)scale(0.1 -0.1)\">\n       <use xlink:href=\"#DejaVuSans-49\"/>\n       <use x=\"63.623047\" xlink:href=\"#DejaVuSans-52\"/>\n       <use x=\"127.246094\" xlink:href=\"#DejaVuSans-48\"/>\n      </g>\n     </g>\n    </g>\n    <g id=\"xtick_23\">\n     <g id=\"line2d_29\">\n      <g>\n       <use style=\"stroke:#000000;stroke-width:0.8;\" x=\"841.097727\" xlink:href=\"#macae82caa7\" y=\"343.751168\"/>\n      </g>\n     </g>\n     <g id=\"text_31\">\n      <!-- 160 -->\n      <g transform=\"translate(831.553977 358.349606)scale(0.1 -0.1)\">\n       <use xlink:href=\"#DejaVuSans-49\"/>\n       <use x=\"63.623047\" xlink:href=\"#DejaVuSans-54\"/>\n       <use x=\"127.246094\" xlink:href=\"#DejaVuSans-48\"/>\n      </g>\n     </g>\n    </g>\n   </g>\n   <g id=\"matplotlib.axis_6\">\n    <g id=\"ytick_7\">\n     <g id=\"line2d_30\">\n      <g>\n       <use style=\"stroke:#000000;stroke-width:0.8;\" x=\"26.925\" xlink:href=\"#m6325976c6a\" y=\"251.181603\"/>\n      </g>\n     </g>\n     <g id=\"text_32\">\n      <!-- 0 -->\n      <g transform=\"translate(13.5625 254.980822)scale(0.1 -0.1)\">\n       <use xlink:href=\"#DejaVuSans-48\"/>\n      </g>\n     </g>\n    </g>\n    <g id=\"ytick_8\">\n     <g id=\"line2d_31\">\n      <g>\n       <use style=\"stroke:#000000;stroke-width:0.8;\" x=\"26.925\" xlink:href=\"#m6325976c6a\" y=\"290.572908\"/>\n      </g>\n     </g>\n     <g id=\"text_33\">\n      <!-- 10 -->\n      <g transform=\"translate(7.2 294.372126)scale(0.1 -0.1)\">\n       <use xlink:href=\"#DejaVuSans-49\"/>\n       <use x=\"63.623047\" xlink:href=\"#DejaVuSans-48\"/>\n      </g>\n     </g>\n    </g>\n    <g id=\"ytick_9\">\n     <g id=\"line2d_32\">\n      <g>\n       <use style=\"stroke:#000000;stroke-width:0.8;\" x=\"26.925\" xlink:href=\"#m6325976c6a\" y=\"329.964212\"/>\n      </g>\n     </g>\n     <g id=\"text_34\">\n      <!-- 20 -->\n      <g transform=\"translate(7.2 333.763431)scale(0.1 -0.1)\">\n       <use xlink:href=\"#DejaVuSans-50\"/>\n       <use x=\"63.623047\" xlink:href=\"#DejaVuSans-48\"/>\n      </g>\n     </g>\n    </g>\n   </g>\n   <g id=\"patch_13\">\n    <path d=\"M 26.925 343.751168 \nL 26.925 249.212038 \n\" style=\"fill:none;stroke:#000000;stroke-linecap:square;stroke-linejoin:miter;stroke-width:0.8;\"/>\n   </g>\n   <g id=\"patch_14\">\n    <path d=\"M 919.725 343.751168 \nL 919.725 249.212038 \n\" style=\"fill:none;stroke:#000000;stroke-linecap:square;stroke-linejoin:miter;stroke-width:0.8;\"/>\n   </g>\n   <g id=\"patch_15\">\n    <path d=\"M 26.925 343.751168 \nL 919.725 343.751168 \n\" style=\"fill:none;stroke:#000000;stroke-linecap:square;stroke-linejoin:miter;stroke-width:0.8;\"/>\n   </g>\n   <g id=\"patch_16\">\n    <path d=\"M 26.925 249.212038 \nL 919.725 249.212038 \n\" style=\"fill:none;stroke:#000000;stroke-linecap:square;stroke-linejoin:miter;stroke-width:0.8;\"/>\n   </g>\n   <g id=\"text_35\">\n    <!-- Frame -->\n    <g transform=\"translate(454.629375 243.212038)scale(0.12 -0.12)\">\n     <defs>\n      <path d=\"M 9.8125 72.90625 \nL 51.703125 72.90625 \nL 51.703125 64.59375 \nL 19.671875 64.59375 \nL 19.671875 43.109375 \nL 48.578125 43.109375 \nL 48.578125 34.8125 \nL 19.671875 34.8125 \nL 19.671875 0 \nL 9.8125 0 \nz\n\" id=\"DejaVuSans-70\"/>\n      <path d=\"M 52 44.1875 \nQ 55.375 50.25 60.0625 53.125 \nQ 64.75 56 71.09375 56 \nQ 79.640625 56 84.28125 50.015625 \nQ 88.921875 44.046875 88.921875 33.015625 \nL 88.921875 0 \nL 79.890625 0 \nL 79.890625 32.71875 \nQ 79.890625 40.578125 77.09375 44.375 \nQ 74.3125 48.1875 68.609375 48.1875 \nQ 61.625 48.1875 57.5625 43.546875 \nQ 53.515625 38.921875 53.515625 30.90625 \nL 53.515625 0 \nL 44.484375 0 \nL 44.484375 32.71875 \nQ 44.484375 40.625 41.703125 44.40625 \nQ 38.921875 48.1875 33.109375 48.1875 \nQ 26.21875 48.1875 22.15625 43.53125 \nQ 18.109375 38.875 18.109375 30.90625 \nL 18.109375 0 \nL 9.078125 0 \nL 9.078125 54.6875 \nL 18.109375 54.6875 \nL 18.109375 46.1875 \nQ 21.1875 51.21875 25.484375 53.609375 \nQ 29.78125 56 35.6875 56 \nQ 41.65625 56 45.828125 52.96875 \nQ 50 49.953125 52 44.1875 \nz\n\" id=\"DejaVuSans-109\"/>\n      <path d=\"M 56.203125 29.59375 \nL 56.203125 25.203125 \nL 14.890625 25.203125 \nQ 15.484375 15.921875 20.484375 11.0625 \nQ 25.484375 6.203125 34.421875 6.203125 \nQ 39.59375 6.203125 44.453125 7.46875 \nQ 49.3125 8.734375 54.109375 11.28125 \nL 54.109375 2.78125 \nQ 49.265625 0.734375 44.1875 -0.34375 \nQ 39.109375 -1.421875 33.890625 -1.421875 \nQ 20.796875 -1.421875 13.15625 6.1875 \nQ 5.515625 13.8125 5.515625 26.8125 \nQ 5.515625 40.234375 12.765625 48.109375 \nQ 20.015625 56 32.328125 56 \nQ 43.359375 56 49.78125 48.890625 \nQ 56.203125 41.796875 56.203125 29.59375 \nz\nM 47.21875 32.234375 \nQ 47.125 39.59375 43.09375 43.984375 \nQ 39.0625 48.390625 32.421875 48.390625 \nQ 24.90625 48.390625 20.390625 44.140625 \nQ 15.875 39.890625 15.1875 32.171875 \nz\n\" id=\"DejaVuSans-101\"/>\n     </defs>\n     <use xlink:href=\"#DejaVuSans-70\"/>\n     <use x=\"50.269531\" xlink:href=\"#DejaVuSans-114\"/>\n     <use x=\"91.382812\" xlink:href=\"#DejaVuSans-97\"/>\n     <use x=\"152.662109\" xlink:href=\"#DejaVuSans-109\"/>\n     <use x=\"250.074219\" xlink:href=\"#DejaVuSans-101\"/>\n    </g>\n   </g>\n  </g>\n  <g id=\"axes_4\">\n   <g id=\"patch_17\">\n    <path d=\"M 26.925 457.198125 \nL 919.725 457.198125 \nL 919.725 362.658995 \nL 26.925 362.658995 \nz\n\" style=\"fill:#ffffff;\"/>\n   </g>\n   <g clip-path=\"url(#p5665a6810e)\">\n    <image height=\"95\" id=\"imageea791d260b\" transform=\"scale(1 -1)translate(0 -95)\" width=\"893\" x=\"26.925\" xlink:href=\"data:image/png;base64,\niVBORw0KGgoAAAANSUhEUgAAA30AAABfCAYAAABcBq4ZAAACgklEQVR4nO3ZoXECURhG0WygDBQmApcaKIEqKANDAVSRBphh0IlOFdQQFShgLbDDnXPkb95n77xhPWyubwAAACS9Tz0AAACAxxF9AAAAYaIPAAAgTPQBAACEiT4AAIAw0QcAABAm+gAAAMJEHwAAQJjoAwAACBN9AAAAYaIPAAAgTPQBAACEiT4AAIAw0QcAABAm+gAAAMJEHwAAQJjoAwAACBN9AAAAYaIPAAAgTPQBAACEiT4AAIAw0QcAABAm+gAAAMLmUw8AAICC2epjdDuevyZYcn+rw3Z0W+x/nvL26fI7un3//Y9uu+XnE9a8Jj99AAAAYaIPAAAgTPQBAACEDethc516BAAAAI/hpw8AACBM9AEAAISJPgAAgDDRBwAAECb6AAAAwkQfAABAmOgDAAAIE30AAABhog8AACBM9AEAAISJPgAAgDDRBwAAECb6AAAAwkQfAABAmOgDAAAIE30AAABhog8AACBM9AEAAISJPgAAgDDRBwAAECb6AAAAwkQfAABAmOgDAAAIE30AAABhog8AACBM9AEAAISJPgAAgDDRBwAAECb6AAAAwkQfAABAmOgDAAAIE30AAABhog8AACBM9AEAAISJPgAAgDDRBwAAECb6AAAAwkQfAABAmOgDAAAIE30AAABhog8AACBM9AEAAISJPgAAgDDRBwAAECb6AAAAwkQfAABAmOgDAAAIE30AAABhog8AACBM9AEAAISJPgAAgDDRBwAAECb6AAAAwkQfAABAmOgDAAAIE30AAABhog8AACBM9AEAAISJPgAAgDDRBwAAECb6AAAAwkQfAABAmOgDAAAIE30AAABhog8AACBM9AEAAITdAOLfDu/4/mpGAAAAAElFTkSuQmCC\" y=\"-362.198125\"/>\n   </g>\n   <g id=\"matplotlib.axis_7\">\n    <g id=\"xtick_24\">\n     <g id=\"line2d_33\">\n      <g>\n       <use style=\"stroke:#000000;stroke-width:0.8;\" x=\"29.461364\" xlink:href=\"#macae82caa7\" y=\"457.198125\"/>\n      </g>\n     </g>\n     <g id=\"text_36\">\n      <!-- 0 -->\n      <g transform=\"translate(26.280114 471.796562)scale(0.1 -0.1)\">\n       <use xlink:href=\"#DejaVuSans-48\"/>\n      </g>\n     </g>\n    </g>\n    <g id=\"xtick_25\">\n     <g id=\"line2d_34\">\n      <g>\n       <use style=\"stroke:#000000;stroke-width:0.8;\" x=\"130.915909\" xlink:href=\"#macae82caa7\" y=\"457.198125\"/>\n      </g>\n     </g>\n     <g id=\"text_37\">\n      <!-- 20 -->\n      <g transform=\"translate(124.553409 471.796562)scale(0.1 -0.1)\">\n       <use xlink:href=\"#DejaVuSans-50\"/>\n       <use x=\"63.623047\" xlink:href=\"#DejaVuSans-48\"/>\n      </g>\n     </g>\n    </g>\n    <g id=\"xtick_26\">\n     <g id=\"line2d_35\">\n      <g>\n       <use style=\"stroke:#000000;stroke-width:0.8;\" x=\"232.370455\" xlink:href=\"#macae82caa7\" y=\"457.198125\"/>\n      </g>\n     </g>\n     <g id=\"text_38\">\n      <!-- 40 -->\n      <g transform=\"translate(226.007955 471.796562)scale(0.1 -0.1)\">\n       <use xlink:href=\"#DejaVuSans-52\"/>\n       <use x=\"63.623047\" xlink:href=\"#DejaVuSans-48\"/>\n      </g>\n     </g>\n    </g>\n    <g id=\"xtick_27\">\n     <g id=\"line2d_36\">\n      <g>\n       <use style=\"stroke:#000000;stroke-width:0.8;\" x=\"333.825\" xlink:href=\"#macae82caa7\" y=\"457.198125\"/>\n      </g>\n     </g>\n     <g id=\"text_39\">\n      <!-- 60 -->\n      <g transform=\"translate(327.4625 471.796562)scale(0.1 -0.1)\">\n       <use xlink:href=\"#DejaVuSans-54\"/>\n       <use x=\"63.623047\" xlink:href=\"#DejaVuSans-48\"/>\n      </g>\n     </g>\n    </g>\n    <g id=\"xtick_28\">\n     <g id=\"line2d_37\">\n      <g>\n       <use style=\"stroke:#000000;stroke-width:0.8;\" x=\"435.279545\" xlink:href=\"#macae82caa7\" y=\"457.198125\"/>\n      </g>\n     </g>\n     <g id=\"text_40\">\n      <!-- 80 -->\n      <g transform=\"translate(428.917045 471.796562)scale(0.1 -0.1)\">\n       <use xlink:href=\"#DejaVuSans-56\"/>\n       <use x=\"63.623047\" xlink:href=\"#DejaVuSans-48\"/>\n      </g>\n     </g>\n    </g>\n    <g id=\"xtick_29\">\n     <g id=\"line2d_38\">\n      <g>\n       <use style=\"stroke:#000000;stroke-width:0.8;\" x=\"536.734091\" xlink:href=\"#macae82caa7\" y=\"457.198125\"/>\n      </g>\n     </g>\n     <g id=\"text_41\">\n      <!-- 100 -->\n      <g transform=\"translate(527.190341 471.796562)scale(0.1 -0.1)\">\n       <use xlink:href=\"#DejaVuSans-49\"/>\n       <use x=\"63.623047\" xlink:href=\"#DejaVuSans-48\"/>\n       <use x=\"127.246094\" xlink:href=\"#DejaVuSans-48\"/>\n      </g>\n     </g>\n    </g>\n    <g id=\"xtick_30\">\n     <g id=\"line2d_39\">\n      <g>\n       <use style=\"stroke:#000000;stroke-width:0.8;\" x=\"638.188636\" xlink:href=\"#macae82caa7\" y=\"457.198125\"/>\n      </g>\n     </g>\n     <g id=\"text_42\">\n      <!-- 120 -->\n      <g transform=\"translate(628.644886 471.796562)scale(0.1 -0.1)\">\n       <use xlink:href=\"#DejaVuSans-49\"/>\n       <use x=\"63.623047\" xlink:href=\"#DejaVuSans-50\"/>\n       <use x=\"127.246094\" xlink:href=\"#DejaVuSans-48\"/>\n      </g>\n     </g>\n    </g>\n    <g id=\"xtick_31\">\n     <g id=\"line2d_40\">\n      <g>\n       <use style=\"stroke:#000000;stroke-width:0.8;\" x=\"739.643182\" xlink:href=\"#macae82caa7\" y=\"457.198125\"/>\n      </g>\n     </g>\n     <g id=\"text_43\">\n      <!-- 140 -->\n      <g transform=\"translate(730.099432 471.796562)scale(0.1 -0.1)\">\n       <use xlink:href=\"#DejaVuSans-49\"/>\n       <use x=\"63.623047\" xlink:href=\"#DejaVuSans-52\"/>\n       <use x=\"127.246094\" xlink:href=\"#DejaVuSans-48\"/>\n      </g>\n     </g>\n    </g>\n    <g id=\"xtick_32\">\n     <g id=\"line2d_41\">\n      <g>\n       <use style=\"stroke:#000000;stroke-width:0.8;\" x=\"841.097727\" xlink:href=\"#macae82caa7\" y=\"457.198125\"/>\n      </g>\n     </g>\n     <g id=\"text_44\">\n      <!-- 160 -->\n      <g transform=\"translate(831.553977 471.796562)scale(0.1 -0.1)\">\n       <use xlink:href=\"#DejaVuSans-49\"/>\n       <use x=\"63.623047\" xlink:href=\"#DejaVuSans-54\"/>\n       <use x=\"127.246094\" xlink:href=\"#DejaVuSans-48\"/>\n      </g>\n     </g>\n    </g>\n   </g>\n   <g id=\"matplotlib.axis_8\">\n    <g id=\"ytick_10\">\n     <g id=\"line2d_42\">\n      <g>\n       <use style=\"stroke:#000000;stroke-width:0.8;\" x=\"26.925\" xlink:href=\"#m6325976c6a\" y=\"364.62856\"/>\n      </g>\n     </g>\n     <g id=\"text_45\">\n      <!-- 0 -->\n      <g transform=\"translate(13.5625 368.427779)scale(0.1 -0.1)\">\n       <use xlink:href=\"#DejaVuSans-48\"/>\n      </g>\n     </g>\n    </g>\n    <g id=\"ytick_11\">\n     <g id=\"line2d_43\">\n      <g>\n       <use style=\"stroke:#000000;stroke-width:0.8;\" x=\"26.925\" xlink:href=\"#m6325976c6a\" y=\"404.019864\"/>\n      </g>\n     </g>\n     <g id=\"text_46\">\n      <!-- 10 -->\n      <g transform=\"translate(7.2 407.819083)scale(0.1 -0.1)\">\n       <use xlink:href=\"#DejaVuSans-49\"/>\n       <use x=\"63.623047\" xlink:href=\"#DejaVuSans-48\"/>\n      </g>\n     </g>\n    </g>\n    <g id=\"ytick_12\">\n     <g id=\"line2d_44\">\n      <g>\n       <use style=\"stroke:#000000;stroke-width:0.8;\" x=\"26.925\" xlink:href=\"#m6325976c6a\" y=\"443.411168\"/>\n      </g>\n     </g>\n     <g id=\"text_47\">\n      <!-- 20 -->\n      <g transform=\"translate(7.2 447.210387)scale(0.1 -0.1)\">\n       <use xlink:href=\"#DejaVuSans-50\"/>\n       <use x=\"63.623047\" xlink:href=\"#DejaVuSans-48\"/>\n      </g>\n     </g>\n    </g>\n   </g>\n   <g id=\"patch_18\">\n    <path d=\"M 26.925 457.198125 \nL 26.925 362.658995 \n\" style=\"fill:none;stroke:#000000;stroke-linecap:square;stroke-linejoin:miter;stroke-width:0.8;\"/>\n   </g>\n   <g id=\"patch_19\">\n    <path d=\"M 919.725 457.198125 \nL 919.725 362.658995 \n\" style=\"fill:none;stroke:#000000;stroke-linecap:square;stroke-linejoin:miter;stroke-width:0.8;\"/>\n   </g>\n   <g id=\"patch_20\">\n    <path d=\"M 26.925 457.198125 \nL 919.725 457.198125 \n\" style=\"fill:none;stroke:#000000;stroke-linecap:square;stroke-linejoin:miter;stroke-width:0.8;\"/>\n   </g>\n   <g id=\"patch_21\">\n    <path d=\"M 26.925 362.658995 \nL 919.725 362.658995 \n\" style=\"fill:none;stroke:#000000;stroke-linecap:square;stroke-linejoin:miter;stroke-width:0.8;\"/>\n   </g>\n   <g id=\"text_48\">\n    <!-- Frame-true -->\n    <g transform=\"translate(440.151563 356.658995)scale(0.12 -0.12)\">\n     <defs>\n      <path d=\"M 4.890625 31.390625 \nL 31.203125 31.390625 \nL 31.203125 23.390625 \nL 4.890625 23.390625 \nz\n\" id=\"DejaVuSans-45\"/>\n      <path d=\"M 18.3125 70.21875 \nL 18.3125 54.6875 \nL 36.8125 54.6875 \nL 36.8125 47.703125 \nL 18.3125 47.703125 \nL 18.3125 18.015625 \nQ 18.3125 11.328125 20.140625 9.421875 \nQ 21.96875 7.515625 27.59375 7.515625 \nL 36.8125 7.515625 \nL 36.8125 0 \nL 27.59375 0 \nQ 17.1875 0 13.234375 3.875 \nQ 9.28125 7.765625 9.28125 18.015625 \nL 9.28125 47.703125 \nL 2.6875 47.703125 \nL 2.6875 54.6875 \nL 9.28125 54.6875 \nL 9.28125 70.21875 \nz\n\" id=\"DejaVuSans-116\"/>\n      <path d=\"M 8.5 21.578125 \nL 8.5 54.6875 \nL 17.484375 54.6875 \nL 17.484375 21.921875 \nQ 17.484375 14.15625 20.5 10.265625 \nQ 23.53125 6.390625 29.59375 6.390625 \nQ 36.859375 6.390625 41.078125 11.03125 \nQ 45.3125 15.671875 45.3125 23.6875 \nL 45.3125 54.6875 \nL 54.296875 54.6875 \nL 54.296875 0 \nL 45.3125 0 \nL 45.3125 8.40625 \nQ 42.046875 3.421875 37.71875 1 \nQ 33.40625 -1.421875 27.6875 -1.421875 \nQ 18.265625 -1.421875 13.375 4.4375 \nQ 8.5 10.296875 8.5 21.578125 \nz\nM 31.109375 56 \nz\n\" id=\"DejaVuSans-117\"/>\n     </defs>\n     <use xlink:href=\"#DejaVuSans-70\"/>\n     <use x=\"50.269531\" xlink:href=\"#DejaVuSans-114\"/>\n     <use x=\"91.382812\" xlink:href=\"#DejaVuSans-97\"/>\n     <use x=\"152.662109\" xlink:href=\"#DejaVuSans-109\"/>\n     <use x=\"250.074219\" xlink:href=\"#DejaVuSans-101\"/>\n     <use x=\"311.597656\" xlink:href=\"#DejaVuSans-45\"/>\n     <use x=\"347.681641\" xlink:href=\"#DejaVuSans-116\"/>\n     <use x=\"386.890625\" xlink:href=\"#DejaVuSans-114\"/>\n     <use x=\"428.003906\" xlink:href=\"#DejaVuSans-117\"/>\n     <use x=\"491.382812\" xlink:href=\"#DejaVuSans-101\"/>\n    </g>\n   </g>\n  </g>\n </g>\n <defs>\n  <clipPath id=\"p5d2462afc0\">\n   <rect height=\"94.53913\" width=\"892.8\" x=\"26.925\" y=\"22.318125\"/>\n  </clipPath>\n  <clipPath id=\"p5b655a4756\">\n   <rect height=\"94.53913\" width=\"892.8\" x=\"26.925\" y=\"135.765082\"/>\n  </clipPath>\n  <clipPath id=\"p3675242777\">\n   <rect height=\"94.53913\" width=\"892.8\" x=\"26.925\" y=\"249.212038\"/>\n  </clipPath>\n  <clipPath id=\"p5665a6810e\">\n   <rect height=\"94.53913\" width=\"892.8\" x=\"26.925\" y=\"362.658995\"/>\n  </clipPath>\n </defs>\n</svg>\n",
      "image/png": "[encoded data removed]"
     },
     "metadata": {
      "needs_background": "light"
     }
    }
   ],
   "source": [
    "plt.figure(figsize=(16, 8))\n",
    "plt.subplot(4, 1, 1)\n",
    "plt.title(\"Original\")\n",
    "plt.imshow(idx_matrix.T, aspect=\"auto\")\n",
    "plt.subplot(4, 1, 2)\n",
    "plt.title(\"Clip\")\n",
    "plt.imshow(y_clip[idx].T, aspect=\"auto\")\n",
    "plt.subplot(4, 1, 3)\n",
    "plt.title(\"Frame\")\n",
    "plt.imshow(concat_y_frame.T, aspect=\"auto\")\n",
    "plt.subplot(4, 1, 4)\n",
    "plt.title(\"Frame-true\")\n",
    "plt.imshow(concat_ground_truth.T, aspect=\"auto\")"
   ]
  },
  {
   "cell_type": "code",
   "execution_count": null,
   "metadata": {},
   "outputs": [],
   "source": []
  }
 ]
}